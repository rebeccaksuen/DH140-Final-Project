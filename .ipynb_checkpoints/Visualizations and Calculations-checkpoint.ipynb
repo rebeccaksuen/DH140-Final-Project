{
 "cells": [
  {
   "cell_type": "code",
   "execution_count": 42,
   "id": "43d1fc15",
   "metadata": {},
   "outputs": [
    {
     "data": {
      "text/html": [
       "<div>\n",
       "<style scoped>\n",
       "    .dataframe tbody tr th:only-of-type {\n",
       "        vertical-align: middle;\n",
       "    }\n",
       "\n",
       "    .dataframe tbody tr th {\n",
       "        vertical-align: top;\n",
       "    }\n",
       "\n",
       "    .dataframe thead th {\n",
       "        text-align: right;\n",
       "    }\n",
       "</style>\n",
       "<table border=\"1\" class=\"dataframe\">\n",
       "  <thead>\n",
       "    <tr style=\"text-align: right;\">\n",
       "      <th></th>\n",
       "      <th>artist</th>\n",
       "      <th>museum</th>\n",
       "      <th>gender</th>\n",
       "      <th>ethnicity</th>\n",
       "      <th>GEO3major</th>\n",
       "      <th>year</th>\n",
       "    </tr>\n",
       "  </thead>\n",
       "  <tbody>\n",
       "    <tr>\n",
       "      <th>0</th>\n",
       "      <td>Kikugawa Eishin (Hideyoshi)</td>\n",
       "      <td>Art Institute of Chicago</td>\n",
       "      <td>NaN</td>\n",
       "      <td>asian</td>\n",
       "      <td>Asia and the Pacific</td>\n",
       "      <td>NaN</td>\n",
       "    </tr>\n",
       "    <tr>\n",
       "      <th>1</th>\n",
       "      <td>Gordon C. Abbott</td>\n",
       "      <td>Art Institute of Chicago</td>\n",
       "      <td>man</td>\n",
       "      <td>white</td>\n",
       "      <td>North America</td>\n",
       "      <td>1880.0</td>\n",
       "    </tr>\n",
       "    <tr>\n",
       "      <th>2</th>\n",
       "      <td>Sigmund Abeles</td>\n",
       "      <td>Art Institute of Chicago</td>\n",
       "      <td>man</td>\n",
       "      <td>white</td>\n",
       "      <td>North America</td>\n",
       "      <td>1930.0</td>\n",
       "    </tr>\n",
       "    <tr>\n",
       "      <th>3</th>\n",
       "      <td>Albrecht Adam</td>\n",
       "      <td>Art Institute of Chicago</td>\n",
       "      <td>man</td>\n",
       "      <td>white</td>\n",
       "      <td>Europe</td>\n",
       "      <td>1790.0</td>\n",
       "    </tr>\n",
       "    <tr>\n",
       "      <th>4</th>\n",
       "      <td>Architects David Adler</td>\n",
       "      <td>Art Institute of Chicago</td>\n",
       "      <td>man</td>\n",
       "      <td>white</td>\n",
       "      <td>NaN</td>\n",
       "      <td>1880.0</td>\n",
       "    </tr>\n",
       "    <tr>\n",
       "      <th>...</th>\n",
       "      <td>...</td>\n",
       "      <td>...</td>\n",
       "      <td>...</td>\n",
       "      <td>...</td>\n",
       "      <td>...</td>\n",
       "      <td>...</td>\n",
       "    </tr>\n",
       "    <tr>\n",
       "      <th>10103</th>\n",
       "      <td>Magnus Zeller</td>\n",
       "      <td>Yale University Art Gallery</td>\n",
       "      <td>man</td>\n",
       "      <td>white</td>\n",
       "      <td>Europe</td>\n",
       "      <td>1890.0</td>\n",
       "    </tr>\n",
       "    <tr>\n",
       "      <th>10104</th>\n",
       "      <td>Sun Zhi</td>\n",
       "      <td>Yale University Art Gallery</td>\n",
       "      <td>man</td>\n",
       "      <td>asian</td>\n",
       "      <td>Asia and the Pacific</td>\n",
       "      <td>NaN</td>\n",
       "    </tr>\n",
       "    <tr>\n",
       "      <th>10105</th>\n",
       "      <td>Rufus Fairchild Zogbaum</td>\n",
       "      <td>Yale University Art Gallery</td>\n",
       "      <td>man</td>\n",
       "      <td>white</td>\n",
       "      <td>North America</td>\n",
       "      <td>1850.0</td>\n",
       "    </tr>\n",
       "    <tr>\n",
       "      <th>10106</th>\n",
       "      <td>Anders Leonard Zorn</td>\n",
       "      <td>Yale University Art Gallery</td>\n",
       "      <td>man</td>\n",
       "      <td>white</td>\n",
       "      <td>Europe</td>\n",
       "      <td>1860.0</td>\n",
       "    </tr>\n",
       "    <tr>\n",
       "      <th>10107</th>\n",
       "      <td>Francisco Zuniga</td>\n",
       "      <td>Yale University Art Gallery</td>\n",
       "      <td>man</td>\n",
       "      <td>NaN</td>\n",
       "      <td>Latin America and the Caribbean</td>\n",
       "      <td>1910.0</td>\n",
       "    </tr>\n",
       "  </tbody>\n",
       "</table>\n",
       "<p>10108 rows × 6 columns</p>\n",
       "</div>"
      ],
      "text/plain": [
       "                            artist                       museum gender  \\\n",
       "0      Kikugawa Eishin (Hideyoshi)     Art Institute of Chicago    NaN   \n",
       "1                 Gordon C. Abbott     Art Institute of Chicago    man   \n",
       "2                   Sigmund Abeles     Art Institute of Chicago    man   \n",
       "3                    Albrecht Adam     Art Institute of Chicago    man   \n",
       "4           Architects David Adler     Art Institute of Chicago    man   \n",
       "...                            ...                          ...    ...   \n",
       "10103                Magnus Zeller  Yale University Art Gallery    man   \n",
       "10104                      Sun Zhi  Yale University Art Gallery    man   \n",
       "10105      Rufus Fairchild Zogbaum  Yale University Art Gallery    man   \n",
       "10106          Anders Leonard Zorn  Yale University Art Gallery    man   \n",
       "10107             Francisco Zuniga  Yale University Art Gallery    man   \n",
       "\n",
       "      ethnicity                        GEO3major    year  \n",
       "0         asian             Asia and the Pacific     NaN  \n",
       "1         white                    North America  1880.0  \n",
       "2         white                    North America  1930.0  \n",
       "3         white                           Europe  1790.0  \n",
       "4         white                              NaN  1880.0  \n",
       "...         ...                              ...     ...  \n",
       "10103     white                           Europe  1890.0  \n",
       "10104     asian             Asia and the Pacific     NaN  \n",
       "10105     white                    North America  1850.0  \n",
       "10106     white                           Europe  1860.0  \n",
       "10107       NaN  Latin America and the Caribbean  1910.0  \n",
       "\n",
       "[10108 rows x 6 columns]"
      ]
     },
     "execution_count": 42,
     "metadata": {},
     "output_type": "execute_result"
    }
   ],
   "source": [
    "import pandas as pd\n",
    "import matplotlib.pyplot as plt\n",
    "df = pd.read_csv('https://raw.githubusercontent.com/artofstat/ArtistDiversity/master/artistdata.csv')\n",
    "df"
   ]
  },
  {
   "cell_type": "markdown",
   "id": "e3d88a85",
   "metadata": {},
   "source": [
    "# Data cleaning: replacing NaNs with 'unknown'"
   ]
  },
  {
   "cell_type": "code",
   "execution_count": 43,
   "id": "0f6bfccc",
   "metadata": {},
   "outputs": [
    {
     "data": {
      "text/plain": [
       "artist       False\n",
       "museum       False\n",
       "gender        True\n",
       "ethnicity     True\n",
       "GEO3major     True\n",
       "year          True\n",
       "dtype: bool"
      ]
     },
     "execution_count": 43,
     "metadata": {},
     "output_type": "execute_result"
    }
   ],
   "source": [
    "# are there null values?\n",
    "df.isna().any()"
   ]
  },
  {
   "cell_type": "code",
   "execution_count": 44,
   "id": "36d2882e",
   "metadata": {},
   "outputs": [
    {
     "data": {
      "text/plain": [
       "artist          0\n",
       "museum          0\n",
       "gender       1092\n",
       "ethnicity    1812\n",
       "GEO3major    1676\n",
       "year         2082\n",
       "dtype: int64"
      ]
     },
     "execution_count": 44,
     "metadata": {},
     "output_type": "execute_result"
    }
   ],
   "source": [
    "# null values\n",
    "df.isna(). sum()"
   ]
  },
  {
   "cell_type": "code",
   "execution_count": 45,
   "id": "de8508e3",
   "metadata": {},
   "outputs": [
    {
     "data": {
      "text/plain": [
       "4"
      ]
     },
     "execution_count": 45,
     "metadata": {},
     "output_type": "execute_result"
    }
   ],
   "source": [
    "df.isna().any().sum()"
   ]
  },
  {
   "cell_type": "code",
   "execution_count": 46,
   "id": "cf997b75",
   "metadata": {},
   "outputs": [],
   "source": [
    "df.dropna(subset=['gender'], inplace = True)"
   ]
  },
  {
   "cell_type": "code",
   "execution_count": 47,
   "id": "222efe2b-2da5-49a8-9038-e1268e07bc3e",
   "metadata": {},
   "outputs": [
    {
     "data": {
      "text/html": [
       "<div>\n",
       "<style scoped>\n",
       "    .dataframe tbody tr th:only-of-type {\n",
       "        vertical-align: middle;\n",
       "    }\n",
       "\n",
       "    .dataframe tbody tr th {\n",
       "        vertical-align: top;\n",
       "    }\n",
       "\n",
       "    .dataframe thead th {\n",
       "        text-align: right;\n",
       "    }\n",
       "</style>\n",
       "<table border=\"1\" class=\"dataframe\">\n",
       "  <thead>\n",
       "    <tr style=\"text-align: right;\">\n",
       "      <th></th>\n",
       "      <th>artist</th>\n",
       "      <th>museum</th>\n",
       "      <th>gender</th>\n",
       "      <th>ethnicity</th>\n",
       "      <th>GEO3major</th>\n",
       "      <th>year</th>\n",
       "    </tr>\n",
       "  </thead>\n",
       "  <tbody>\n",
       "  </tbody>\n",
       "</table>\n",
       "</div>"
      ],
      "text/plain": [
       "Empty DataFrame\n",
       "Columns: [artist, museum, gender, ethnicity, GEO3major, year]\n",
       "Index: []"
      ]
     },
     "execution_count": 47,
     "metadata": {},
     "output_type": "execute_result"
    }
   ],
   "source": [
    "# Prints out all rows that have NaN in gender column\n",
    "df[df['gender'].isna()]"
   ]
  },
  {
   "cell_type": "code",
   "execution_count": 48,
   "id": "4ac8c652-d2ca-43e2-b6f1-75d9616658a0",
   "metadata": {},
   "outputs": [],
   "source": [
    "df['gender'].fillna(value='unknown', inplace=True)"
   ]
  },
  {
   "cell_type": "code",
   "execution_count": 49,
   "id": "7e51b6a3-fead-4196-8683-b02224b121c9",
   "metadata": {
    "scrolled": true
   },
   "outputs": [
    {
     "data": {
      "text/html": [
       "<div>\n",
       "<style scoped>\n",
       "    .dataframe tbody tr th:only-of-type {\n",
       "        vertical-align: middle;\n",
       "    }\n",
       "\n",
       "    .dataframe tbody tr th {\n",
       "        vertical-align: top;\n",
       "    }\n",
       "\n",
       "    .dataframe thead th {\n",
       "        text-align: right;\n",
       "    }\n",
       "</style>\n",
       "<table border=\"1\" class=\"dataframe\">\n",
       "  <thead>\n",
       "    <tr style=\"text-align: right;\">\n",
       "      <th></th>\n",
       "      <th>artist</th>\n",
       "      <th>museum</th>\n",
       "      <th>gender</th>\n",
       "      <th>ethnicity</th>\n",
       "      <th>GEO3major</th>\n",
       "      <th>year</th>\n",
       "    </tr>\n",
       "  </thead>\n",
       "  <tbody>\n",
       "  </tbody>\n",
       "</table>\n",
       "</div>"
      ],
      "text/plain": [
       "Empty DataFrame\n",
       "Columns: [artist, museum, gender, ethnicity, GEO3major, year]\n",
       "Index: []"
      ]
     },
     "execution_count": 49,
     "metadata": {},
     "output_type": "execute_result"
    }
   ],
   "source": [
    "# Now no gender value is null\n",
    "df[df['gender'].isna()]"
   ]
  },
  {
   "cell_type": "code",
   "execution_count": 50,
   "id": "184d73fc-2d21-4f69-a34e-4f95f1d7a452",
   "metadata": {},
   "outputs": [
    {
     "ename": "KeyError",
     "evalue": "\"None of [Int64Index([10101], dtype='int64')] are in the [index]\"",
     "output_type": "error",
     "traceback": [
      "\u001b[0;31m---------------------------------------------------------------------------\u001b[0m",
      "\u001b[0;31mKeyError\u001b[0m                                  Traceback (most recent call last)",
      "Cell \u001b[0;32mIn[50], line 1\u001b[0m\n\u001b[0;32m----> 1\u001b[0m \u001b[43mdf\u001b[49m\u001b[38;5;241;43m.\u001b[39;49m\u001b[43mloc\u001b[49m\u001b[43m[\u001b[49m\u001b[43m[\u001b[49m\u001b[38;5;241;43m10101\u001b[39;49m\u001b[43m]\u001b[49m\u001b[43m]\u001b[49m\n",
      "File \u001b[0;32m/opt/conda/lib/python3.10/site-packages/pandas/core/indexing.py:1073\u001b[0m, in \u001b[0;36m_LocationIndexer.__getitem__\u001b[0;34m(self, key)\u001b[0m\n\u001b[1;32m   1070\u001b[0m axis \u001b[38;5;241m=\u001b[39m \u001b[38;5;28mself\u001b[39m\u001b[38;5;241m.\u001b[39maxis \u001b[38;5;129;01mor\u001b[39;00m \u001b[38;5;241m0\u001b[39m\n\u001b[1;32m   1072\u001b[0m maybe_callable \u001b[38;5;241m=\u001b[39m com\u001b[38;5;241m.\u001b[39mapply_if_callable(key, \u001b[38;5;28mself\u001b[39m\u001b[38;5;241m.\u001b[39mobj)\n\u001b[0;32m-> 1073\u001b[0m \u001b[38;5;28;01mreturn\u001b[39;00m \u001b[38;5;28;43mself\u001b[39;49m\u001b[38;5;241;43m.\u001b[39;49m\u001b[43m_getitem_axis\u001b[49m\u001b[43m(\u001b[49m\u001b[43mmaybe_callable\u001b[49m\u001b[43m,\u001b[49m\u001b[43m \u001b[49m\u001b[43maxis\u001b[49m\u001b[38;5;241;43m=\u001b[39;49m\u001b[43maxis\u001b[49m\u001b[43m)\u001b[49m\n",
      "File \u001b[0;32m/opt/conda/lib/python3.10/site-packages/pandas/core/indexing.py:1301\u001b[0m, in \u001b[0;36m_LocIndexer._getitem_axis\u001b[0;34m(self, key, axis)\u001b[0m\n\u001b[1;32m   1298\u001b[0m     \u001b[38;5;28;01mif\u001b[39;00m \u001b[38;5;28mhasattr\u001b[39m(key, \u001b[38;5;124m\"\u001b[39m\u001b[38;5;124mndim\u001b[39m\u001b[38;5;124m\"\u001b[39m) \u001b[38;5;129;01mand\u001b[39;00m key\u001b[38;5;241m.\u001b[39mndim \u001b[38;5;241m>\u001b[39m \u001b[38;5;241m1\u001b[39m:\n\u001b[1;32m   1299\u001b[0m         \u001b[38;5;28;01mraise\u001b[39;00m \u001b[38;5;167;01mValueError\u001b[39;00m(\u001b[38;5;124m\"\u001b[39m\u001b[38;5;124mCannot index with multidimensional key\u001b[39m\u001b[38;5;124m\"\u001b[39m)\n\u001b[0;32m-> 1301\u001b[0m     \u001b[38;5;28;01mreturn\u001b[39;00m \u001b[38;5;28;43mself\u001b[39;49m\u001b[38;5;241;43m.\u001b[39;49m\u001b[43m_getitem_iterable\u001b[49m\u001b[43m(\u001b[49m\u001b[43mkey\u001b[49m\u001b[43m,\u001b[49m\u001b[43m \u001b[49m\u001b[43maxis\u001b[49m\u001b[38;5;241;43m=\u001b[39;49m\u001b[43maxis\u001b[49m\u001b[43m)\u001b[49m\n\u001b[1;32m   1303\u001b[0m \u001b[38;5;66;03m# nested tuple slicing\u001b[39;00m\n\u001b[1;32m   1304\u001b[0m \u001b[38;5;28;01mif\u001b[39;00m is_nested_tuple(key, labels):\n",
      "File \u001b[0;32m/opt/conda/lib/python3.10/site-packages/pandas/core/indexing.py:1239\u001b[0m, in \u001b[0;36m_LocIndexer._getitem_iterable\u001b[0;34m(self, key, axis)\u001b[0m\n\u001b[1;32m   1236\u001b[0m \u001b[38;5;28mself\u001b[39m\u001b[38;5;241m.\u001b[39m_validate_key(key, axis)\n\u001b[1;32m   1238\u001b[0m \u001b[38;5;66;03m# A collection of keys\u001b[39;00m\n\u001b[0;32m-> 1239\u001b[0m keyarr, indexer \u001b[38;5;241m=\u001b[39m \u001b[38;5;28;43mself\u001b[39;49m\u001b[38;5;241;43m.\u001b[39;49m\u001b[43m_get_listlike_indexer\u001b[49m\u001b[43m(\u001b[49m\u001b[43mkey\u001b[49m\u001b[43m,\u001b[49m\u001b[43m \u001b[49m\u001b[43maxis\u001b[49m\u001b[43m)\u001b[49m\n\u001b[1;32m   1240\u001b[0m \u001b[38;5;28;01mreturn\u001b[39;00m \u001b[38;5;28mself\u001b[39m\u001b[38;5;241m.\u001b[39mobj\u001b[38;5;241m.\u001b[39m_reindex_with_indexers(\n\u001b[1;32m   1241\u001b[0m     {axis: [keyarr, indexer]}, copy\u001b[38;5;241m=\u001b[39m\u001b[38;5;28;01mTrue\u001b[39;00m, allow_dups\u001b[38;5;241m=\u001b[39m\u001b[38;5;28;01mTrue\u001b[39;00m\n\u001b[1;32m   1242\u001b[0m )\n",
      "File \u001b[0;32m/opt/conda/lib/python3.10/site-packages/pandas/core/indexing.py:1432\u001b[0m, in \u001b[0;36m_LocIndexer._get_listlike_indexer\u001b[0;34m(self, key, axis)\u001b[0m\n\u001b[1;32m   1429\u001b[0m ax \u001b[38;5;241m=\u001b[39m \u001b[38;5;28mself\u001b[39m\u001b[38;5;241m.\u001b[39mobj\u001b[38;5;241m.\u001b[39m_get_axis(axis)\n\u001b[1;32m   1430\u001b[0m axis_name \u001b[38;5;241m=\u001b[39m \u001b[38;5;28mself\u001b[39m\u001b[38;5;241m.\u001b[39mobj\u001b[38;5;241m.\u001b[39m_get_axis_name(axis)\n\u001b[0;32m-> 1432\u001b[0m keyarr, indexer \u001b[38;5;241m=\u001b[39m \u001b[43max\u001b[49m\u001b[38;5;241;43m.\u001b[39;49m\u001b[43m_get_indexer_strict\u001b[49m\u001b[43m(\u001b[49m\u001b[43mkey\u001b[49m\u001b[43m,\u001b[49m\u001b[43m \u001b[49m\u001b[43maxis_name\u001b[49m\u001b[43m)\u001b[49m\n\u001b[1;32m   1434\u001b[0m \u001b[38;5;28;01mreturn\u001b[39;00m keyarr, indexer\n",
      "File \u001b[0;32m/opt/conda/lib/python3.10/site-packages/pandas/core/indexes/base.py:6113\u001b[0m, in \u001b[0;36mIndex._get_indexer_strict\u001b[0;34m(self, key, axis_name)\u001b[0m\n\u001b[1;32m   6110\u001b[0m \u001b[38;5;28;01melse\u001b[39;00m:\n\u001b[1;32m   6111\u001b[0m     keyarr, indexer, new_indexer \u001b[38;5;241m=\u001b[39m \u001b[38;5;28mself\u001b[39m\u001b[38;5;241m.\u001b[39m_reindex_non_unique(keyarr)\n\u001b[0;32m-> 6113\u001b[0m \u001b[38;5;28;43mself\u001b[39;49m\u001b[38;5;241;43m.\u001b[39;49m\u001b[43m_raise_if_missing\u001b[49m\u001b[43m(\u001b[49m\u001b[43mkeyarr\u001b[49m\u001b[43m,\u001b[49m\u001b[43m \u001b[49m\u001b[43mindexer\u001b[49m\u001b[43m,\u001b[49m\u001b[43m \u001b[49m\u001b[43maxis_name\u001b[49m\u001b[43m)\u001b[49m\n\u001b[1;32m   6115\u001b[0m keyarr \u001b[38;5;241m=\u001b[39m \u001b[38;5;28mself\u001b[39m\u001b[38;5;241m.\u001b[39mtake(indexer)\n\u001b[1;32m   6116\u001b[0m \u001b[38;5;28;01mif\u001b[39;00m \u001b[38;5;28misinstance\u001b[39m(key, Index):\n\u001b[1;32m   6117\u001b[0m     \u001b[38;5;66;03m# GH 42790 - Preserve name from an Index\u001b[39;00m\n",
      "File \u001b[0;32m/opt/conda/lib/python3.10/site-packages/pandas/core/indexes/base.py:6173\u001b[0m, in \u001b[0;36mIndex._raise_if_missing\u001b[0;34m(self, key, indexer, axis_name)\u001b[0m\n\u001b[1;32m   6171\u001b[0m     \u001b[38;5;28;01mif\u001b[39;00m use_interval_msg:\n\u001b[1;32m   6172\u001b[0m         key \u001b[38;5;241m=\u001b[39m \u001b[38;5;28mlist\u001b[39m(key)\n\u001b[0;32m-> 6173\u001b[0m     \u001b[38;5;28;01mraise\u001b[39;00m \u001b[38;5;167;01mKeyError\u001b[39;00m(\u001b[38;5;124mf\u001b[39m\u001b[38;5;124m\"\u001b[39m\u001b[38;5;124mNone of [\u001b[39m\u001b[38;5;132;01m{\u001b[39;00mkey\u001b[38;5;132;01m}\u001b[39;00m\u001b[38;5;124m] are in the [\u001b[39m\u001b[38;5;132;01m{\u001b[39;00maxis_name\u001b[38;5;132;01m}\u001b[39;00m\u001b[38;5;124m]\u001b[39m\u001b[38;5;124m\"\u001b[39m)\n\u001b[1;32m   6175\u001b[0m not_found \u001b[38;5;241m=\u001b[39m \u001b[38;5;28mlist\u001b[39m(ensure_index(key)[missing_mask\u001b[38;5;241m.\u001b[39mnonzero()[\u001b[38;5;241m0\u001b[39m]]\u001b[38;5;241m.\u001b[39munique())\n\u001b[1;32m   6176\u001b[0m \u001b[38;5;28;01mraise\u001b[39;00m \u001b[38;5;167;01mKeyError\u001b[39;00m(\u001b[38;5;124mf\u001b[39m\u001b[38;5;124m\"\u001b[39m\u001b[38;5;132;01m{\u001b[39;00mnot_found\u001b[38;5;132;01m}\u001b[39;00m\u001b[38;5;124m not in index\u001b[39m\u001b[38;5;124m\"\u001b[39m)\n",
      "\u001b[0;31mKeyError\u001b[0m: \"None of [Int64Index([10101], dtype='int64')] are in the [index]\""
     ]
    }
   ],
   "source": [
    "df.loc[[10101]]"
   ]
  },
  {
   "cell_type": "markdown",
   "id": "8fc47de4",
   "metadata": {},
   "source": [
    "# Dataframe from the grouping/counting"
   ]
  },
  {
   "cell_type": "code",
   "execution_count": 51,
   "id": "fe2c9c96",
   "metadata": {},
   "outputs": [
    {
     "data": {
      "text/plain": [
       "gender  ethnicity\n",
       "man     asian         538\n",
       "        black          87\n",
       "        hispanic      193\n",
       "        other          67\n",
       "        white        5805\n",
       "woman   asian          38\n",
       "        black          33\n",
       "        hispanic       20\n",
       "        other          35\n",
       "        white         841\n",
       "Name: gender, dtype: int64"
      ]
     },
     "execution_count": 51,
     "metadata": {},
     "output_type": "execute_result"
    }
   ],
   "source": [
    "x = df.groupby(['gender','ethnicity'])['artist'].count()\n",
    "x = x.to_frame().reset_index().rename(columns={'artist':'artistcount'})\n",
    "gecounts = df.groupby(['gender','ethnicity'])['gender'].count()\n",
    "gecounts"
   ]
  },
  {
   "cell_type": "code",
   "execution_count": 52,
   "id": "1cb12faa",
   "metadata": {},
   "outputs": [
    {
     "data": {
      "text/html": [
       "<div>\n",
       "<style scoped>\n",
       "    .dataframe tbody tr th:only-of-type {\n",
       "        vertical-align: middle;\n",
       "    }\n",
       "\n",
       "    .dataframe tbody tr th {\n",
       "        vertical-align: top;\n",
       "    }\n",
       "\n",
       "    .dataframe thead th {\n",
       "        text-align: right;\n",
       "    }\n",
       "</style>\n",
       "<table border=\"1\" class=\"dataframe\">\n",
       "  <thead>\n",
       "    <tr style=\"text-align: right;\">\n",
       "      <th></th>\n",
       "      <th>gender</th>\n",
       "      <th>ethnicity</th>\n",
       "      <th>artistcount</th>\n",
       "    </tr>\n",
       "  </thead>\n",
       "  <tbody>\n",
       "    <tr>\n",
       "      <th>0</th>\n",
       "      <td>man</td>\n",
       "      <td>asian</td>\n",
       "      <td>538</td>\n",
       "    </tr>\n",
       "    <tr>\n",
       "      <th>1</th>\n",
       "      <td>man</td>\n",
       "      <td>black</td>\n",
       "      <td>87</td>\n",
       "    </tr>\n",
       "    <tr>\n",
       "      <th>2</th>\n",
       "      <td>man</td>\n",
       "      <td>hispanic</td>\n",
       "      <td>193</td>\n",
       "    </tr>\n",
       "    <tr>\n",
       "      <th>3</th>\n",
       "      <td>man</td>\n",
       "      <td>other</td>\n",
       "      <td>67</td>\n",
       "    </tr>\n",
       "    <tr>\n",
       "      <th>4</th>\n",
       "      <td>man</td>\n",
       "      <td>white</td>\n",
       "      <td>5805</td>\n",
       "    </tr>\n",
       "    <tr>\n",
       "      <th>5</th>\n",
       "      <td>woman</td>\n",
       "      <td>asian</td>\n",
       "      <td>38</td>\n",
       "    </tr>\n",
       "    <tr>\n",
       "      <th>6</th>\n",
       "      <td>woman</td>\n",
       "      <td>black</td>\n",
       "      <td>33</td>\n",
       "    </tr>\n",
       "    <tr>\n",
       "      <th>7</th>\n",
       "      <td>woman</td>\n",
       "      <td>hispanic</td>\n",
       "      <td>20</td>\n",
       "    </tr>\n",
       "    <tr>\n",
       "      <th>8</th>\n",
       "      <td>woman</td>\n",
       "      <td>other</td>\n",
       "      <td>35</td>\n",
       "    </tr>\n",
       "    <tr>\n",
       "      <th>9</th>\n",
       "      <td>woman</td>\n",
       "      <td>white</td>\n",
       "      <td>841</td>\n",
       "    </tr>\n",
       "  </tbody>\n",
       "</table>\n",
       "</div>"
      ],
      "text/plain": [
       "  gender ethnicity  artistcount\n",
       "0    man     asian          538\n",
       "1    man     black           87\n",
       "2    man  hispanic          193\n",
       "3    man     other           67\n",
       "4    man     white         5805\n",
       "5  woman     asian           38\n",
       "6  woman     black           33\n",
       "7  woman  hispanic           20\n",
       "8  woman     other           35\n",
       "9  woman     white          841"
      ]
     },
     "execution_count": 52,
     "metadata": {},
     "output_type": "execute_result"
    }
   ],
   "source": [
    "x"
   ]
  },
  {
   "cell_type": "code",
   "execution_count": 53,
   "id": "f05c9db0",
   "metadata": {},
   "outputs": [
    {
     "data": {
      "text/plain": [
       "7657"
      ]
     },
     "execution_count": 53,
     "metadata": {},
     "output_type": "execute_result"
    }
   ],
   "source": [
    "sum(gecounts)"
   ]
  },
  {
   "cell_type": "markdown",
   "id": "659e5243",
   "metadata": {},
   "source": [
    "# Calculating with original dataframe df"
   ]
  },
  {
   "cell_type": "markdown",
   "id": "3bdb2aba",
   "metadata": {},
   "source": [
    "Calculate with original dataframe `df`"
   ]
  },
  {
   "cell_type": "code",
   "execution_count": 54,
   "id": "59d7acf7",
   "metadata": {},
   "outputs": [
    {
     "data": {
      "text/plain": [
       "7865"
      ]
     },
     "execution_count": 54,
     "metadata": {},
     "output_type": "execute_result"
    }
   ],
   "source": [
    "# count of male artists\n",
    "df.loc[df['gender']=='man', 'artist'].count()"
   ]
  },
  {
   "cell_type": "code",
   "execution_count": 55,
   "id": "bcb990b8",
   "metadata": {},
   "outputs": [
    {
     "data": {
      "text/plain": [
       "1151"
      ]
     },
     "execution_count": 55,
     "metadata": {},
     "output_type": "execute_result"
    }
   ],
   "source": [
    "# count of female artists\n",
    "df.loc[df['gender']=='woman', 'artist'].count()"
   ]
  },
  {
   "cell_type": "code",
   "execution_count": 56,
   "id": "0a1da156",
   "metadata": {},
   "outputs": [
    {
     "data": {
      "text/plain": [
       "7865"
      ]
     },
     "execution_count": 56,
     "metadata": {},
     "output_type": "execute_result"
    }
   ],
   "source": [
    "# count of male artists\n",
    "df.loc[df['gender']=='man', 'artist'].count()"
   ]
  },
  {
   "cell_type": "markdown",
   "id": "76965b25",
   "metadata": {},
   "source": [
    "# histogram & calculations: Men and Women artists"
   ]
  },
  {
   "cell_type": "code",
   "execution_count": 58,
   "id": "2847a017",
   "metadata": {},
   "outputs": [
    {
     "data": {
      "text/plain": [
       "Text(0.5, 1.0, 'Histogram of Artists in U.S. Museums from 1500-2000')"
      ]
     },
     "execution_count": 58,
     "metadata": {},
     "output_type": "execute_result"
    },
    {
     "data": {
      "image/png": "[encoded data removed]",
      "text/plain": [
       "<Figure size 640x480 with 1 Axes>"
      ]
     },
     "metadata": {},
     "output_type": "display_data"
    }
   ],
   "source": [
    "import seaborn as sns\n",
    "sns.histplot(data=df, \n",
    "            x='ethnicity',\n",
    "            hue='gender', \n",
    "             bins=10,\n",
    "             multiple='dodge')\n",
    "plt.title('Histogram of Artists in U.S. Museums from 1500-2000')"
   ]
  },
  {
   "cell_type": "code",
   "execution_count": 59,
   "id": "53f3c843",
   "metadata": {},
   "outputs": [
    {
     "data": {
      "text/plain": [
       "0.8737103304166123"
      ]
     },
     "execution_count": 59,
     "metadata": {},
     "output_type": "execute_result"
    }
   ],
   "source": [
    "# percentage of male artists\n",
    "x.loc[x['gender']=='man', 'artistcount'].sum() / x['artistcount'].sum()"
   ]
  },
  {
   "cell_type": "code",
   "execution_count": 60,
   "id": "2292bc40",
   "metadata": {},
   "outputs": [
    {
     "data": {
      "text/plain": [
       "0.12628966958338775"
      ]
     },
     "execution_count": 60,
     "metadata": {},
     "output_type": "execute_result"
    }
   ],
   "source": [
    "# percentage of female artists\n",
    "x.loc[x['gender']=='woman', 'artistcount'].sum() / x['artistcount'].sum()"
   ]
  },
  {
   "cell_type": "code",
   "execution_count": 61,
   "id": "9b5a368e",
   "metadata": {},
   "outputs": [
    {
     "data": {
      "text/plain": [
       "0.7581298158547735"
      ]
     },
     "execution_count": 61,
     "metadata": {},
     "output_type": "execute_result"
    }
   ],
   "source": [
    "# percentage of male white artists\n",
    "x.loc[(x['gender']=='man') & (x['ethnicity']=='white'),'artistcount'].sum() / x['artistcount'].sum()"
   ]
  },
  {
   "cell_type": "code",
   "execution_count": 62,
   "id": "a84c22a2",
   "metadata": {},
   "outputs": [
    {
     "data": {
      "text/plain": [
       "0.10983413869661747"
      ]
     },
     "execution_count": 62,
     "metadata": {},
     "output_type": "execute_result"
    }
   ],
   "source": [
    "# percentage of female white artists\n",
    "x.loc[(x['gender']=='woman') & (x['ethnicity']=='white'),'artistcount'].sum() / x['artistcount'].sum()"
   ]
  },
  {
   "cell_type": "code",
   "execution_count": 106,
   "id": "88e4cd24",
   "metadata": {},
   "outputs": [
    {
     "data": {
      "text/plain": [
       "0.8679639545513909"
      ]
     },
     "execution_count": 106,
     "metadata": {},
     "output_type": "execute_result"
    }
   ],
   "source": [
    "# percentage of white artists\n",
    "x.loc[x['ethnicity']=='white', 'artistcount'].sum() / x['artistcount'].sum()"
   ]
  },
  {
   "cell_type": "markdown",
   "id": "32a5cbf6",
   "metadata": {},
   "source": [
    "# histogram & calculations: Asian women to Asian men"
   ]
  },
  {
   "cell_type": "code",
   "execution_count": 64,
   "id": "c117a839",
   "metadata": {},
   "outputs": [
    {
     "data": {
      "text/plain": [
       "Text(0.5, 1.0, 'Histogram of Asian Male & Female Artists in U.S. Museums from 1930-1990')"
      ]
     },
     "execution_count": 64,
     "metadata": {},
     "output_type": "execute_result"
    },
    {
     "data": {
      "image/png": "[encoded data removed]",
      "text/plain": [
       "<Figure size 640x480 with 1 Axes>"
      ]
     },
     "metadata": {},
     "output_type": "display_data"
    }
   ],
   "source": [
    "#Comparison of Asian women to Asian men (percentage); 2nd most dominant ethnicity\n",
    "import seaborn as sns\n",
    "sns.histplot(data=df[(df['ethnicity']=='asian') &\n",
    "                    (df['year']>1925)], \n",
    "            x='year',\n",
    "            hue='gender',\n",
    "             bins=15,multiple='stack')\n",
    "plt.title('Histogram of Asian Male & Female Artists in U.S. Museums from 1930-1990')"
   ]
  },
  {
   "cell_type": "code",
   "execution_count": 65,
   "id": "e3bf7c9e",
   "metadata": {},
   "outputs": [
    {
     "data": {
      "text/plain": [
       "Text(0.5, 1.0, 'Histogram of Asian Women Artists in U.S. Museums from 1930-1990')"
      ]
     },
     "execution_count": 65,
     "metadata": {},
     "output_type": "execute_result"
    },
    {
     "data": {
      "image/png": "[encoded data removed]",
      "text/plain": [
       "<Figure size 640x480 with 1 Axes>"
      ]
     },
     "metadata": {},
     "output_type": "display_data"
    }
   ],
   "source": [
    "# asian women artists\n",
    "df.loc[(df['gender']=='woman') & (df['ethnicity']=='asian'), \n",
    "       'year'].hist()\n",
    "plt.title('Histogram of Asian Women Artists in U.S. Museums from 1930-1990')"
   ]
  },
  {
   "cell_type": "code",
   "execution_count": null,
   "id": "e8029dad",
   "metadata": {},
   "outputs": [],
   "source": [
    "# % of Asian female artists from 1900-2000\n",
    "df.loc[(df['gender']=='woman') & (df['ethnicity']=='asian') &\n",
    "       (df['year']>1900) & \n",
    "       (df['year']<2000), 'artist'].count() / df.loc[(df['year']>1900) & \n",
    "       (df['year']<2000), 'artist'].count()"
   ]
  },
  {
   "cell_type": "code",
   "execution_count": null,
   "id": "d9137b6b",
   "metadata": {},
   "outputs": [],
   "source": [
    "# % of Asian female artists from 1930-1980\n",
    "df.loc[(df['gender']=='woman') & (df['ethnicity']=='asian') &\n",
    "       (df['year']>1930) & \n",
    "       (df['year']<1980), 'artist'].count() / df.loc[(df['year']>1930) & \n",
    "       (df['year']<1980), 'artist'].count()"
   ]
  },
  {
   "cell_type": "code",
   "execution_count": null,
   "id": "82f0bc30",
   "metadata": {},
   "outputs": [],
   "source": [
    "# % of Asian male artists from 1930-1990\n",
    "df.loc[(df['gender']=='man') & (df['ethnicity']=='asian') &\n",
    "       (df['year']>1900) & \n",
    "       (df['year']<2000), 'artist'].count() / df.loc[(df['year']>1900) & \n",
    "       (df['year']<2000), 'artist'].count()"
   ]
  },
  {
   "cell_type": "code",
   "execution_count": null,
   "id": "a43be53e",
   "metadata": {},
   "outputs": [],
   "source": [
    "# % of Asian female artists from 1930-1950\n",
    "df.loc[(df['gender']=='woman') & (df['ethnicity']=='asian') &\n",
    "       (df['year']>1900) & \n",
    "       (df['year']<1950), 'artist'].count() / df.loc[(df['year']>1900) & \n",
    "       (df['year']<1950), 'artist'].count()"
   ]
  },
  {
   "cell_type": "markdown",
   "id": "b2bfd115",
   "metadata": {},
   "source": [
    "# histogram & calculations: Black artists"
   ]
  },
  {
   "cell_type": "code",
   "execution_count": 66,
   "id": "f1362379",
   "metadata": {},
   "outputs": [
    {
     "data": {
      "text/plain": [
       "Text(0.5, 1.0, 'Histogram of Black Artists in U.S. Museums from 1840-1990')"
      ]
     },
     "execution_count": 66,
     "metadata": {},
     "output_type": "execute_result"
    },
    {
     "data": {
      "image/png": "[encoded data removed]",
      "text/plain": [
       "<Figure size 640x480 with 1 Axes>"
      ]
     },
     "metadata": {},
     "output_type": "display_data"
    }
   ],
   "source": [
    "# black artists: most underrepresented ehtnicity\n",
    "df.loc[ (df['ethnicity']=='black'), \n",
    "       'year'].hist()\n",
    "plt.title('Histogram of Black Artists in U.S. Museums from 1840-1990')"
   ]
  },
  {
   "cell_type": "code",
   "execution_count": 67,
   "id": "bd5772ff",
   "metadata": {},
   "outputs": [
    {
     "data": {
      "text/plain": [
       "32"
      ]
     },
     "execution_count": 67,
     "metadata": {},
     "output_type": "execute_result"
    }
   ],
   "source": [
    "# total count of female black artists\n",
    "df.loc[(df['gender']=='woman') & (df['ethnicity']=='black') & \n",
    "       (df['year']>1830) & \n",
    "       (df['year']<1990), 'artist'].count()"
   ]
  },
  {
   "cell_type": "code",
   "execution_count": 68,
   "id": "859e2ec8",
   "metadata": {},
   "outputs": [
    {
     "data": {
      "text/plain": [
       "116"
      ]
     },
     "execution_count": 68,
     "metadata": {},
     "output_type": "execute_result"
    }
   ],
   "source": [
    "#total black population 1840-1990\n",
    "df.loc[(df['ethnicity']=='black') & \n",
    "       (df['year']>1830) & \n",
    "       (df['year']<1990), 'artist'].count()"
   ]
  },
  {
   "cell_type": "code",
   "execution_count": 69,
   "id": "ac783e18",
   "metadata": {},
   "outputs": [
    {
     "data": {
      "text/plain": [
       "0.27586206896551724"
      ]
     },
     "execution_count": 69,
     "metadata": {},
     "output_type": "execute_result"
    }
   ],
   "source": [
    "#percentage of black women out of black population\n",
    "df.loc[(df['gender']=='woman') & (df['ethnicity']=='black') & \n",
    "       (df['year']>1830) & \n",
    "       (df['year']<1990), 'artist'].count()/ df.loc[(df['ethnicity']=='black') & (df['year']>1830) & \n",
    "       (df['year']<1990), 'artist'].count()"
   ]
  },
  {
   "cell_type": "markdown",
   "id": "5f8a73a3",
   "metadata": {},
   "source": [
    "# Geographic data + question*"
   ]
  },
  {
   "cell_type": "code",
   "execution_count": 99,
   "id": "9525afc1",
   "metadata": {},
   "outputs": [
    {
     "data": {
      "text/plain": [
       "Text(0.5, 0.98, 'Geographical Artist Origin')"
      ]
     },
     "execution_count": 99,
     "metadata": {},
     "output_type": "execute_result"
    },
    {
     "data": {
      "image/png": "[encoded data removed]",
      "text/plain": [
       "<Figure size 1000x500 with 2 Axes>"
      ]
     },
     "metadata": {},
     "output_type": "display_data"
    }
   ],
   "source": [
    "sup = sns.catplot(data=df, \n",
    "            y='GEO3major',\n",
    "            col='gender', \n",
    "            kind='count')\n",
    "sup.set(xlabel='count', ylabel='GEO3 region')\n",
    "sup.fig.subplots_adjust(top=.8)\n",
    "sup.fig.suptitle('Geographical Artist Origin')"
   ]
  },
  {
   "cell_type": "code",
   "execution_count": null,
   "id": "bc4aa985",
   "metadata": {},
   "outputs": [],
   "source": [
    "# count of North American Artists\n",
    "df.loc[(df['GEO3major']=='North America') & \n",
    "       (df['year']>1500) & \n",
    "       (df['year']<2000), 'artist'].count()"
   ]
  },
  {
   "cell_type": "code",
   "execution_count": null,
   "id": "30265df4",
   "metadata": {},
   "outputs": [],
   "source": [
    "# % of North American Artists from 1500-2000\n",
    "df.loc[(df['GEO3major']=='North America') & \n",
    "       (df['year']>1500) & \n",
    "       (df['year']<2000), 'artist'].count() / df.loc[(df['year']>1500) & \n",
    "       (df['year']<2000), 'artist'].count()"
   ]
  },
  {
   "cell_type": "code",
   "execution_count": null,
   "id": "35c4e2ba",
   "metadata": {},
   "outputs": [],
   "source": [
    "# count of European Artists\n",
    "df.loc[(df['GEO3major']=='Europe') & \n",
    "       (df['year']>1500) & \n",
    "       (df['year']<2000), 'artist'].count()"
   ]
  },
  {
   "cell_type": "code",
   "execution_count": null,
   "id": "047f4b4e",
   "metadata": {},
   "outputs": [],
   "source": [
    "# % of European Artists from 1500-2000\n",
    "df.loc[(df['GEO3major']=='Europe') & \n",
    "       (df['year']>1500) & \n",
    "       (df['year']<2000), 'artist'].count() / df.loc[(df['year']>1500) & \n",
    "       (df['year']<2000), 'artist'].count()"
   ]
  },
  {
   "cell_type": "code",
   "execution_count": null,
   "id": "b02bb3c1",
   "metadata": {},
   "outputs": [],
   "source": [
    "df.loc[(df['GEO3major']=='North America'),     \n",
    "       'year'].hist()\n",
    "plt.title('Histogram of North American Artists in U.S. Museums from 1650-2000')"
   ]
  },
  {
   "cell_type": "code",
   "execution_count": null,
   "id": "7c7e9fc4",
   "metadata": {},
   "outputs": [],
   "source": []
  },
  {
   "cell_type": "code",
   "execution_count": null,
   "id": "70a27f68",
   "metadata": {},
   "outputs": [],
   "source": []
  }
 ],
 "metadata": {
  "kernelspec": {
   "display_name": "Python 3 (ipykernel)",
   "language": "python",
   "name": "python3"
  },
  "language_info": {
   "codemirror_mode": {
    "name": "ipython",
    "version": 3
   },
   "file_extension": ".py",
   "mimetype": "text/x-python",
   "name": "python",
   "nbconvert_exporter": "python",
   "pygments_lexer": "ipython3",
   "version": "3.10.8"
  }
 },
 "nbformat": 4,
 "nbformat_minor": 5
}
