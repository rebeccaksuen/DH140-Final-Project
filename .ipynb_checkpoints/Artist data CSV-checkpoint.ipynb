{
 "cells": [
  {
   "cell_type": "code",
   "execution_count": 1,
   "id": "cab8a98f",
   "metadata": {},
   "outputs": [
    {
     "data": {
      "text/html": [
       "<div>\n",
       "<style scoped>\n",
       "    .dataframe tbody tr th:only-of-type {\n",
       "        vertical-align: middle;\n",
       "    }\n",
       "\n",
       "    .dataframe tbody tr th {\n",
       "        vertical-align: top;\n",
       "    }\n",
       "\n",
       "    .dataframe thead th {\n",
       "        text-align: right;\n",
       "    }\n",
       "</style>\n",
       "<table border=\"1\" class=\"dataframe\">\n",
       "  <thead>\n",
       "    <tr style=\"text-align: right;\">\n",
       "      <th></th>\n",
       "      <th>artist</th>\n",
       "      <th>museum</th>\n",
       "      <th>gender</th>\n",
       "      <th>ethnicity</th>\n",
       "      <th>GEO3major</th>\n",
       "      <th>year</th>\n",
       "    </tr>\n",
       "  </thead>\n",
       "  <tbody>\n",
       "    <tr>\n",
       "      <th>0</th>\n",
       "      <td>Kikugawa Eishin (Hideyoshi)</td>\n",
       "      <td>Art Institute of Chicago</td>\n",
       "      <td>NaN</td>\n",
       "      <td>asian</td>\n",
       "      <td>Asia and the Pacific</td>\n",
       "      <td>NaN</td>\n",
       "    </tr>\n",
       "    <tr>\n",
       "      <th>1</th>\n",
       "      <td>Gordon C. Abbott</td>\n",
       "      <td>Art Institute of Chicago</td>\n",
       "      <td>man</td>\n",
       "      <td>white</td>\n",
       "      <td>North America</td>\n",
       "      <td>1880.0</td>\n",
       "    </tr>\n",
       "    <tr>\n",
       "      <th>2</th>\n",
       "      <td>Sigmund Abeles</td>\n",
       "      <td>Art Institute of Chicago</td>\n",
       "      <td>man</td>\n",
       "      <td>white</td>\n",
       "      <td>North America</td>\n",
       "      <td>1930.0</td>\n",
       "    </tr>\n",
       "    <tr>\n",
       "      <th>3</th>\n",
       "      <td>Albrecht Adam</td>\n",
       "      <td>Art Institute of Chicago</td>\n",
       "      <td>man</td>\n",
       "      <td>white</td>\n",
       "      <td>Europe</td>\n",
       "      <td>1790.0</td>\n",
       "    </tr>\n",
       "    <tr>\n",
       "      <th>4</th>\n",
       "      <td>Architects David Adler</td>\n",
       "      <td>Art Institute of Chicago</td>\n",
       "      <td>man</td>\n",
       "      <td>white</td>\n",
       "      <td>NaN</td>\n",
       "      <td>1880.0</td>\n",
       "    </tr>\n",
       "    <tr>\n",
       "      <th>...</th>\n",
       "      <td>...</td>\n",
       "      <td>...</td>\n",
       "      <td>...</td>\n",
       "      <td>...</td>\n",
       "      <td>...</td>\n",
       "      <td>...</td>\n",
       "    </tr>\n",
       "    <tr>\n",
       "      <th>10103</th>\n",
       "      <td>Magnus Zeller</td>\n",
       "      <td>Yale University Art Gallery</td>\n",
       "      <td>man</td>\n",
       "      <td>white</td>\n",
       "      <td>Europe</td>\n",
       "      <td>1890.0</td>\n",
       "    </tr>\n",
       "    <tr>\n",
       "      <th>10104</th>\n",
       "      <td>Sun Zhi</td>\n",
       "      <td>Yale University Art Gallery</td>\n",
       "      <td>man</td>\n",
       "      <td>asian</td>\n",
       "      <td>Asia and the Pacific</td>\n",
       "      <td>NaN</td>\n",
       "    </tr>\n",
       "    <tr>\n",
       "      <th>10105</th>\n",
       "      <td>Rufus Fairchild Zogbaum</td>\n",
       "      <td>Yale University Art Gallery</td>\n",
       "      <td>man</td>\n",
       "      <td>white</td>\n",
       "      <td>North America</td>\n",
       "      <td>1850.0</td>\n",
       "    </tr>\n",
       "    <tr>\n",
       "      <th>10106</th>\n",
       "      <td>Anders Leonard Zorn</td>\n",
       "      <td>Yale University Art Gallery</td>\n",
       "      <td>man</td>\n",
       "      <td>white</td>\n",
       "      <td>Europe</td>\n",
       "      <td>1860.0</td>\n",
       "    </tr>\n",
       "    <tr>\n",
       "      <th>10107</th>\n",
       "      <td>Francisco Zuniga</td>\n",
       "      <td>Yale University Art Gallery</td>\n",
       "      <td>man</td>\n",
       "      <td>NaN</td>\n",
       "      <td>Latin America and the Caribbean</td>\n",
       "      <td>1910.0</td>\n",
       "    </tr>\n",
       "  </tbody>\n",
       "</table>\n",
       "<p>10108 rows × 6 columns</p>\n",
       "</div>"
      ],
      "text/plain": [
       "                            artist                       museum gender  \\\n",
       "0      Kikugawa Eishin (Hideyoshi)     Art Institute of Chicago    NaN   \n",
       "1                 Gordon C. Abbott     Art Institute of Chicago    man   \n",
       "2                   Sigmund Abeles     Art Institute of Chicago    man   \n",
       "3                    Albrecht Adam     Art Institute of Chicago    man   \n",
       "4           Architects David Adler     Art Institute of Chicago    man   \n",
       "...                            ...                          ...    ...   \n",
       "10103                Magnus Zeller  Yale University Art Gallery    man   \n",
       "10104                      Sun Zhi  Yale University Art Gallery    man   \n",
       "10105      Rufus Fairchild Zogbaum  Yale University Art Gallery    man   \n",
       "10106          Anders Leonard Zorn  Yale University Art Gallery    man   \n",
       "10107             Francisco Zuniga  Yale University Art Gallery    man   \n",
       "\n",
       "      ethnicity                        GEO3major    year  \n",
       "0         asian             Asia and the Pacific     NaN  \n",
       "1         white                    North America  1880.0  \n",
       "2         white                    North America  1930.0  \n",
       "3         white                           Europe  1790.0  \n",
       "4         white                              NaN  1880.0  \n",
       "...         ...                              ...     ...  \n",
       "10103     white                           Europe  1890.0  \n",
       "10104     asian             Asia and the Pacific     NaN  \n",
       "10105     white                    North America  1850.0  \n",
       "10106     white                           Europe  1860.0  \n",
       "10107       NaN  Latin America and the Caribbean  1910.0  \n",
       "\n",
       "[10108 rows x 6 columns]"
      ]
     },
     "execution_count": 1,
     "metadata": {},
     "output_type": "execute_result"
    }
   ],
   "source": [
    "import pandas as pd\n",
    "\n",
    "import matplotlib.pyplot as plt\n",
    "\n",
    "df = pd.read_csv('https://raw.githubusercontent.com/artofstat/ArtistDiversity/master/artistdata.csv')\n",
    "\n",
    "df"
   ]
  },
  {
   "cell_type": "code",
   "execution_count": 12,
   "id": "9fda3aed",
   "metadata": {},
   "outputs": [
    {
     "data": {
      "text/html": [
       "<div>\n",
       "<style scoped>\n",
       "    .dataframe tbody tr th:only-of-type {\n",
       "        vertical-align: middle;\n",
       "    }\n",
       "\n",
       "    .dataframe tbody tr th {\n",
       "        vertical-align: top;\n",
       "    }\n",
       "\n",
       "    .dataframe thead th {\n",
       "        text-align: right;\n",
       "    }\n",
       "</style>\n",
       "<table border=\"1\" class=\"dataframe\">\n",
       "  <thead>\n",
       "    <tr style=\"text-align: right;\">\n",
       "      <th></th>\n",
       "      <th>artist</th>\n",
       "      <th>museum</th>\n",
       "      <th>gender</th>\n",
       "      <th>ethnicity</th>\n",
       "      <th>GEO3major</th>\n",
       "      <th>year</th>\n",
       "    </tr>\n",
       "  </thead>\n",
       "  <tbody>\n",
       "    <tr>\n",
       "      <th>6026</th>\n",
       "      <td>Nachume Miller</td>\n",
       "      <td>Museum of Modern Art</td>\n",
       "      <td>man</td>\n",
       "      <td>other</td>\n",
       "      <td>Europe</td>\n",
       "      <td>1950.0</td>\n",
       "    </tr>\n",
       "  </tbody>\n",
       "</table>\n",
       "</div>"
      ],
      "text/plain": [
       "              artist                museum gender ethnicity GEO3major    year\n",
       "6026  Nachume Miller  Museum of Modern Art    man     other    Europe  1950.0"
      ]
     },
     "execution_count": 12,
     "metadata": {},
     "output_type": "execute_result"
    }
   ],
   "source": [
    "df.sample()"
   ]
  },
  {
   "cell_type": "code",
   "execution_count": 14,
   "id": "543be154",
   "metadata": {},
   "outputs": [
    {
     "data": {
      "text/plain": [
       "Index(['artist', 'museum', 'gender', 'ethnicity', 'GEO3major', 'year'], dtype='object')"
      ]
     },
     "execution_count": 14,
     "metadata": {},
     "output_type": "execute_result"
    }
   ],
   "source": [
    "df.columns"
   ]
  },
  {
   "cell_type": "code",
   "execution_count": 15,
   "id": "331dd505",
   "metadata": {},
   "outputs": [
    {
     "data": {
      "text/plain": [
       "artist        object\n",
       "museum        object\n",
       "gender        object\n",
       "ethnicity     object\n",
       "GEO3major     object\n",
       "year         float64\n",
       "dtype: object"
      ]
     },
     "execution_count": 15,
     "metadata": {},
     "output_type": "execute_result"
    }
   ],
   "source": [
    "df.dtypes"
   ]
  },
  {
   "cell_type": "code",
   "execution_count": 16,
   "id": "83f6ca03",
   "metadata": {},
   "outputs": [
    {
     "data": {
      "text/plain": [
       "0        Kikugawa Eishin (Hideyoshi)\n",
       "1                   Gordon C. Abbott\n",
       "2                     Sigmund Abeles\n",
       "3                      Albrecht Adam\n",
       "4             Architects David Adler\n",
       "                    ...             \n",
       "10103                  Magnus Zeller\n",
       "10104                        Sun Zhi\n",
       "10105        Rufus Fairchild Zogbaum\n",
       "10106            Anders Leonard Zorn\n",
       "10107               Francisco Zuniga\n",
       "Name: artist, Length: 10108, dtype: object"
      ]
     },
     "execution_count": 16,
     "metadata": {},
     "output_type": "execute_result"
    }
   ],
   "source": [
    "df['artist']"
   ]
  },
  {
   "cell_type": "code",
   "execution_count": 17,
   "id": "68074a16",
   "metadata": {},
   "outputs": [
    {
     "data": {
      "text/html": [
       "<div>\n",
       "<style scoped>\n",
       "    .dataframe tbody tr th:only-of-type {\n",
       "        vertical-align: middle;\n",
       "    }\n",
       "\n",
       "    .dataframe tbody tr th {\n",
       "        vertical-align: top;\n",
       "    }\n",
       "\n",
       "    .dataframe thead th {\n",
       "        text-align: right;\n",
       "    }\n",
       "</style>\n",
       "<table border=\"1\" class=\"dataframe\">\n",
       "  <thead>\n",
       "    <tr style=\"text-align: right;\">\n",
       "      <th></th>\n",
       "      <th>year</th>\n",
       "    </tr>\n",
       "  </thead>\n",
       "  <tbody>\n",
       "    <tr>\n",
       "      <th>count</th>\n",
       "      <td>8026.000000</td>\n",
       "    </tr>\n",
       "    <tr>\n",
       "      <th>mean</th>\n",
       "      <td>1865.613008</td>\n",
       "    </tr>\n",
       "    <tr>\n",
       "      <th>std</th>\n",
       "      <td>123.300324</td>\n",
       "    </tr>\n",
       "    <tr>\n",
       "      <th>min</th>\n",
       "      <td>-400.000000</td>\n",
       "    </tr>\n",
       "    <tr>\n",
       "      <th>25%</th>\n",
       "      <td>1830.000000</td>\n",
       "    </tr>\n",
       "    <tr>\n",
       "      <th>50%</th>\n",
       "      <td>1900.000000</td>\n",
       "    </tr>\n",
       "    <tr>\n",
       "      <th>75%</th>\n",
       "      <td>1940.000000</td>\n",
       "    </tr>\n",
       "    <tr>\n",
       "      <th>max</th>\n",
       "      <td>1990.000000</td>\n",
       "    </tr>\n",
       "  </tbody>\n",
       "</table>\n",
       "</div>"
      ],
      "text/plain": [
       "              year\n",
       "count  8026.000000\n",
       "mean   1865.613008\n",
       "std     123.300324\n",
       "min    -400.000000\n",
       "25%    1830.000000\n",
       "50%    1900.000000\n",
       "75%    1940.000000\n",
       "max    1990.000000"
      ]
     },
     "execution_count": 17,
     "metadata": {},
     "output_type": "execute_result"
    }
   ],
   "source": [
    "df.describe()"
   ]
  },
  {
   "cell_type": "code",
   "execution_count": 19,
   "id": "1d5f6c25",
   "metadata": {},
   "outputs": [
    {
     "data": {
      "text/html": [
       "<div>\n",
       "<style scoped>\n",
       "    .dataframe tbody tr th:only-of-type {\n",
       "        vertical-align: middle;\n",
       "    }\n",
       "\n",
       "    .dataframe tbody tr th {\n",
       "        vertical-align: top;\n",
       "    }\n",
       "\n",
       "    .dataframe thead th {\n",
       "        text-align: right;\n",
       "    }\n",
       "</style>\n",
       "<table border=\"1\" class=\"dataframe\">\n",
       "  <thead>\n",
       "    <tr style=\"text-align: right;\">\n",
       "      <th></th>\n",
       "      <th>artist</th>\n",
       "      <th>museum</th>\n",
       "      <th>gender</th>\n",
       "      <th>ethnicity</th>\n",
       "      <th>GEO3major</th>\n",
       "      <th>year</th>\n",
       "    </tr>\n",
       "  </thead>\n",
       "  <tbody>\n",
       "    <tr>\n",
       "      <th>1</th>\n",
       "      <td>Gordon C. Abbott</td>\n",
       "      <td>Art Institute of Chicago</td>\n",
       "      <td>man</td>\n",
       "      <td>white</td>\n",
       "      <td>North America</td>\n",
       "      <td>1880.0</td>\n",
       "    </tr>\n",
       "    <tr>\n",
       "      <th>2</th>\n",
       "      <td>Sigmund Abeles</td>\n",
       "      <td>Art Institute of Chicago</td>\n",
       "      <td>man</td>\n",
       "      <td>white</td>\n",
       "      <td>North America</td>\n",
       "      <td>1930.0</td>\n",
       "    </tr>\n",
       "    <tr>\n",
       "      <th>3</th>\n",
       "      <td>Albrecht Adam</td>\n",
       "      <td>Art Institute of Chicago</td>\n",
       "      <td>man</td>\n",
       "      <td>white</td>\n",
       "      <td>Europe</td>\n",
       "      <td>1790.0</td>\n",
       "    </tr>\n",
       "    <tr>\n",
       "      <th>4</th>\n",
       "      <td>Architects David Adler</td>\n",
       "      <td>Art Institute of Chicago</td>\n",
       "      <td>man</td>\n",
       "      <td>white</td>\n",
       "      <td>NaN</td>\n",
       "      <td>1880.0</td>\n",
       "    </tr>\n",
       "    <tr>\n",
       "      <th>5</th>\n",
       "      <td>Vargi A. Aivazian</td>\n",
       "      <td>Art Institute of Chicago</td>\n",
       "      <td>man</td>\n",
       "      <td>white</td>\n",
       "      <td>Europe</td>\n",
       "      <td>1910.0</td>\n",
       "    </tr>\n",
       "    <tr>\n",
       "      <th>...</th>\n",
       "      <td>...</td>\n",
       "      <td>...</td>\n",
       "      <td>...</td>\n",
       "      <td>...</td>\n",
       "      <td>...</td>\n",
       "      <td>...</td>\n",
       "    </tr>\n",
       "    <tr>\n",
       "      <th>10103</th>\n",
       "      <td>Magnus Zeller</td>\n",
       "      <td>Yale University Art Gallery</td>\n",
       "      <td>man</td>\n",
       "      <td>white</td>\n",
       "      <td>Europe</td>\n",
       "      <td>1890.0</td>\n",
       "    </tr>\n",
       "    <tr>\n",
       "      <th>10104</th>\n",
       "      <td>Sun Zhi</td>\n",
       "      <td>Yale University Art Gallery</td>\n",
       "      <td>man</td>\n",
       "      <td>asian</td>\n",
       "      <td>Asia and the Pacific</td>\n",
       "      <td>NaN</td>\n",
       "    </tr>\n",
       "    <tr>\n",
       "      <th>10105</th>\n",
       "      <td>Rufus Fairchild Zogbaum</td>\n",
       "      <td>Yale University Art Gallery</td>\n",
       "      <td>man</td>\n",
       "      <td>white</td>\n",
       "      <td>North America</td>\n",
       "      <td>1850.0</td>\n",
       "    </tr>\n",
       "    <tr>\n",
       "      <th>10106</th>\n",
       "      <td>Anders Leonard Zorn</td>\n",
       "      <td>Yale University Art Gallery</td>\n",
       "      <td>man</td>\n",
       "      <td>white</td>\n",
       "      <td>Europe</td>\n",
       "      <td>1860.0</td>\n",
       "    </tr>\n",
       "    <tr>\n",
       "      <th>10107</th>\n",
       "      <td>Francisco Zuniga</td>\n",
       "      <td>Yale University Art Gallery</td>\n",
       "      <td>man</td>\n",
       "      <td>NaN</td>\n",
       "      <td>Latin America and the Caribbean</td>\n",
       "      <td>1910.0</td>\n",
       "    </tr>\n",
       "  </tbody>\n",
       "</table>\n",
       "<p>7865 rows × 6 columns</p>\n",
       "</div>"
      ],
      "text/plain": [
       "                        artist                       museum gender ethnicity  \\\n",
       "1             Gordon C. Abbott     Art Institute of Chicago    man     white   \n",
       "2               Sigmund Abeles     Art Institute of Chicago    man     white   \n",
       "3                Albrecht Adam     Art Institute of Chicago    man     white   \n",
       "4       Architects David Adler     Art Institute of Chicago    man     white   \n",
       "5            Vargi A. Aivazian     Art Institute of Chicago    man     white   \n",
       "...                        ...                          ...    ...       ...   \n",
       "10103            Magnus Zeller  Yale University Art Gallery    man     white   \n",
       "10104                  Sun Zhi  Yale University Art Gallery    man     asian   \n",
       "10105  Rufus Fairchild Zogbaum  Yale University Art Gallery    man     white   \n",
       "10106      Anders Leonard Zorn  Yale University Art Gallery    man     white   \n",
       "10107         Francisco Zuniga  Yale University Art Gallery    man       NaN   \n",
       "\n",
       "                             GEO3major    year  \n",
       "1                        North America  1880.0  \n",
       "2                        North America  1930.0  \n",
       "3                               Europe  1790.0  \n",
       "4                                  NaN  1880.0  \n",
       "5                               Europe  1910.0  \n",
       "...                                ...     ...  \n",
       "10103                           Europe  1890.0  \n",
       "10104             Asia and the Pacific     NaN  \n",
       "10105                    North America  1850.0  \n",
       "10106                           Europe  1860.0  \n",
       "10107  Latin America and the Caribbean  1910.0  \n",
       "\n",
       "[7865 rows x 6 columns]"
      ]
     },
     "execution_count": 19,
     "metadata": {},
     "output_type": "execute_result"
    }
   ],
   "source": [
    "df.loc[df['gender'] == 'man']"
   ]
  },
  {
   "cell_type": "code",
   "execution_count": 41,
   "id": "dd40f307",
   "metadata": {},
   "outputs": [
    {
     "data": {
      "text/html": [
       "<div>\n",
       "<style scoped>\n",
       "    .dataframe tbody tr th:only-of-type {\n",
       "        vertical-align: middle;\n",
       "    }\n",
       "\n",
       "    .dataframe tbody tr th {\n",
       "        vertical-align: top;\n",
       "    }\n",
       "\n",
       "    .dataframe thead th {\n",
       "        text-align: right;\n",
       "    }\n",
       "</style>\n",
       "<table border=\"1\" class=\"dataframe\">\n",
       "  <thead>\n",
       "    <tr style=\"text-align: right;\">\n",
       "      <th></th>\n",
       "      <th>artist</th>\n",
       "      <th>museum</th>\n",
       "      <th>gender</th>\n",
       "      <th>ethnicity</th>\n",
       "      <th>GEO3major</th>\n",
       "      <th>year</th>\n",
       "    </tr>\n",
       "  </thead>\n",
       "  <tbody>\n",
       "    <tr>\n",
       "      <th>9</th>\n",
       "      <td>Anna Kirstine Ancher</td>\n",
       "      <td>Art Institute of Chicago</td>\n",
       "      <td>woman</td>\n",
       "      <td>white</td>\n",
       "      <td>Europe</td>\n",
       "      <td>1860.0</td>\n",
       "    </tr>\n",
       "    <tr>\n",
       "      <th>25</th>\n",
       "      <td>Lutz Bacher</td>\n",
       "      <td>Art Institute of Chicago</td>\n",
       "      <td>woman</td>\n",
       "      <td>white</td>\n",
       "      <td>North America</td>\n",
       "      <td>NaN</td>\n",
       "    </tr>\n",
       "    <tr>\n",
       "      <th>49</th>\n",
       "      <td>Catarina Bremselin</td>\n",
       "      <td>Art Institute of Chicago</td>\n",
       "      <td>woman</td>\n",
       "      <td>white</td>\n",
       "      <td>NaN</td>\n",
       "      <td>NaN</td>\n",
       "    </tr>\n",
       "    <tr>\n",
       "      <th>70</th>\n",
       "      <td>Vija Celmins</td>\n",
       "      <td>Art Institute of Chicago</td>\n",
       "      <td>woman</td>\n",
       "      <td>white</td>\n",
       "      <td>Europe</td>\n",
       "      <td>1940.0</td>\n",
       "    </tr>\n",
       "    <tr>\n",
       "      <th>82</th>\n",
       "      <td>Sue Coe</td>\n",
       "      <td>Art Institute of Chicago</td>\n",
       "      <td>woman</td>\n",
       "      <td>white</td>\n",
       "      <td>Europe</td>\n",
       "      <td>1950.0</td>\n",
       "    </tr>\n",
       "    <tr>\n",
       "      <th>...</th>\n",
       "      <td>...</td>\n",
       "      <td>...</td>\n",
       "      <td>...</td>\n",
       "      <td>...</td>\n",
       "      <td>...</td>\n",
       "      <td>...</td>\n",
       "    </tr>\n",
       "    <tr>\n",
       "      <th>10053</th>\n",
       "      <td>Sylvia Wald</td>\n",
       "      <td>Yale University Art Gallery</td>\n",
       "      <td>woman</td>\n",
       "      <td>white</td>\n",
       "      <td>North America</td>\n",
       "      <td>1920.0</td>\n",
       "    </tr>\n",
       "    <tr>\n",
       "      <th>10060</th>\n",
       "      <td>Wenda Von Weise</td>\n",
       "      <td>Yale University Art Gallery</td>\n",
       "      <td>woman</td>\n",
       "      <td>NaN</td>\n",
       "      <td>North America</td>\n",
       "      <td>1940.0</td>\n",
       "    </tr>\n",
       "    <tr>\n",
       "      <th>10072</th>\n",
       "      <td>Megan Williams</td>\n",
       "      <td>Yale University Art Gallery</td>\n",
       "      <td>woman</td>\n",
       "      <td>white</td>\n",
       "      <td>NaN</td>\n",
       "      <td>1960.0</td>\n",
       "    </tr>\n",
       "    <tr>\n",
       "      <th>10080</th>\n",
       "      <td>Bess Wohl</td>\n",
       "      <td>Yale University Art Gallery</td>\n",
       "      <td>woman</td>\n",
       "      <td>white</td>\n",
       "      <td>North America</td>\n",
       "      <td>NaN</td>\n",
       "    </tr>\n",
       "    <tr>\n",
       "      <th>10081</th>\n",
       "      <td>Agatha Wojciechowsky</td>\n",
       "      <td>Yale University Art Gallery</td>\n",
       "      <td>woman</td>\n",
       "      <td>white</td>\n",
       "      <td>NaN</td>\n",
       "      <td>1900.0</td>\n",
       "    </tr>\n",
       "  </tbody>\n",
       "</table>\n",
       "<p>1151 rows × 6 columns</p>\n",
       "</div>"
      ],
      "text/plain": [
       "                     artist                       museum gender ethnicity  \\\n",
       "9      Anna Kirstine Ancher     Art Institute of Chicago  woman     white   \n",
       "25              Lutz Bacher     Art Institute of Chicago  woman     white   \n",
       "49       Catarina Bremselin     Art Institute of Chicago  woman     white   \n",
       "70             Vija Celmins     Art Institute of Chicago  woman     white   \n",
       "82                  Sue Coe     Art Institute of Chicago  woman     white   \n",
       "...                     ...                          ...    ...       ...   \n",
       "10053           Sylvia Wald  Yale University Art Gallery  woman     white   \n",
       "10060       Wenda Von Weise  Yale University Art Gallery  woman       NaN   \n",
       "10072        Megan Williams  Yale University Art Gallery  woman     white   \n",
       "10080             Bess Wohl  Yale University Art Gallery  woman     white   \n",
       "10081  Agatha Wojciechowsky  Yale University Art Gallery  woman     white   \n",
       "\n",
       "           GEO3major    year  \n",
       "9             Europe  1860.0  \n",
       "25     North America     NaN  \n",
       "49               NaN     NaN  \n",
       "70            Europe  1940.0  \n",
       "82            Europe  1950.0  \n",
       "...              ...     ...  \n",
       "10053  North America  1920.0  \n",
       "10060  North America  1940.0  \n",
       "10072            NaN  1960.0  \n",
       "10080  North America     NaN  \n",
       "10081            NaN  1900.0  \n",
       "\n",
       "[1151 rows x 6 columns]"
      ]
     },
     "execution_count": 41,
     "metadata": {},
     "output_type": "execute_result"
    }
   ],
   "source": [
    "# search for women artists\n",
    "df.loc[df['gender'] == 'woman']"
   ]
  },
  {
   "cell_type": "code",
   "execution_count": 27,
   "id": "94c112e2",
   "metadata": {},
   "outputs": [
    {
     "data": {
      "image/png": "[encoded data removed]",
      "text/plain": [
       "<Figure size 640x480 with 1 Axes>"
      ]
     },
     "metadata": {},
     "output_type": "display_data"
    }
   ],
   "source": [
    "# Visualizations\n",
    "# note: parameters are not displaying as intended? Since 'year' is the only float data type, it has to be on the y-axis\n",
    "\n",
    "df.loc[df['gender'] == 'woman'].plot(x='museum', y='year')\n",
    "plt.title('Histogram of Women Artists in U.S. Museums from 1500-1910')\n",
    "plt.xlabel('Women Artists')\n",
    "plt.show()"
   ]
  },
  {
   "cell_type": "code",
   "execution_count": 17,
   "id": "b0d06072",
   "metadata": {},
   "outputs": [
    {
     "data": {
      "text/plain": [
       "<AxesSubplot: ylabel='ethnicity'>"
      ]
     },
     "execution_count": 17,
     "metadata": {},
     "output_type": "execute_result"
    },
    {
     "data": {
      "image/png": "[encoded data removed]",
      "text/plain": [
       "<Figure size 640x480 with 1 Axes>"
      ]
     },
     "metadata": {},
     "output_type": "display_data"
    }
   ],
   "source": [
    "# Confused why null values show up when supposed to be removed\n",
    "# confused where there are multiple \"white\" or other ethnicities when the data was all from one column\n",
    "\n",
    "df.sort_values(by='gender',ascending=True)[-10:].plot.barh(x='ethnicity',y='year')"
   ]
  },
  {
   "cell_type": "code",
   "execution_count": 9,
   "id": "c93b9d99",
   "metadata": {},
   "outputs": [],
   "source": [
    "# Data cleaning"
   ]
  },
  {
   "cell_type": "code",
   "execution_count": 7,
   "id": "0f6bfccc",
   "metadata": {},
   "outputs": [
    {
     "data": {
      "text/plain": [
       "artist       False\n",
       "museum       False\n",
       "gender        True\n",
       "ethnicity     True\n",
       "GEO3major     True\n",
       "year          True\n",
       "dtype: bool"
      ]
     },
     "execution_count": 7,
     "metadata": {},
     "output_type": "execute_result"
    }
   ],
   "source": [
    "# are there null values?\n",
    "df.isna().any()"
   ]
  },
  {
   "cell_type": "code",
   "execution_count": 8,
   "id": "36d2882e",
   "metadata": {},
   "outputs": [
    {
     "data": {
      "text/plain": [
       "artist          0\n",
       "museum          0\n",
       "gender       1092\n",
       "ethnicity    1812\n",
       "GEO3major    1676\n",
       "year         2082\n",
       "dtype: int64"
      ]
     },
     "execution_count": 8,
     "metadata": {},
     "output_type": "execute_result"
    }
   ],
   "source": [
    "# null values\n",
    "df.isna(). sum()"
   ]
  },
  {
   "cell_type": "code",
   "execution_count": 10,
   "id": "de8508e3",
   "metadata": {},
   "outputs": [
    {
     "data": {
      "text/plain": [
       "4"
      ]
     },
     "execution_count": 10,
     "metadata": {},
     "output_type": "execute_result"
    }
   ],
   "source": [
    "df.isna().any().sum()"
   ]
  },
  {
   "cell_type": "code",
   "execution_count": 14,
   "id": "cf997b75",
   "metadata": {},
   "outputs": [],
   "source": [
    "df.dropna(subset=['gender'], inplace = True)"
   ]
  },
  {
   "cell_type": "code",
   "execution_count": 30,
   "id": "3cc276c5",
   "metadata": {},
   "outputs": [],
   "source": [
    "for x in df.index:\n",
    "  if df.loc[x, \"gender\"] == 'NaN':\n",
    "    df.drop(x, inplace = True)"
   ]
  },
  {
   "cell_type": "code",
   "execution_count": 31,
   "id": "16840ced",
   "metadata": {},
   "outputs": [
    {
     "data": {
      "text/plain": [
       "<AxesSubplot: ylabel='ethnicity'>"
      ]
     },
     "execution_count": 31,
     "metadata": {},
     "output_type": "execute_result"
    },
    {
     "data": {
      "image/png": "[encoded data removed]",
      "text/plain": [
       "<Figure size 640x480 with 1 Axes>"
      ]
     },
     "metadata": {},
     "output_type": "display_data"
    }
   ],
   "source": [
    "df.dropna(subset=['gender'], inplace = True)\n",
    "for x in df.index:\n",
    "  if df.loc[x, \"gender\"] == 'NaN':\n",
    "    df.drop(x, inplace = True)\n",
    "df.sort_values(by='gender',ascending=True)[-10:].plot.barh(x='ethnicity',y='year')"
   ]
  },
  {
   "cell_type": "code",
   "execution_count": 32,
   "id": "6fb23157",
   "metadata": {},
   "outputs": [
    {
     "data": {
      "text/plain": [
       "<AxesSubplot: >"
      ]
     },
     "execution_count": 32,
     "metadata": {},
     "output_type": "execute_result"
    },
    {
     "data": {
      "image/png": "[encoded data removed]",
      "text/plain": [
       "<Figure size 640x480 with 1 Axes>"
      ]
     },
     "metadata": {},
     "output_type": "display_data"
    }
   ],
   "source": [
    "# plot of all data from dataset\n",
    "df.plot()"
   ]
  },
  {
   "cell_type": "code",
   "execution_count": 33,
   "id": "79c81e91",
   "metadata": {},
   "outputs": [
    {
     "name": "stdout",
     "output_type": "stream",
     "text": [
      "                        artist                       museum gender ethnicity  \\\n",
      "1             Gordon C. Abbott     Art Institute of Chicago    man     white   \n",
      "2               Sigmund Abeles     Art Institute of Chicago    man     white   \n",
      "3                Albrecht Adam     Art Institute of Chicago    man     white   \n",
      "4       Architects David Adler     Art Institute of Chicago    man     white   \n",
      "5            Vargi A. Aivazian     Art Institute of Chicago    man     white   \n",
      "...                        ...                          ...    ...       ...   \n",
      "10103            Magnus Zeller  Yale University Art Gallery    man     white   \n",
      "10104                  Sun Zhi  Yale University Art Gallery    man     asian   \n",
      "10105  Rufus Fairchild Zogbaum  Yale University Art Gallery    man     white   \n",
      "10106      Anders Leonard Zorn  Yale University Art Gallery    man     white   \n",
      "10107         Francisco Zuniga  Yale University Art Gallery    man       NaN   \n",
      "\n",
      "                             GEO3major    year  \n",
      "1                        North America  1880.0  \n",
      "2                        North America  1930.0  \n",
      "3                               Europe  1790.0  \n",
      "4                                  NaN  1880.0  \n",
      "5                               Europe  1910.0  \n",
      "...                                ...     ...  \n",
      "10103                           Europe  1890.0  \n",
      "10104             Asia and the Pacific     NaN  \n",
      "10105                    North America  1850.0  \n",
      "10106                           Europe  1860.0  \n",
      "10107  Latin America and the Caribbean  1910.0  \n",
      "\n",
      "[9016 rows x 6 columns]\n"
     ]
    }
   ],
   "source": [
    "# tried to trim whitespace to see if format was messing with the plot graphs\n",
    "\n",
    "df['ethnicity'] = df['ethnicity'].str.strip()\n",
    "print(df)"
   ]
  },
  {
   "cell_type": "code",
   "execution_count": 9,
   "id": "679e802d",
   "metadata": {},
   "outputs": [
    {
     "data": {
      "text/html": [
       "<div>\n",
       "<style scoped>\n",
       "    .dataframe tbody tr th:only-of-type {\n",
       "        vertical-align: middle;\n",
       "    }\n",
       "\n",
       "    .dataframe tbody tr th {\n",
       "        vertical-align: top;\n",
       "    }\n",
       "\n",
       "    .dataframe thead th {\n",
       "        text-align: right;\n",
       "    }\n",
       "</style>\n",
       "<table border=\"1\" class=\"dataframe\">\n",
       "  <thead>\n",
       "    <tr style=\"text-align: right;\">\n",
       "      <th></th>\n",
       "      <th>artist</th>\n",
       "      <th>museum</th>\n",
       "      <th>gender</th>\n",
       "      <th>ethnicity</th>\n",
       "      <th>GEO3major</th>\n",
       "      <th>year</th>\n",
       "    </tr>\n",
       "  </thead>\n",
       "  <tbody>\n",
       "  </tbody>\n",
       "</table>\n",
       "</div>"
      ],
      "text/plain": [
       "Empty DataFrame\n",
       "Columns: [artist, museum, gender, ethnicity, GEO3major, year]\n",
       "Index: []"
      ]
     },
     "execution_count": 9,
     "metadata": {},
     "output_type": "execute_result"
    }
   ],
   "source": [
    "df.loc[df['artist']== 'museum']"
   ]
  },
  {
   "cell_type": "code",
   "execution_count": null,
   "id": "f0f3089b",
   "metadata": {},
   "outputs": [],
   "source": []
  }
 ],
 "metadata": {
  "kernelspec": {
   "display_name": "Python 3 (ipykernel)",
   "language": "python",
   "name": "python3"
  },
  "language_info": {
   "codemirror_mode": {
    "name": "ipython",
    "version": 3
   },
   "file_extension": ".py",
   "mimetype": "text/x-python",
   "name": "python",
   "nbconvert_exporter": "python",
   "pygments_lexer": "ipython3",
   "version": "3.10.8"
  }
 },
 "nbformat": 4,
 "nbformat_minor": 5
}
