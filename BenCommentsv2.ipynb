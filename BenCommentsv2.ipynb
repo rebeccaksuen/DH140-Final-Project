{
 "cells": [
  {
   "cell_type": "code",
   "execution_count": 67,
   "id": "cab8a98f",
   "metadata": {},
   "outputs": [
    {
     "data": {
      "text/html": [
       "<div>\n",
       "<style scoped>\n",
       "    .dataframe tbody tr th:only-of-type {\n",
       "        vertical-align: middle;\n",
       "    }\n",
       "\n",
       "    .dataframe tbody tr th {\n",
       "        vertical-align: top;\n",
       "    }\n",
       "\n",
       "    .dataframe thead th {\n",
       "        text-align: right;\n",
       "    }\n",
       "</style>\n",
       "<table border=\"1\" class=\"dataframe\">\n",
       "  <thead>\n",
       "    <tr style=\"text-align: right;\">\n",
       "      <th></th>\n",
       "      <th>artist</th>\n",
       "      <th>museum</th>\n",
       "      <th>gender</th>\n",
       "      <th>ethnicity</th>\n",
       "      <th>GEO3major</th>\n",
       "      <th>year</th>\n",
       "    </tr>\n",
       "  </thead>\n",
       "  <tbody>\n",
       "    <tr>\n",
       "      <th>0</th>\n",
       "      <td>Kikugawa Eishin (Hideyoshi)</td>\n",
       "      <td>Art Institute of Chicago</td>\n",
       "      <td>NaN</td>\n",
       "      <td>asian</td>\n",
       "      <td>Asia and the Pacific</td>\n",
       "      <td>NaN</td>\n",
       "    </tr>\n",
       "    <tr>\n",
       "      <th>1</th>\n",
       "      <td>Gordon C. Abbott</td>\n",
       "      <td>Art Institute of Chicago</td>\n",
       "      <td>man</td>\n",
       "      <td>white</td>\n",
       "      <td>North America</td>\n",
       "      <td>1880.0</td>\n",
       "    </tr>\n",
       "    <tr>\n",
       "      <th>2</th>\n",
       "      <td>Sigmund Abeles</td>\n",
       "      <td>Art Institute of Chicago</td>\n",
       "      <td>man</td>\n",
       "      <td>white</td>\n",
       "      <td>North America</td>\n",
       "      <td>1930.0</td>\n",
       "    </tr>\n",
       "    <tr>\n",
       "      <th>3</th>\n",
       "      <td>Albrecht Adam</td>\n",
       "      <td>Art Institute of Chicago</td>\n",
       "      <td>man</td>\n",
       "      <td>white</td>\n",
       "      <td>Europe</td>\n",
       "      <td>1790.0</td>\n",
       "    </tr>\n",
       "    <tr>\n",
       "      <th>4</th>\n",
       "      <td>Architects David Adler</td>\n",
       "      <td>Art Institute of Chicago</td>\n",
       "      <td>man</td>\n",
       "      <td>white</td>\n",
       "      <td>NaN</td>\n",
       "      <td>1880.0</td>\n",
       "    </tr>\n",
       "    <tr>\n",
       "      <th>...</th>\n",
       "      <td>...</td>\n",
       "      <td>...</td>\n",
       "      <td>...</td>\n",
       "      <td>...</td>\n",
       "      <td>...</td>\n",
       "      <td>...</td>\n",
       "    </tr>\n",
       "    <tr>\n",
       "      <th>10103</th>\n",
       "      <td>Magnus Zeller</td>\n",
       "      <td>Yale University Art Gallery</td>\n",
       "      <td>man</td>\n",
       "      <td>white</td>\n",
       "      <td>Europe</td>\n",
       "      <td>1890.0</td>\n",
       "    </tr>\n",
       "    <tr>\n",
       "      <th>10104</th>\n",
       "      <td>Sun Zhi</td>\n",
       "      <td>Yale University Art Gallery</td>\n",
       "      <td>man</td>\n",
       "      <td>asian</td>\n",
       "      <td>Asia and the Pacific</td>\n",
       "      <td>NaN</td>\n",
       "    </tr>\n",
       "    <tr>\n",
       "      <th>10105</th>\n",
       "      <td>Rufus Fairchild Zogbaum</td>\n",
       "      <td>Yale University Art Gallery</td>\n",
       "      <td>man</td>\n",
       "      <td>white</td>\n",
       "      <td>North America</td>\n",
       "      <td>1850.0</td>\n",
       "    </tr>\n",
       "    <tr>\n",
       "      <th>10106</th>\n",
       "      <td>Anders Leonard Zorn</td>\n",
       "      <td>Yale University Art Gallery</td>\n",
       "      <td>man</td>\n",
       "      <td>white</td>\n",
       "      <td>Europe</td>\n",
       "      <td>1860.0</td>\n",
       "    </tr>\n",
       "    <tr>\n",
       "      <th>10107</th>\n",
       "      <td>Francisco Zuniga</td>\n",
       "      <td>Yale University Art Gallery</td>\n",
       "      <td>man</td>\n",
       "      <td>NaN</td>\n",
       "      <td>Latin America and the Caribbean</td>\n",
       "      <td>1910.0</td>\n",
       "    </tr>\n",
       "  </tbody>\n",
       "</table>\n",
       "<p>10108 rows × 6 columns</p>\n",
       "</div>"
      ],
      "text/plain": [
       "                            artist                       museum gender  \\\n",
       "0      Kikugawa Eishin (Hideyoshi)     Art Institute of Chicago    NaN   \n",
       "1                 Gordon C. Abbott     Art Institute of Chicago    man   \n",
       "2                   Sigmund Abeles     Art Institute of Chicago    man   \n",
       "3                    Albrecht Adam     Art Institute of Chicago    man   \n",
       "4           Architects David Adler     Art Institute of Chicago    man   \n",
       "...                            ...                          ...    ...   \n",
       "10103                Magnus Zeller  Yale University Art Gallery    man   \n",
       "10104                      Sun Zhi  Yale University Art Gallery    man   \n",
       "10105      Rufus Fairchild Zogbaum  Yale University Art Gallery    man   \n",
       "10106          Anders Leonard Zorn  Yale University Art Gallery    man   \n",
       "10107             Francisco Zuniga  Yale University Art Gallery    man   \n",
       "\n",
       "      ethnicity                        GEO3major    year  \n",
       "0         asian             Asia and the Pacific     NaN  \n",
       "1         white                    North America  1880.0  \n",
       "2         white                    North America  1930.0  \n",
       "3         white                           Europe  1790.0  \n",
       "4         white                              NaN  1880.0  \n",
       "...         ...                              ...     ...  \n",
       "10103     white                           Europe  1890.0  \n",
       "10104     asian             Asia and the Pacific     NaN  \n",
       "10105     white                    North America  1850.0  \n",
       "10106     white                           Europe  1860.0  \n",
       "10107       NaN  Latin America and the Caribbean  1910.0  \n",
       "\n",
       "[10108 rows x 6 columns]"
      ]
     },
     "execution_count": 67,
     "metadata": {},
     "output_type": "execute_result"
    }
   ],
   "source": [
    "import pandas as pd\n",
    "\n",
    "import matplotlib.pyplot as plt\n",
    "\n",
    "df = pd.read_csv('https://raw.githubusercontent.com/artofstat/ArtistDiversity/master/artistdata.csv')\n",
    "\n",
    "df"
   ]
  },
  {
   "cell_type": "markdown",
   "id": "61d96cc1-2283-448d-9548-83418c2781ec",
   "metadata": {},
   "source": [
    "# BEN COMMENTS WILL BE IN ALL CAPS\n",
    "# VERIFY THAT THIS MATCHES WITH THE DATASET FOUND ON GITHUB FOR SIZE, SAMPLE ENTRIES, ETC"
   ]
  },
  {
   "cell_type": "code",
   "execution_count": 68,
   "id": "9fda3aed",
   "metadata": {},
   "outputs": [
    {
     "data": {
      "text/html": [
       "<div>\n",
       "<style scoped>\n",
       "    .dataframe tbody tr th:only-of-type {\n",
       "        vertical-align: middle;\n",
       "    }\n",
       "\n",
       "    .dataframe tbody tr th {\n",
       "        vertical-align: top;\n",
       "    }\n",
       "\n",
       "    .dataframe thead th {\n",
       "        text-align: right;\n",
       "    }\n",
       "</style>\n",
       "<table border=\"1\" class=\"dataframe\">\n",
       "  <thead>\n",
       "    <tr style=\"text-align: right;\">\n",
       "      <th></th>\n",
       "      <th>artist</th>\n",
       "      <th>museum</th>\n",
       "      <th>gender</th>\n",
       "      <th>ethnicity</th>\n",
       "      <th>GEO3major</th>\n",
       "      <th>year</th>\n",
       "    </tr>\n",
       "  </thead>\n",
       "  <tbody>\n",
       "    <tr>\n",
       "      <th>6809</th>\n",
       "      <td>Charles Jones</td>\n",
       "      <td>Nelson-Atkins Museum of Art</td>\n",
       "      <td>man</td>\n",
       "      <td>white</td>\n",
       "      <td>Europe</td>\n",
       "      <td>NaN</td>\n",
       "    </tr>\n",
       "  </tbody>\n",
       "</table>\n",
       "</div>"
      ],
      "text/plain": [
       "             artist                       museum gender ethnicity GEO3major  \\\n",
       "6809  Charles Jones  Nelson-Atkins Museum of Art    man     white    Europe   \n",
       "\n",
       "      year  \n",
       "6809   NaN  "
      ]
     },
     "execution_count": 68,
     "metadata": {},
     "output_type": "execute_result"
    }
   ],
   "source": [
    "df.sample()"
   ]
  },
  {
   "cell_type": "code",
   "execution_count": 71,
   "id": "f2e5ce5d",
   "metadata": {},
   "outputs": [
    {
     "data": {
      "text/html": [
       "<div>\n",
       "<style scoped>\n",
       "    .dataframe tbody tr th:only-of-type {\n",
       "        vertical-align: middle;\n",
       "    }\n",
       "\n",
       "    .dataframe tbody tr th {\n",
       "        vertical-align: top;\n",
       "    }\n",
       "\n",
       "    .dataframe thead th {\n",
       "        text-align: right;\n",
       "    }\n",
       "</style>\n",
       "<table border=\"1\" class=\"dataframe\">\n",
       "  <thead>\n",
       "    <tr style=\"text-align: right;\">\n",
       "      <th></th>\n",
       "      <th>artist</th>\n",
       "      <th>museum</th>\n",
       "      <th>gender</th>\n",
       "      <th>ethnicity</th>\n",
       "      <th>GEO3major</th>\n",
       "      <th>year</th>\n",
       "    </tr>\n",
       "  </thead>\n",
       "  <tbody>\n",
       "    <tr>\n",
       "      <th>0</th>\n",
       "      <td>Kikugawa Eishin (Hideyoshi)</td>\n",
       "      <td>Art Institute of Chicago</td>\n",
       "      <td>NaN</td>\n",
       "      <td>asian</td>\n",
       "      <td>Asia and the Pacific</td>\n",
       "      <td>NaN</td>\n",
       "    </tr>\n",
       "    <tr>\n",
       "      <th>1</th>\n",
       "      <td>Gordon C. Abbott</td>\n",
       "      <td>Art Institute of Chicago</td>\n",
       "      <td>man</td>\n",
       "      <td>white</td>\n",
       "      <td>North America</td>\n",
       "      <td>1880.0</td>\n",
       "    </tr>\n",
       "    <tr>\n",
       "      <th>2</th>\n",
       "      <td>Sigmund Abeles</td>\n",
       "      <td>Art Institute of Chicago</td>\n",
       "      <td>man</td>\n",
       "      <td>white</td>\n",
       "      <td>North America</td>\n",
       "      <td>1930.0</td>\n",
       "    </tr>\n",
       "    <tr>\n",
       "      <th>3</th>\n",
       "      <td>Albrecht Adam</td>\n",
       "      <td>Art Institute of Chicago</td>\n",
       "      <td>man</td>\n",
       "      <td>white</td>\n",
       "      <td>Europe</td>\n",
       "      <td>1790.0</td>\n",
       "    </tr>\n",
       "    <tr>\n",
       "      <th>4</th>\n",
       "      <td>Architects David Adler</td>\n",
       "      <td>Art Institute of Chicago</td>\n",
       "      <td>man</td>\n",
       "      <td>white</td>\n",
       "      <td>NaN</td>\n",
       "      <td>1880.0</td>\n",
       "    </tr>\n",
       "    <tr>\n",
       "      <th>5</th>\n",
       "      <td>Vargi A. Aivazian</td>\n",
       "      <td>Art Institute of Chicago</td>\n",
       "      <td>man</td>\n",
       "      <td>white</td>\n",
       "      <td>Europe</td>\n",
       "      <td>1910.0</td>\n",
       "    </tr>\n",
       "    <tr>\n",
       "      <th>6</th>\n",
       "      <td>Cherubino Alberti</td>\n",
       "      <td>Art Institute of Chicago</td>\n",
       "      <td>man</td>\n",
       "      <td>NaN</td>\n",
       "      <td>NaN</td>\n",
       "      <td>1550.0</td>\n",
       "    </tr>\n",
       "    <tr>\n",
       "      <th>7</th>\n",
       "      <td>Rudolf von Alt</td>\n",
       "      <td>Art Institute of Chicago</td>\n",
       "      <td>man</td>\n",
       "      <td>white</td>\n",
       "      <td>Europe</td>\n",
       "      <td>1810.0</td>\n",
       "    </tr>\n",
       "    <tr>\n",
       "      <th>8</th>\n",
       "      <td>Emilio Amero</td>\n",
       "      <td>Art Institute of Chicago</td>\n",
       "      <td>man</td>\n",
       "      <td>hispanic</td>\n",
       "      <td>Latin America and the Caribbean</td>\n",
       "      <td>1900.0</td>\n",
       "    </tr>\n",
       "    <tr>\n",
       "      <th>9</th>\n",
       "      <td>Anna Kirstine Ancher</td>\n",
       "      <td>Art Institute of Chicago</td>\n",
       "      <td>woman</td>\n",
       "      <td>white</td>\n",
       "      <td>Europe</td>\n",
       "      <td>1860.0</td>\n",
       "    </tr>\n",
       "    <tr>\n",
       "      <th>10</th>\n",
       "      <td>Master Alejo (Alejo AndA-a?)</td>\n",
       "      <td>Art Institute of Chicago</td>\n",
       "      <td>NaN</td>\n",
       "      <td>NaN</td>\n",
       "      <td>NaN</td>\n",
       "      <td>1480.0</td>\n",
       "    </tr>\n",
       "    <tr>\n",
       "      <th>11</th>\n",
       "      <td>JirA- Anderle</td>\n",
       "      <td>Art Institute of Chicago</td>\n",
       "      <td>NaN</td>\n",
       "      <td>NaN</td>\n",
       "      <td>NaN</td>\n",
       "      <td>NaN</td>\n",
       "    </tr>\n",
       "    <tr>\n",
       "      <th>12</th>\n",
       "      <td>Appert</td>\n",
       "      <td>Art Institute of Chicago</td>\n",
       "      <td>NaN</td>\n",
       "      <td>white</td>\n",
       "      <td>Europe</td>\n",
       "      <td>NaN</td>\n",
       "    </tr>\n",
       "    <tr>\n",
       "      <th>13</th>\n",
       "      <td>Humberto Aquino</td>\n",
       "      <td>Art Institute of Chicago</td>\n",
       "      <td>man</td>\n",
       "      <td>hispanic</td>\n",
       "      <td>Latin America and the Caribbean</td>\n",
       "      <td>1950.0</td>\n",
       "    </tr>\n",
       "    <tr>\n",
       "      <th>14</th>\n",
       "      <td>ShA&gt;saku Arakawa</td>\n",
       "      <td>Art Institute of Chicago</td>\n",
       "      <td>man</td>\n",
       "      <td>asian</td>\n",
       "      <td>Asia and the Pacific</td>\n",
       "      <td>1940.0</td>\n",
       "    </tr>\n",
       "    <tr>\n",
       "      <th>15</th>\n",
       "      <td>Luis Arenal</td>\n",
       "      <td>Art Institute of Chicago</td>\n",
       "      <td>man</td>\n",
       "      <td>hispanic</td>\n",
       "      <td>Latin America and the Caribbean</td>\n",
       "      <td>1910.0</td>\n",
       "    </tr>\n",
       "    <tr>\n",
       "      <th>16</th>\n",
       "      <td>Spinello Aretino</td>\n",
       "      <td>Art Institute of Chicago</td>\n",
       "      <td>man</td>\n",
       "      <td>white</td>\n",
       "      <td>Europe</td>\n",
       "      <td>1350.0</td>\n",
       "    </tr>\n",
       "    <tr>\n",
       "      <th>17</th>\n",
       "      <td>Siah Armajani</td>\n",
       "      <td>Art Institute of Chicago</td>\n",
       "      <td>man</td>\n",
       "      <td>other</td>\n",
       "      <td>NaN</td>\n",
       "      <td>1940.0</td>\n",
       "    </tr>\n",
       "    <tr>\n",
       "      <th>18</th>\n",
       "      <td>Charles Arnoldi</td>\n",
       "      <td>Art Institute of Chicago</td>\n",
       "      <td>man</td>\n",
       "      <td>white</td>\n",
       "      <td>North America</td>\n",
       "      <td>1950.0</td>\n",
       "    </tr>\n",
       "    <tr>\n",
       "      <th>19</th>\n",
       "      <td>Richard Artschwager</td>\n",
       "      <td>Art Institute of Chicago</td>\n",
       "      <td>man</td>\n",
       "      <td>white</td>\n",
       "      <td>North America</td>\n",
       "      <td>1920.0</td>\n",
       "    </tr>\n",
       "    <tr>\n",
       "      <th>20</th>\n",
       "      <td>Norio Aruma</td>\n",
       "      <td>Art Institute of Chicago</td>\n",
       "      <td>man</td>\n",
       "      <td>asian</td>\n",
       "      <td>Asia and the Pacific</td>\n",
       "      <td>1930.0</td>\n",
       "    </tr>\n",
       "    <tr>\n",
       "      <th>21</th>\n",
       "      <td>Aubin</td>\n",
       "      <td>Art Institute of Chicago</td>\n",
       "      <td>man</td>\n",
       "      <td>white</td>\n",
       "      <td>Europe</td>\n",
       "      <td>1720.0</td>\n",
       "    </tr>\n",
       "    <tr>\n",
       "      <th>22</th>\n",
       "      <td>Master C B</td>\n",
       "      <td>Art Institute of Chicago</td>\n",
       "      <td>man</td>\n",
       "      <td>white</td>\n",
       "      <td>Europe</td>\n",
       "      <td>1500.0</td>\n",
       "    </tr>\n",
       "    <tr>\n",
       "      <th>23</th>\n",
       "      <td>Gottfried BA?hm</td>\n",
       "      <td>Art Institute of Chicago</td>\n",
       "      <td>man</td>\n",
       "      <td>white</td>\n",
       "      <td>NaN</td>\n",
       "      <td>NaN</td>\n",
       "    </tr>\n",
       "    <tr>\n",
       "      <th>24</th>\n",
       "      <td>Ludolph BA?sinck</td>\n",
       "      <td>Art Institute of Chicago</td>\n",
       "      <td>man</td>\n",
       "      <td>white</td>\n",
       "      <td>Europe</td>\n",
       "      <td>1600.0</td>\n",
       "    </tr>\n",
       "    <tr>\n",
       "      <th>25</th>\n",
       "      <td>Lutz Bacher</td>\n",
       "      <td>Art Institute of Chicago</td>\n",
       "      <td>woman</td>\n",
       "      <td>white</td>\n",
       "      <td>North America</td>\n",
       "      <td>NaN</td>\n",
       "    </tr>\n",
       "    <tr>\n",
       "      <th>26</th>\n",
       "      <td>Dirk Bakker</td>\n",
       "      <td>Art Institute of Chicago</td>\n",
       "      <td>man</td>\n",
       "      <td>NaN</td>\n",
       "      <td>NaN</td>\n",
       "      <td>NaN</td>\n",
       "    </tr>\n",
       "    <tr>\n",
       "      <th>27</th>\n",
       "      <td>Tsuchida Bakusen</td>\n",
       "      <td>Art Institute of Chicago</td>\n",
       "      <td>man</td>\n",
       "      <td>asian</td>\n",
       "      <td>Asia and the Pacific</td>\n",
       "      <td>1890.0</td>\n",
       "    </tr>\n",
       "    <tr>\n",
       "      <th>28</th>\n",
       "      <td>Baccio Baldini</td>\n",
       "      <td>Art Institute of Chicago</td>\n",
       "      <td>man</td>\n",
       "      <td>white</td>\n",
       "      <td>Europe</td>\n",
       "      <td>1440.0</td>\n",
       "    </tr>\n",
       "    <tr>\n",
       "      <th>29</th>\n",
       "      <td>Edouard Denis Baldus</td>\n",
       "      <td>Art Institute of Chicago</td>\n",
       "      <td>man</td>\n",
       "      <td>white</td>\n",
       "      <td>Europe</td>\n",
       "      <td>1810.0</td>\n",
       "    </tr>\n",
       "    <tr>\n",
       "      <th>30</th>\n",
       "      <td>George Grey Barnard</td>\n",
       "      <td>Art Institute of Chicago</td>\n",
       "      <td>man</td>\n",
       "      <td>white</td>\n",
       "      <td>North America</td>\n",
       "      <td>1860.0</td>\n",
       "    </tr>\n",
       "    <tr>\n",
       "      <th>31</th>\n",
       "      <td>George N. Barnard</td>\n",
       "      <td>Art Institute of Chicago</td>\n",
       "      <td>man</td>\n",
       "      <td>white</td>\n",
       "      <td>North America</td>\n",
       "      <td>1820.0</td>\n",
       "    </tr>\n",
       "    <tr>\n",
       "      <th>32</th>\n",
       "      <td>Frederick H. Baumann</td>\n",
       "      <td>Art Institute of Chicago</td>\n",
       "      <td>man</td>\n",
       "      <td>white</td>\n",
       "      <td>North America</td>\n",
       "      <td>1830.0</td>\n",
       "    </tr>\n",
       "    <tr>\n",
       "      <th>33</th>\n",
       "      <td>Charles Joseph Beauverie</td>\n",
       "      <td>Art Institute of Chicago</td>\n",
       "      <td>man</td>\n",
       "      <td>white</td>\n",
       "      <td>Europe</td>\n",
       "      <td>1840.0</td>\n",
       "    </tr>\n",
       "    <tr>\n",
       "      <th>34</th>\n",
       "      <td>Fred Beckman</td>\n",
       "      <td>Art Institute of Chicago</td>\n",
       "      <td>man</td>\n",
       "      <td>white</td>\n",
       "      <td>North America</td>\n",
       "      <td>1930.0</td>\n",
       "    </tr>\n",
       "    <tr>\n",
       "      <th>35</th>\n",
       "      <td>William H. Bell</td>\n",
       "      <td>Art Institute of Chicago</td>\n",
       "      <td>man</td>\n",
       "      <td>white</td>\n",
       "      <td>Europe</td>\n",
       "      <td>1830.0</td>\n",
       "    </tr>\n",
       "    <tr>\n",
       "      <th>36</th>\n",
       "      <td>Filippo Bellini</td>\n",
       "      <td>Art Institute of Chicago</td>\n",
       "      <td>man</td>\n",
       "      <td>white</td>\n",
       "      <td>Europe</td>\n",
       "      <td>1550.0</td>\n",
       "    </tr>\n",
       "    <tr>\n",
       "      <th>37</th>\n",
       "      <td>Richard Bentley</td>\n",
       "      <td>Art Institute of Chicago</td>\n",
       "      <td>NaN</td>\n",
       "      <td>NaN</td>\n",
       "      <td>NaN</td>\n",
       "      <td>NaN</td>\n",
       "    </tr>\n",
       "    <tr>\n",
       "      <th>38</th>\n",
       "      <td>Joseph Antoine Bernard</td>\n",
       "      <td>Art Institute of Chicago</td>\n",
       "      <td>NaN</td>\n",
       "      <td>white</td>\n",
       "      <td>Europe</td>\n",
       "      <td>1870.0</td>\n",
       "    </tr>\n",
       "    <tr>\n",
       "      <th>39</th>\n",
       "      <td>NiccolA2 Berrettoni</td>\n",
       "      <td>Art Institute of Chicago</td>\n",
       "      <td>man</td>\n",
       "      <td>white</td>\n",
       "      <td>Europe</td>\n",
       "      <td>1640.0</td>\n",
       "    </tr>\n",
       "    <tr>\n",
       "      <th>40</th>\n",
       "      <td>Thomas Birch</td>\n",
       "      <td>Art Institute of Chicago</td>\n",
       "      <td>man</td>\n",
       "      <td>white</td>\n",
       "      <td>Europe</td>\n",
       "      <td>1780.0</td>\n",
       "    </tr>\n",
       "    <tr>\n",
       "      <th>41</th>\n",
       "      <td>Bartolomeo Biscaino</td>\n",
       "      <td>Art Institute of Chicago</td>\n",
       "      <td>man</td>\n",
       "      <td>white</td>\n",
       "      <td>Europe</td>\n",
       "      <td>1630.0</td>\n",
       "    </tr>\n",
       "    <tr>\n",
       "      <th>42</th>\n",
       "      <td>William Blake</td>\n",
       "      <td>Art Institute of Chicago</td>\n",
       "      <td>man</td>\n",
       "      <td>white</td>\n",
       "      <td>Europe</td>\n",
       "      <td>1760.0</td>\n",
       "    </tr>\n",
       "    <tr>\n",
       "      <th>43</th>\n",
       "      <td>Claude Bogratchew</td>\n",
       "      <td>Art Institute of Chicago</td>\n",
       "      <td>man</td>\n",
       "      <td>white</td>\n",
       "      <td>Europe</td>\n",
       "      <td>1940.0</td>\n",
       "    </tr>\n",
       "    <tr>\n",
       "      <th>44</th>\n",
       "      <td>Ilya Bolotowsky</td>\n",
       "      <td>Art Institute of Chicago</td>\n",
       "      <td>man</td>\n",
       "      <td>white</td>\n",
       "      <td>Europe</td>\n",
       "      <td>1910.0</td>\n",
       "    </tr>\n",
       "    <tr>\n",
       "      <th>45</th>\n",
       "      <td>Guglielmo Borremans</td>\n",
       "      <td>Art Institute of Chicago</td>\n",
       "      <td>man</td>\n",
       "      <td>white</td>\n",
       "      <td>Europe</td>\n",
       "      <td>1670.0</td>\n",
       "    </tr>\n",
       "    <tr>\n",
       "      <th>46</th>\n",
       "      <td>Michael E. Boruch</td>\n",
       "      <td>Art Institute of Chicago</td>\n",
       "      <td>man</td>\n",
       "      <td>white</td>\n",
       "      <td>North America</td>\n",
       "      <td>1950.0</td>\n",
       "    </tr>\n",
       "    <tr>\n",
       "      <th>47</th>\n",
       "      <td>VA!clav BostA-k</td>\n",
       "      <td>Art Institute of Chicago</td>\n",
       "      <td>man</td>\n",
       "      <td>white</td>\n",
       "      <td>Europe</td>\n",
       "      <td>1910.0</td>\n",
       "    </tr>\n",
       "    <tr>\n",
       "      <th>48</th>\n",
       "      <td>Boudry</td>\n",
       "      <td>Art Institute of Chicago</td>\n",
       "      <td>NaN</td>\n",
       "      <td>white</td>\n",
       "      <td>Europe</td>\n",
       "      <td>NaN</td>\n",
       "    </tr>\n",
       "    <tr>\n",
       "      <th>49</th>\n",
       "      <td>Catarina Bremselin</td>\n",
       "      <td>Art Institute of Chicago</td>\n",
       "      <td>woman</td>\n",
       "      <td>white</td>\n",
       "      <td>NaN</td>\n",
       "      <td>NaN</td>\n",
       "    </tr>\n",
       "  </tbody>\n",
       "</table>\n",
       "</div>"
      ],
      "text/plain": [
       "                          artist                    museum gender ethnicity  \\\n",
       "0    Kikugawa Eishin (Hideyoshi)  Art Institute of Chicago    NaN     asian   \n",
       "1               Gordon C. Abbott  Art Institute of Chicago    man     white   \n",
       "2                 Sigmund Abeles  Art Institute of Chicago    man     white   \n",
       "3                  Albrecht Adam  Art Institute of Chicago    man     white   \n",
       "4         Architects David Adler  Art Institute of Chicago    man     white   \n",
       "5              Vargi A. Aivazian  Art Institute of Chicago    man     white   \n",
       "6              Cherubino Alberti  Art Institute of Chicago    man       NaN   \n",
       "7                 Rudolf von Alt  Art Institute of Chicago    man     white   \n",
       "8                   Emilio Amero  Art Institute of Chicago    man  hispanic   \n",
       "9           Anna Kirstine Ancher  Art Institute of Chicago  woman     white   \n",
       "10  Master Alejo (Alejo AndA-a?)  Art Institute of Chicago    NaN       NaN   \n",
       "11                 JirA- Anderle  Art Institute of Chicago    NaN       NaN   \n",
       "12                        Appert  Art Institute of Chicago    NaN     white   \n",
       "13               Humberto Aquino  Art Institute of Chicago    man  hispanic   \n",
       "14              ShA>saku Arakawa  Art Institute of Chicago    man     asian   \n",
       "15                   Luis Arenal  Art Institute of Chicago    man  hispanic   \n",
       "16              Spinello Aretino  Art Institute of Chicago    man     white   \n",
       "17                 Siah Armajani  Art Institute of Chicago    man     other   \n",
       "18               Charles Arnoldi  Art Institute of Chicago    man     white   \n",
       "19           Richard Artschwager  Art Institute of Chicago    man     white   \n",
       "20                   Norio Aruma  Art Institute of Chicago    man     asian   \n",
       "21                         Aubin  Art Institute of Chicago    man     white   \n",
       "22                    Master C B  Art Institute of Chicago    man     white   \n",
       "23               Gottfried BA?hm  Art Institute of Chicago    man     white   \n",
       "24              Ludolph BA?sinck  Art Institute of Chicago    man     white   \n",
       "25                   Lutz Bacher  Art Institute of Chicago  woman     white   \n",
       "26                   Dirk Bakker  Art Institute of Chicago    man       NaN   \n",
       "27              Tsuchida Bakusen  Art Institute of Chicago    man     asian   \n",
       "28                Baccio Baldini  Art Institute of Chicago    man     white   \n",
       "29          Edouard Denis Baldus  Art Institute of Chicago    man     white   \n",
       "30           George Grey Barnard  Art Institute of Chicago    man     white   \n",
       "31             George N. Barnard  Art Institute of Chicago    man     white   \n",
       "32          Frederick H. Baumann  Art Institute of Chicago    man     white   \n",
       "33      Charles Joseph Beauverie  Art Institute of Chicago    man     white   \n",
       "34                  Fred Beckman  Art Institute of Chicago    man     white   \n",
       "35               William H. Bell  Art Institute of Chicago    man     white   \n",
       "36               Filippo Bellini  Art Institute of Chicago    man     white   \n",
       "37               Richard Bentley  Art Institute of Chicago    NaN       NaN   \n",
       "38        Joseph Antoine Bernard  Art Institute of Chicago    NaN     white   \n",
       "39           NiccolA2 Berrettoni  Art Institute of Chicago    man     white   \n",
       "40                  Thomas Birch  Art Institute of Chicago    man     white   \n",
       "41           Bartolomeo Biscaino  Art Institute of Chicago    man     white   \n",
       "42                 William Blake  Art Institute of Chicago    man     white   \n",
       "43             Claude Bogratchew  Art Institute of Chicago    man     white   \n",
       "44               Ilya Bolotowsky  Art Institute of Chicago    man     white   \n",
       "45           Guglielmo Borremans  Art Institute of Chicago    man     white   \n",
       "46             Michael E. Boruch  Art Institute of Chicago    man     white   \n",
       "47               VA!clav BostA-k  Art Institute of Chicago    man     white   \n",
       "48                        Boudry  Art Institute of Chicago    NaN     white   \n",
       "49            Catarina Bremselin  Art Institute of Chicago  woman     white   \n",
       "\n",
       "                          GEO3major    year  \n",
       "0              Asia and the Pacific     NaN  \n",
       "1                     North America  1880.0  \n",
       "2                     North America  1930.0  \n",
       "3                            Europe  1790.0  \n",
       "4                               NaN  1880.0  \n",
       "5                            Europe  1910.0  \n",
       "6                               NaN  1550.0  \n",
       "7                            Europe  1810.0  \n",
       "8   Latin America and the Caribbean  1900.0  \n",
       "9                            Europe  1860.0  \n",
       "10                              NaN  1480.0  \n",
       "11                              NaN     NaN  \n",
       "12                           Europe     NaN  \n",
       "13  Latin America and the Caribbean  1950.0  \n",
       "14             Asia and the Pacific  1940.0  \n",
       "15  Latin America and the Caribbean  1910.0  \n",
       "16                           Europe  1350.0  \n",
       "17                              NaN  1940.0  \n",
       "18                    North America  1950.0  \n",
       "19                    North America  1920.0  \n",
       "20             Asia and the Pacific  1930.0  \n",
       "21                           Europe  1720.0  \n",
       "22                           Europe  1500.0  \n",
       "23                              NaN     NaN  \n",
       "24                           Europe  1600.0  \n",
       "25                    North America     NaN  \n",
       "26                              NaN     NaN  \n",
       "27             Asia and the Pacific  1890.0  \n",
       "28                           Europe  1440.0  \n",
       "29                           Europe  1810.0  \n",
       "30                    North America  1860.0  \n",
       "31                    North America  1820.0  \n",
       "32                    North America  1830.0  \n",
       "33                           Europe  1840.0  \n",
       "34                    North America  1930.0  \n",
       "35                           Europe  1830.0  \n",
       "36                           Europe  1550.0  \n",
       "37                              NaN     NaN  \n",
       "38                           Europe  1870.0  \n",
       "39                           Europe  1640.0  \n",
       "40                           Europe  1780.0  \n",
       "41                           Europe  1630.0  \n",
       "42                           Europe  1760.0  \n",
       "43                           Europe  1940.0  \n",
       "44                           Europe  1910.0  \n",
       "45                           Europe  1670.0  \n",
       "46                    North America  1950.0  \n",
       "47                           Europe  1910.0  \n",
       "48                           Europe     NaN  \n",
       "49                              NaN     NaN  "
      ]
     },
     "execution_count": 71,
     "metadata": {},
     "output_type": "execute_result"
    }
   ],
   "source": [
    "df.head(50)"
   ]
  },
  {
   "cell_type": "code",
   "execution_count": 7,
   "id": "543be154",
   "metadata": {},
   "outputs": [
    {
     "data": {
      "text/plain": [
       "Index(['artist', 'museum', 'gender', 'ethnicity', 'GEO3major', 'year'], dtype='object')"
      ]
     },
     "execution_count": 7,
     "metadata": {},
     "output_type": "execute_result"
    }
   ],
   "source": [
    "df.columns"
   ]
  },
  {
   "cell_type": "code",
   "execution_count": 8,
   "id": "331dd505",
   "metadata": {},
   "outputs": [
    {
     "data": {
      "text/plain": [
       "artist        object\n",
       "museum        object\n",
       "gender        object\n",
       "ethnicity     object\n",
       "GEO3major     object\n",
       "year         float64\n",
       "dtype: object"
      ]
     },
     "execution_count": 8,
     "metadata": {},
     "output_type": "execute_result"
    }
   ],
   "source": [
    "df.dtypes"
   ]
  },
  {
   "cell_type": "code",
   "execution_count": 9,
   "id": "83f6ca03",
   "metadata": {},
   "outputs": [
    {
     "data": {
      "text/plain": [
       "0        Kikugawa Eishin (Hideyoshi)\n",
       "1                   Gordon C. Abbott\n",
       "2                     Sigmund Abeles\n",
       "3                      Albrecht Adam\n",
       "4             Architects David Adler\n",
       "                    ...             \n",
       "10103                  Magnus Zeller\n",
       "10104                        Sun Zhi\n",
       "10105        Rufus Fairchild Zogbaum\n",
       "10106            Anders Leonard Zorn\n",
       "10107               Francisco Zuniga\n",
       "Name: artist, Length: 10108, dtype: object"
      ]
     },
     "execution_count": 9,
     "metadata": {},
     "output_type": "execute_result"
    }
   ],
   "source": [
    "df['artist']"
   ]
  },
  {
   "cell_type": "code",
   "execution_count": 10,
   "id": "68074a16",
   "metadata": {},
   "outputs": [
    {
     "data": {
      "text/html": [
       "<div>\n",
       "<style scoped>\n",
       "    .dataframe tbody tr th:only-of-type {\n",
       "        vertical-align: middle;\n",
       "    }\n",
       "\n",
       "    .dataframe tbody tr th {\n",
       "        vertical-align: top;\n",
       "    }\n",
       "\n",
       "    .dataframe thead th {\n",
       "        text-align: right;\n",
       "    }\n",
       "</style>\n",
       "<table border=\"1\" class=\"dataframe\">\n",
       "  <thead>\n",
       "    <tr style=\"text-align: right;\">\n",
       "      <th></th>\n",
       "      <th>year</th>\n",
       "    </tr>\n",
       "  </thead>\n",
       "  <tbody>\n",
       "    <tr>\n",
       "      <th>count</th>\n",
       "      <td>8026.000000</td>\n",
       "    </tr>\n",
       "    <tr>\n",
       "      <th>mean</th>\n",
       "      <td>1865.613008</td>\n",
       "    </tr>\n",
       "    <tr>\n",
       "      <th>std</th>\n",
       "      <td>123.300324</td>\n",
       "    </tr>\n",
       "    <tr>\n",
       "      <th>min</th>\n",
       "      <td>-400.000000</td>\n",
       "    </tr>\n",
       "    <tr>\n",
       "      <th>25%</th>\n",
       "      <td>1830.000000</td>\n",
       "    </tr>\n",
       "    <tr>\n",
       "      <th>50%</th>\n",
       "      <td>1900.000000</td>\n",
       "    </tr>\n",
       "    <tr>\n",
       "      <th>75%</th>\n",
       "      <td>1940.000000</td>\n",
       "    </tr>\n",
       "    <tr>\n",
       "      <th>max</th>\n",
       "      <td>1990.000000</td>\n",
       "    </tr>\n",
       "  </tbody>\n",
       "</table>\n",
       "</div>"
      ],
      "text/plain": [
       "              year\n",
       "count  8026.000000\n",
       "mean   1865.613008\n",
       "std     123.300324\n",
       "min    -400.000000\n",
       "25%    1830.000000\n",
       "50%    1900.000000\n",
       "75%    1940.000000\n",
       "max    1990.000000"
      ]
     },
     "execution_count": 10,
     "metadata": {},
     "output_type": "execute_result"
    }
   ],
   "source": [
    "df.describe()"
   ]
  },
  {
   "cell_type": "code",
   "execution_count": 55,
   "id": "1d5f6c25",
   "metadata": {},
   "outputs": [
    {
     "data": {
      "text/html": [
       "<div>\n",
       "<style scoped>\n",
       "    .dataframe tbody tr th:only-of-type {\n",
       "        vertical-align: middle;\n",
       "    }\n",
       "\n",
       "    .dataframe tbody tr th {\n",
       "        vertical-align: top;\n",
       "    }\n",
       "\n",
       "    .dataframe thead th {\n",
       "        text-align: right;\n",
       "    }\n",
       "</style>\n",
       "<table border=\"1\" class=\"dataframe\">\n",
       "  <thead>\n",
       "    <tr style=\"text-align: right;\">\n",
       "      <th></th>\n",
       "      <th>artist</th>\n",
       "      <th>museum</th>\n",
       "      <th>gender</th>\n",
       "      <th>ethnicity</th>\n",
       "      <th>GEO3major</th>\n",
       "      <th>year</th>\n",
       "    </tr>\n",
       "  </thead>\n",
       "  <tbody>\n",
       "    <tr>\n",
       "      <th>0</th>\n",
       "      <td>Kikugawa Eishin (Hideyoshi)</td>\n",
       "      <td>Art Institute of Chicago</td>\n",
       "      <td>NaN</td>\n",
       "      <td>asian</td>\n",
       "      <td>Asia and the Pacific</td>\n",
       "      <td>NaN</td>\n",
       "    </tr>\n",
       "    <tr>\n",
       "      <th>14</th>\n",
       "      <td>ShA&gt;saku Arakawa</td>\n",
       "      <td>Art Institute of Chicago</td>\n",
       "      <td>man</td>\n",
       "      <td>asian</td>\n",
       "      <td>Asia and the Pacific</td>\n",
       "      <td>1940.0</td>\n",
       "    </tr>\n",
       "    <tr>\n",
       "      <th>20</th>\n",
       "      <td>Norio Aruma</td>\n",
       "      <td>Art Institute of Chicago</td>\n",
       "      <td>man</td>\n",
       "      <td>asian</td>\n",
       "      <td>Asia and the Pacific</td>\n",
       "      <td>1930.0</td>\n",
       "    </tr>\n",
       "    <tr>\n",
       "      <th>27</th>\n",
       "      <td>Tsuchida Bakusen</td>\n",
       "      <td>Art Institute of Chicago</td>\n",
       "      <td>man</td>\n",
       "      <td>asian</td>\n",
       "      <td>Asia and the Pacific</td>\n",
       "      <td>1890.0</td>\n",
       "    </tr>\n",
       "    <tr>\n",
       "      <th>75</th>\n",
       "      <td>Farrukh Chela</td>\n",
       "      <td>Art Institute of Chicago</td>\n",
       "      <td>NaN</td>\n",
       "      <td>asian</td>\n",
       "      <td>Asia and the Pacific</td>\n",
       "      <td>1580.0</td>\n",
       "    </tr>\n",
       "    <tr>\n",
       "      <th>...</th>\n",
       "      <td>...</td>\n",
       "      <td>...</td>\n",
       "      <td>...</td>\n",
       "      <td>...</td>\n",
       "      <td>...</td>\n",
       "      <td>...</td>\n",
       "    </tr>\n",
       "    <tr>\n",
       "      <th>10098</th>\n",
       "      <td>Wong Yuen-chun</td>\n",
       "      <td>Yale University Art Gallery</td>\n",
       "      <td>NaN</td>\n",
       "      <td>asian</td>\n",
       "      <td>Asia and the Pacific</td>\n",
       "      <td>NaN</td>\n",
       "    </tr>\n",
       "    <tr>\n",
       "      <th>10099</th>\n",
       "      <td>Chu Yun</td>\n",
       "      <td>Yale University Art Gallery</td>\n",
       "      <td>man</td>\n",
       "      <td>asian</td>\n",
       "      <td>Asia and the Pacific</td>\n",
       "      <td>1950.0</td>\n",
       "    </tr>\n",
       "    <tr>\n",
       "      <th>10100</th>\n",
       "      <td>Zhang Yunliang</td>\n",
       "      <td>Yale University Art Gallery</td>\n",
       "      <td>man</td>\n",
       "      <td>asian</td>\n",
       "      <td>Asia and the Pacific</td>\n",
       "      <td>NaN</td>\n",
       "    </tr>\n",
       "    <tr>\n",
       "      <th>10101</th>\n",
       "      <td>Xu Yunshu</td>\n",
       "      <td>Yale University Art Gallery</td>\n",
       "      <td>NaN</td>\n",
       "      <td>asian</td>\n",
       "      <td>Asia and the Pacific</td>\n",
       "      <td>1950.0</td>\n",
       "    </tr>\n",
       "    <tr>\n",
       "      <th>10104</th>\n",
       "      <td>Sun Zhi</td>\n",
       "      <td>Yale University Art Gallery</td>\n",
       "      <td>man</td>\n",
       "      <td>asian</td>\n",
       "      <td>Asia and the Pacific</td>\n",
       "      <td>NaN</td>\n",
       "    </tr>\n",
       "  </tbody>\n",
       "</table>\n",
       "<p>699 rows × 6 columns</p>\n",
       "</div>"
      ],
      "text/plain": [
       "                            artist                       museum gender  \\\n",
       "0      Kikugawa Eishin (Hideyoshi)     Art Institute of Chicago    NaN   \n",
       "14                ShA>saku Arakawa     Art Institute of Chicago    man   \n",
       "20                     Norio Aruma     Art Institute of Chicago    man   \n",
       "27                Tsuchida Bakusen     Art Institute of Chicago    man   \n",
       "75                   Farrukh Chela     Art Institute of Chicago    NaN   \n",
       "...                            ...                          ...    ...   \n",
       "10098               Wong Yuen-chun  Yale University Art Gallery    NaN   \n",
       "10099                      Chu Yun  Yale University Art Gallery    man   \n",
       "10100               Zhang Yunliang  Yale University Art Gallery    man   \n",
       "10101                    Xu Yunshu  Yale University Art Gallery    NaN   \n",
       "10104                      Sun Zhi  Yale University Art Gallery    man   \n",
       "\n",
       "      ethnicity             GEO3major    year  \n",
       "0         asian  Asia and the Pacific     NaN  \n",
       "14        asian  Asia and the Pacific  1940.0  \n",
       "20        asian  Asia and the Pacific  1930.0  \n",
       "27        asian  Asia and the Pacific  1890.0  \n",
       "75        asian  Asia and the Pacific  1580.0  \n",
       "...         ...                   ...     ...  \n",
       "10098     asian  Asia and the Pacific     NaN  \n",
       "10099     asian  Asia and the Pacific  1950.0  \n",
       "10100     asian  Asia and the Pacific     NaN  \n",
       "10101     asian  Asia and the Pacific  1950.0  \n",
       "10104     asian  Asia and the Pacific     NaN  \n",
       "\n",
       "[699 rows x 6 columns]"
      ]
     },
     "execution_count": 55,
     "metadata": {},
     "output_type": "execute_result"
    }
   ],
   "source": [
    "df.loc[df['ethnicity'] == 'asian']"
   ]
  },
  {
   "cell_type": "code",
   "execution_count": 12,
   "id": "dd40f307",
   "metadata": {},
   "outputs": [
    {
     "data": {
      "text/html": [
       "<div>\n",
       "<style scoped>\n",
       "    .dataframe tbody tr th:only-of-type {\n",
       "        vertical-align: middle;\n",
       "    }\n",
       "\n",
       "    .dataframe tbody tr th {\n",
       "        vertical-align: top;\n",
       "    }\n",
       "\n",
       "    .dataframe thead th {\n",
       "        text-align: right;\n",
       "    }\n",
       "</style>\n",
       "<table border=\"1\" class=\"dataframe\">\n",
       "  <thead>\n",
       "    <tr style=\"text-align: right;\">\n",
       "      <th></th>\n",
       "      <th>artist</th>\n",
       "      <th>museum</th>\n",
       "      <th>gender</th>\n",
       "      <th>ethnicity</th>\n",
       "      <th>GEO3major</th>\n",
       "      <th>year</th>\n",
       "    </tr>\n",
       "  </thead>\n",
       "  <tbody>\n",
       "    <tr>\n",
       "      <th>9</th>\n",
       "      <td>Anna Kirstine Ancher</td>\n",
       "      <td>Art Institute of Chicago</td>\n",
       "      <td>woman</td>\n",
       "      <td>white</td>\n",
       "      <td>Europe</td>\n",
       "      <td>1860.0</td>\n",
       "    </tr>\n",
       "    <tr>\n",
       "      <th>25</th>\n",
       "      <td>Lutz Bacher</td>\n",
       "      <td>Art Institute of Chicago</td>\n",
       "      <td>woman</td>\n",
       "      <td>white</td>\n",
       "      <td>North America</td>\n",
       "      <td>NaN</td>\n",
       "    </tr>\n",
       "    <tr>\n",
       "      <th>49</th>\n",
       "      <td>Catarina Bremselin</td>\n",
       "      <td>Art Institute of Chicago</td>\n",
       "      <td>woman</td>\n",
       "      <td>white</td>\n",
       "      <td>NaN</td>\n",
       "      <td>NaN</td>\n",
       "    </tr>\n",
       "    <tr>\n",
       "      <th>70</th>\n",
       "      <td>Vija Celmins</td>\n",
       "      <td>Art Institute of Chicago</td>\n",
       "      <td>woman</td>\n",
       "      <td>white</td>\n",
       "      <td>Europe</td>\n",
       "      <td>1940.0</td>\n",
       "    </tr>\n",
       "    <tr>\n",
       "      <th>82</th>\n",
       "      <td>Sue Coe</td>\n",
       "      <td>Art Institute of Chicago</td>\n",
       "      <td>woman</td>\n",
       "      <td>white</td>\n",
       "      <td>Europe</td>\n",
       "      <td>1950.0</td>\n",
       "    </tr>\n",
       "    <tr>\n",
       "      <th>...</th>\n",
       "      <td>...</td>\n",
       "      <td>...</td>\n",
       "      <td>...</td>\n",
       "      <td>...</td>\n",
       "      <td>...</td>\n",
       "      <td>...</td>\n",
       "    </tr>\n",
       "    <tr>\n",
       "      <th>10053</th>\n",
       "      <td>Sylvia Wald</td>\n",
       "      <td>Yale University Art Gallery</td>\n",
       "      <td>woman</td>\n",
       "      <td>white</td>\n",
       "      <td>North America</td>\n",
       "      <td>1920.0</td>\n",
       "    </tr>\n",
       "    <tr>\n",
       "      <th>10060</th>\n",
       "      <td>Wenda Von Weise</td>\n",
       "      <td>Yale University Art Gallery</td>\n",
       "      <td>woman</td>\n",
       "      <td>NaN</td>\n",
       "      <td>North America</td>\n",
       "      <td>1940.0</td>\n",
       "    </tr>\n",
       "    <tr>\n",
       "      <th>10072</th>\n",
       "      <td>Megan Williams</td>\n",
       "      <td>Yale University Art Gallery</td>\n",
       "      <td>woman</td>\n",
       "      <td>white</td>\n",
       "      <td>NaN</td>\n",
       "      <td>1960.0</td>\n",
       "    </tr>\n",
       "    <tr>\n",
       "      <th>10080</th>\n",
       "      <td>Bess Wohl</td>\n",
       "      <td>Yale University Art Gallery</td>\n",
       "      <td>woman</td>\n",
       "      <td>white</td>\n",
       "      <td>North America</td>\n",
       "      <td>NaN</td>\n",
       "    </tr>\n",
       "    <tr>\n",
       "      <th>10081</th>\n",
       "      <td>Agatha Wojciechowsky</td>\n",
       "      <td>Yale University Art Gallery</td>\n",
       "      <td>woman</td>\n",
       "      <td>white</td>\n",
       "      <td>NaN</td>\n",
       "      <td>1900.0</td>\n",
       "    </tr>\n",
       "  </tbody>\n",
       "</table>\n",
       "<p>1151 rows × 6 columns</p>\n",
       "</div>"
      ],
      "text/plain": [
       "                     artist                       museum gender ethnicity  \\\n",
       "9      Anna Kirstine Ancher     Art Institute of Chicago  woman     white   \n",
       "25              Lutz Bacher     Art Institute of Chicago  woman     white   \n",
       "49       Catarina Bremselin     Art Institute of Chicago  woman     white   \n",
       "70             Vija Celmins     Art Institute of Chicago  woman     white   \n",
       "82                  Sue Coe     Art Institute of Chicago  woman     white   \n",
       "...                     ...                          ...    ...       ...   \n",
       "10053           Sylvia Wald  Yale University Art Gallery  woman     white   \n",
       "10060       Wenda Von Weise  Yale University Art Gallery  woman       NaN   \n",
       "10072        Megan Williams  Yale University Art Gallery  woman     white   \n",
       "10080             Bess Wohl  Yale University Art Gallery  woman     white   \n",
       "10081  Agatha Wojciechowsky  Yale University Art Gallery  woman     white   \n",
       "\n",
       "           GEO3major    year  \n",
       "9             Europe  1860.0  \n",
       "25     North America     NaN  \n",
       "49               NaN     NaN  \n",
       "70            Europe  1940.0  \n",
       "82            Europe  1950.0  \n",
       "...              ...     ...  \n",
       "10053  North America  1920.0  \n",
       "10060  North America  1940.0  \n",
       "10072            NaN  1960.0  \n",
       "10080  North America     NaN  \n",
       "10081            NaN  1900.0  \n",
       "\n",
       "[1151 rows x 6 columns]"
      ]
     },
     "execution_count": 12,
     "metadata": {},
     "output_type": "execute_result"
    }
   ],
   "source": [
    "# search for women artists\n",
    "df.loc[df['gender'] == 'woman']"
   ]
  },
  {
   "cell_type": "code",
   "execution_count": 13,
   "id": "94c112e2",
   "metadata": {},
   "outputs": [
    {
     "data": {
      "image/png": "[encoded data removed]",
      "text/plain": [
       "<Figure size 640x480 with 1 Axes>"
      ]
     },
     "metadata": {},
     "output_type": "display_data"
    }
   ],
   "source": [
    "# Visualizations\n",
    "# note: parameters are not displaying as intended? Since 'year' is the only float data type, it has to be on the y-axis\n",
    "\n",
    "df.loc[df['gender'] == 'woman'].plot(x='museum', y='year')\n",
    "plt.title('Histogram of Women Artists in U.S. Museums from 1500-1910')\n",
    "plt.xlabel('Women Artists')\n",
    "plt.show()"
   ]
  },
  {
   "cell_type": "code",
   "execution_count": 14,
   "id": "5e41f907-794c-4651-807e-404c16efe66e",
   "metadata": {},
   "outputs": [
    {
     "data": {
      "text/html": [
       "<div>\n",
       "<style scoped>\n",
       "    .dataframe tbody tr th:only-of-type {\n",
       "        vertical-align: middle;\n",
       "    }\n",
       "\n",
       "    .dataframe tbody tr th {\n",
       "        vertical-align: top;\n",
       "    }\n",
       "\n",
       "    .dataframe thead th {\n",
       "        text-align: right;\n",
       "    }\n",
       "</style>\n",
       "<table border=\"1\" class=\"dataframe\">\n",
       "  <thead>\n",
       "    <tr style=\"text-align: right;\">\n",
       "      <th></th>\n",
       "      <th>artist</th>\n",
       "      <th>museum</th>\n",
       "      <th>gender</th>\n",
       "      <th>ethnicity</th>\n",
       "      <th>GEO3major</th>\n",
       "      <th>year</th>\n",
       "    </tr>\n",
       "  </thead>\n",
       "  <tbody>\n",
       "    <tr>\n",
       "      <th>9</th>\n",
       "      <td>Anna Kirstine Ancher</td>\n",
       "      <td>Art Institute of Chicago</td>\n",
       "      <td>woman</td>\n",
       "      <td>white</td>\n",
       "      <td>Europe</td>\n",
       "      <td>1860.0</td>\n",
       "    </tr>\n",
       "    <tr>\n",
       "      <th>25</th>\n",
       "      <td>Lutz Bacher</td>\n",
       "      <td>Art Institute of Chicago</td>\n",
       "      <td>woman</td>\n",
       "      <td>white</td>\n",
       "      <td>North America</td>\n",
       "      <td>NaN</td>\n",
       "    </tr>\n",
       "    <tr>\n",
       "      <th>49</th>\n",
       "      <td>Catarina Bremselin</td>\n",
       "      <td>Art Institute of Chicago</td>\n",
       "      <td>woman</td>\n",
       "      <td>white</td>\n",
       "      <td>NaN</td>\n",
       "      <td>NaN</td>\n",
       "    </tr>\n",
       "    <tr>\n",
       "      <th>70</th>\n",
       "      <td>Vija Celmins</td>\n",
       "      <td>Art Institute of Chicago</td>\n",
       "      <td>woman</td>\n",
       "      <td>white</td>\n",
       "      <td>Europe</td>\n",
       "      <td>1940.0</td>\n",
       "    </tr>\n",
       "    <tr>\n",
       "      <th>82</th>\n",
       "      <td>Sue Coe</td>\n",
       "      <td>Art Institute of Chicago</td>\n",
       "      <td>woman</td>\n",
       "      <td>white</td>\n",
       "      <td>Europe</td>\n",
       "      <td>1950.0</td>\n",
       "    </tr>\n",
       "    <tr>\n",
       "      <th>...</th>\n",
       "      <td>...</td>\n",
       "      <td>...</td>\n",
       "      <td>...</td>\n",
       "      <td>...</td>\n",
       "      <td>...</td>\n",
       "      <td>...</td>\n",
       "    </tr>\n",
       "    <tr>\n",
       "      <th>10053</th>\n",
       "      <td>Sylvia Wald</td>\n",
       "      <td>Yale University Art Gallery</td>\n",
       "      <td>woman</td>\n",
       "      <td>white</td>\n",
       "      <td>North America</td>\n",
       "      <td>1920.0</td>\n",
       "    </tr>\n",
       "    <tr>\n",
       "      <th>10060</th>\n",
       "      <td>Wenda Von Weise</td>\n",
       "      <td>Yale University Art Gallery</td>\n",
       "      <td>woman</td>\n",
       "      <td>NaN</td>\n",
       "      <td>North America</td>\n",
       "      <td>1940.0</td>\n",
       "    </tr>\n",
       "    <tr>\n",
       "      <th>10072</th>\n",
       "      <td>Megan Williams</td>\n",
       "      <td>Yale University Art Gallery</td>\n",
       "      <td>woman</td>\n",
       "      <td>white</td>\n",
       "      <td>NaN</td>\n",
       "      <td>1960.0</td>\n",
       "    </tr>\n",
       "    <tr>\n",
       "      <th>10080</th>\n",
       "      <td>Bess Wohl</td>\n",
       "      <td>Yale University Art Gallery</td>\n",
       "      <td>woman</td>\n",
       "      <td>white</td>\n",
       "      <td>North America</td>\n",
       "      <td>NaN</td>\n",
       "    </tr>\n",
       "    <tr>\n",
       "      <th>10081</th>\n",
       "      <td>Agatha Wojciechowsky</td>\n",
       "      <td>Yale University Art Gallery</td>\n",
       "      <td>woman</td>\n",
       "      <td>white</td>\n",
       "      <td>NaN</td>\n",
       "      <td>1900.0</td>\n",
       "    </tr>\n",
       "  </tbody>\n",
       "</table>\n",
       "<p>1151 rows × 6 columns</p>\n",
       "</div>"
      ],
      "text/plain": [
       "                     artist                       museum gender ethnicity  \\\n",
       "9      Anna Kirstine Ancher     Art Institute of Chicago  woman     white   \n",
       "25              Lutz Bacher     Art Institute of Chicago  woman     white   \n",
       "49       Catarina Bremselin     Art Institute of Chicago  woman     white   \n",
       "70             Vija Celmins     Art Institute of Chicago  woman     white   \n",
       "82                  Sue Coe     Art Institute of Chicago  woman     white   \n",
       "...                     ...                          ...    ...       ...   \n",
       "10053           Sylvia Wald  Yale University Art Gallery  woman     white   \n",
       "10060       Wenda Von Weise  Yale University Art Gallery  woman       NaN   \n",
       "10072        Megan Williams  Yale University Art Gallery  woman     white   \n",
       "10080             Bess Wohl  Yale University Art Gallery  woman     white   \n",
       "10081  Agatha Wojciechowsky  Yale University Art Gallery  woman     white   \n",
       "\n",
       "           GEO3major    year  \n",
       "9             Europe  1860.0  \n",
       "25     North America     NaN  \n",
       "49               NaN     NaN  \n",
       "70            Europe  1940.0  \n",
       "82            Europe  1950.0  \n",
       "...              ...     ...  \n",
       "10053  North America  1920.0  \n",
       "10060  North America  1940.0  \n",
       "10072            NaN  1960.0  \n",
       "10080  North America     NaN  \n",
       "10081            NaN  1900.0  \n",
       "\n",
       "[1151 rows x 6 columns]"
      ]
     },
     "execution_count": 14,
     "metadata": {},
     "output_type": "execute_result"
    }
   ],
   "source": [
    "df.loc[df['gender'] == 'woman']"
   ]
  },
  {
   "cell_type": "code",
   "execution_count": 15,
   "id": "776cce87-63ff-4c32-a2ec-2f9c9a4dd51b",
   "metadata": {},
   "outputs": [
    {
     "data": {
      "image/png": "[encoded data removed]",
      "text/plain": [
       "<Figure size 640x480 with 1 Axes>"
      ]
     },
     "metadata": {},
     "output_type": "display_data"
    }
   ],
   "source": [
    "# Visualizations\n",
    "# note: parameters are not displaying as intended? Since 'year' is the only float data type, it has to be on the y-axis\n",
    "\n",
    "df.loc[df['gender'] == 'woman',['year']].plot(kind='hist')\n",
    "plt.title('Histogram of Women Artists in U.S. Museums from 1500-1910')\n",
    "plt.xlabel('Year')\n",
    "plt.ylabel('Count of Artists')\n",
    "plt.show()"
   ]
  },
  {
   "cell_type": "markdown",
   "id": "c53d8950-a2ee-4ae9-bce5-e9bc42b001c1",
   "metadata": {},
   "source": [
    "# START OF BEN COMMENT:\n",
    "\n",
    "Aside: Cleaning NaNs\n",
    "\n",
    "Options:\n",
    "\n",
    "* Drop records that have missing values\n",
    "  * pd.DataFrame.dropna()\n",
    "  * default is to drop rows. This can be explicitly specified with pd.DataFrame.dropna(axis=0)\n",
    "* Drop an entire feature that has lots of missing values\n",
    "  * pd.DataFrame.dropna(<feature_name>, axis=1)\n",
    "  * <feature_name> is the name of the column to drop\n",
    "* Fill in missing values with something else\n",
    "  * Example: Impute the mean/median (if quantitative) or most common class (if categorical) for all missing values.\n",
    "  * pd.DataFrame.fillna(value=x.mean())\n"
   ]
  },
  {
   "cell_type": "code",
   "execution_count": 12,
   "id": "c93b9d99",
   "metadata": {},
   "outputs": [],
   "source": [
    "# Data cleaning"
   ]
  },
  {
   "cell_type": "code",
   "execution_count": 13,
   "id": "0f6bfccc",
   "metadata": {},
   "outputs": [
    {
     "data": {
      "text/plain": [
       "artist       False\n",
       "museum       False\n",
       "gender        True\n",
       "ethnicity     True\n",
       "GEO3major     True\n",
       "year          True\n",
       "dtype: bool"
      ]
     },
     "execution_count": 13,
     "metadata": {},
     "output_type": "execute_result"
    }
   ],
   "source": [
    "# are there null values?\n",
    "df.isna().any()"
   ]
  },
  {
   "cell_type": "code",
   "execution_count": 14,
   "id": "36d2882e",
   "metadata": {},
   "outputs": [
    {
     "data": {
      "text/plain": [
       "artist          0\n",
       "museum          0\n",
       "gender       1092\n",
       "ethnicity    1812\n",
       "GEO3major    1676\n",
       "year         2082\n",
       "dtype: int64"
      ]
     },
     "execution_count": 14,
     "metadata": {},
     "output_type": "execute_result"
    }
   ],
   "source": [
    "# null values\n",
    "df.isna(). sum()"
   ]
  },
  {
   "cell_type": "code",
   "execution_count": 15,
   "id": "de8508e3",
   "metadata": {},
   "outputs": [
    {
     "data": {
      "text/plain": [
       "4"
      ]
     },
     "execution_count": 15,
     "metadata": {},
     "output_type": "execute_result"
    }
   ],
   "source": [
    "df.isna().any().sum()"
   ]
  },
  {
   "cell_type": "code",
   "execution_count": 16,
   "id": "cf997b75",
   "metadata": {},
   "outputs": [],
   "source": [
    "df.dropna(subset=['gender'], inplace = True)"
   ]
  },
  {
   "cell_type": "code",
   "execution_count": 17,
   "id": "222efe2b-2da5-49a8-9038-e1268e07bc3e",
   "metadata": {},
   "outputs": [
    {
     "data": {
      "text/html": [
       "<div>\n",
       "<style scoped>\n",
       "    .dataframe tbody tr th:only-of-type {\n",
       "        vertical-align: middle;\n",
       "    }\n",
       "\n",
       "    .dataframe tbody tr th {\n",
       "        vertical-align: top;\n",
       "    }\n",
       "\n",
       "    .dataframe thead th {\n",
       "        text-align: right;\n",
       "    }\n",
       "</style>\n",
       "<table border=\"1\" class=\"dataframe\">\n",
       "  <thead>\n",
       "    <tr style=\"text-align: right;\">\n",
       "      <th></th>\n",
       "      <th>artist</th>\n",
       "      <th>museum</th>\n",
       "      <th>gender</th>\n",
       "      <th>ethnicity</th>\n",
       "      <th>GEO3major</th>\n",
       "      <th>year</th>\n",
       "    </tr>\n",
       "  </thead>\n",
       "  <tbody>\n",
       "  </tbody>\n",
       "</table>\n",
       "</div>"
      ],
      "text/plain": [
       "Empty DataFrame\n",
       "Columns: [artist, museum, gender, ethnicity, GEO3major, year]\n",
       "Index: []"
      ]
     },
     "execution_count": 17,
     "metadata": {},
     "output_type": "execute_result"
    }
   ],
   "source": [
    "# Prints out all rows that have NaN in gender column\n",
    "df[df['gender'].isna()]"
   ]
  },
  {
   "cell_type": "code",
   "execution_count": 18,
   "id": "4ac8c652-d2ca-43e2-b6f1-75d9616658a0",
   "metadata": {},
   "outputs": [],
   "source": [
    "df['gender'].fillna(value='unknown', inplace=True)"
   ]
  },
  {
   "cell_type": "code",
   "execution_count": 19,
   "id": "7e51b6a3-fead-4196-8683-b02224b121c9",
   "metadata": {
    "scrolled": true
   },
   "outputs": [
    {
     "data": {
      "text/html": [
       "<div>\n",
       "<style scoped>\n",
       "    .dataframe tbody tr th:only-of-type {\n",
       "        vertical-align: middle;\n",
       "    }\n",
       "\n",
       "    .dataframe tbody tr th {\n",
       "        vertical-align: top;\n",
       "    }\n",
       "\n",
       "    .dataframe thead th {\n",
       "        text-align: right;\n",
       "    }\n",
       "</style>\n",
       "<table border=\"1\" class=\"dataframe\">\n",
       "  <thead>\n",
       "    <tr style=\"text-align: right;\">\n",
       "      <th></th>\n",
       "      <th>artist</th>\n",
       "      <th>museum</th>\n",
       "      <th>gender</th>\n",
       "      <th>ethnicity</th>\n",
       "      <th>GEO3major</th>\n",
       "      <th>year</th>\n",
       "    </tr>\n",
       "  </thead>\n",
       "  <tbody>\n",
       "  </tbody>\n",
       "</table>\n",
       "</div>"
      ],
      "text/plain": [
       "Empty DataFrame\n",
       "Columns: [artist, museum, gender, ethnicity, GEO3major, year]\n",
       "Index: []"
      ]
     },
     "execution_count": 19,
     "metadata": {},
     "output_type": "execute_result"
    }
   ],
   "source": [
    "# Now no gender value is null\n",
    "df[df['gender'].isna()]"
   ]
  },
  {
   "cell_type": "code",
   "execution_count": 16,
   "id": "184d73fc-2d21-4f69-a34e-4f95f1d7a452",
   "metadata": {},
   "outputs": [
    {
     "data": {
      "text/html": [
       "<div>\n",
       "<style scoped>\n",
       "    .dataframe tbody tr th:only-of-type {\n",
       "        vertical-align: middle;\n",
       "    }\n",
       "\n",
       "    .dataframe tbody tr th {\n",
       "        vertical-align: top;\n",
       "    }\n",
       "\n",
       "    .dataframe thead th {\n",
       "        text-align: right;\n",
       "    }\n",
       "</style>\n",
       "<table border=\"1\" class=\"dataframe\">\n",
       "  <thead>\n",
       "    <tr style=\"text-align: right;\">\n",
       "      <th></th>\n",
       "      <th>artist</th>\n",
       "      <th>museum</th>\n",
       "      <th>gender</th>\n",
       "      <th>ethnicity</th>\n",
       "      <th>GEO3major</th>\n",
       "      <th>year</th>\n",
       "    </tr>\n",
       "  </thead>\n",
       "  <tbody>\n",
       "    <tr>\n",
       "      <th>10101</th>\n",
       "      <td>Xu Yunshu</td>\n",
       "      <td>Yale University Art Gallery</td>\n",
       "      <td>NaN</td>\n",
       "      <td>asian</td>\n",
       "      <td>Asia and the Pacific</td>\n",
       "      <td>1950.0</td>\n",
       "    </tr>\n",
       "  </tbody>\n",
       "</table>\n",
       "</div>"
      ],
      "text/plain": [
       "          artist                       museum gender ethnicity  \\\n",
       "10101  Xu Yunshu  Yale University Art Gallery    NaN     asian   \n",
       "\n",
       "                  GEO3major    year  \n",
       "10101  Asia and the Pacific  1950.0  "
      ]
     },
     "execution_count": 16,
     "metadata": {},
     "output_type": "execute_result"
    }
   ],
   "source": [
    "df.loc[[10101]]"
   ]
  },
  {
   "cell_type": "code",
   "execution_count": 4,
   "id": "cc25b030-5cc1-459c-9561-03179b75e846",
   "metadata": {},
   "outputs": [
    {
     "data": {
      "text/plain": [
       "<AxesSubplot: ylabel='Frequency'>"
      ]
     },
     "execution_count": 4,
     "metadata": {},
     "output_type": "execute_result"
    },
    {
     "data": {
      "image/png": "[encoded data removed]",
      "text/plain": [
       "<Figure size 640x480 with 1 Axes>"
      ]
     },
     "metadata": {},
     "output_type": "display_data"
    }
   ],
   "source": [
    "df['year'].plot(kind='hist')"
   ]
  },
  {
   "cell_type": "code",
   "execution_count": null,
   "id": "474c8cdf-d7a9-4261-b53b-947052756d56",
   "metadata": {},
   "outputs": [],
   "source": [
    "# for x in df.index:\n",
    "#     #if df.loc[x, \"gender\"] == 'nan':\n",
    "#     #if df.loc[x, \"gender\"] == 'NaN':\n",
    "#     if df.loc[x, \"gender\"] != df.loc[x, \"gender\"]:\n",
    "#         df.loc[x]"
   ]
  },
  {
   "cell_type": "code",
   "execution_count": null,
   "id": "b0d06072",
   "metadata": {},
   "outputs": [],
   "source": [
    "# Confused why null values show up when supposed to be removed\n",
    "# confused where there are multiple \"white\" or other ethnicities when the data was all from one column\n",
    "\n",
    "df.sort_values(by='gender',ascending=True)[-10:].plot.barh(x='ethnicity',y='year')"
   ]
  },
  {
   "cell_type": "code",
   "execution_count": null,
   "id": "96794aca-ee41-424f-85eb-b884d092ea69",
   "metadata": {},
   "outputs": [],
   "source": [
    "df['ethnicity'].fillna(value='Unknown', inplace=True)"
   ]
  },
  {
   "cell_type": "code",
   "execution_count": 56,
   "id": "c21edbf4-a717-4643-9724-181fdcc72331",
   "metadata": {},
   "outputs": [
    {
     "data": {
      "text/html": [
       "<div>\n",
       "<style scoped>\n",
       "    .dataframe tbody tr th:only-of-type {\n",
       "        vertical-align: middle;\n",
       "    }\n",
       "\n",
       "    .dataframe tbody tr th {\n",
       "        vertical-align: top;\n",
       "    }\n",
       "\n",
       "    .dataframe thead th {\n",
       "        text-align: right;\n",
       "    }\n",
       "</style>\n",
       "<table border=\"1\" class=\"dataframe\">\n",
       "  <thead>\n",
       "    <tr style=\"text-align: right;\">\n",
       "      <th></th>\n",
       "      <th>artist</th>\n",
       "      <th>museum</th>\n",
       "      <th>gender</th>\n",
       "      <th>ethnicity</th>\n",
       "      <th>GEO3major</th>\n",
       "      <th>year</th>\n",
       "    </tr>\n",
       "  </thead>\n",
       "  <tbody>\n",
       "    <tr>\n",
       "      <th>9981</th>\n",
       "      <td>Louis Sorlin</td>\n",
       "      <td>Yale University Art Gallery</td>\n",
       "      <td>NaN</td>\n",
       "      <td>NaN</td>\n",
       "      <td>North America</td>\n",
       "      <td>1920.0</td>\n",
       "    </tr>\n",
       "    <tr>\n",
       "      <th>9986</th>\n",
       "      <td>NiccolA2 Spinelli</td>\n",
       "      <td>Yale University Art Gallery</td>\n",
       "      <td>NaN</td>\n",
       "      <td>NaN</td>\n",
       "      <td>Europe</td>\n",
       "      <td>NaN</td>\n",
       "    </tr>\n",
       "    <tr>\n",
       "      <th>9999</th>\n",
       "      <td>A. Stroo</td>\n",
       "      <td>Yale University Art Gallery</td>\n",
       "      <td>NaN</td>\n",
       "      <td>NaN</td>\n",
       "      <td>Europe</td>\n",
       "      <td>NaN</td>\n",
       "    </tr>\n",
       "    <tr>\n",
       "      <th>10002</th>\n",
       "      <td>Bachrach Studio</td>\n",
       "      <td>Yale University Art Gallery</td>\n",
       "      <td>NaN</td>\n",
       "      <td>NaN</td>\n",
       "      <td>NaN</td>\n",
       "      <td>NaN</td>\n",
       "    </tr>\n",
       "    <tr>\n",
       "      <th>10011</th>\n",
       "      <td>Swift</td>\n",
       "      <td>Yale University Art Gallery</td>\n",
       "      <td>NaN</td>\n",
       "      <td>NaN</td>\n",
       "      <td>NaN</td>\n",
       "      <td>NaN</td>\n",
       "    </tr>\n",
       "    <tr>\n",
       "      <th>10018</th>\n",
       "      <td>Kitamura Tatsuo</td>\n",
       "      <td>Yale University Art Gallery</td>\n",
       "      <td>NaN</td>\n",
       "      <td>asian</td>\n",
       "      <td>Asia and the Pacific</td>\n",
       "      <td>1950.0</td>\n",
       "    </tr>\n",
       "    <tr>\n",
       "      <th>10031</th>\n",
       "      <td>Kiyoshige Torii</td>\n",
       "      <td>Yale University Art Gallery</td>\n",
       "      <td>NaN</td>\n",
       "      <td>asian</td>\n",
       "      <td>Asia and the Pacific</td>\n",
       "      <td>1700.0</td>\n",
       "    </tr>\n",
       "    <tr>\n",
       "      <th>10035</th>\n",
       "      <td>Clovis Trouville</td>\n",
       "      <td>Yale University Art Gallery</td>\n",
       "      <td>NaN</td>\n",
       "      <td>white</td>\n",
       "      <td>Europe</td>\n",
       "      <td>NaN</td>\n",
       "    </tr>\n",
       "    <tr>\n",
       "      <th>10042</th>\n",
       "      <td>John Keith Vaughan</td>\n",
       "      <td>Yale University Art Gallery</td>\n",
       "      <td>NaN</td>\n",
       "      <td>white</td>\n",
       "      <td>Europe</td>\n",
       "      <td>1910.0</td>\n",
       "    </tr>\n",
       "    <tr>\n",
       "      <th>10055</th>\n",
       "      <td>Sue Wall</td>\n",
       "      <td>Yale University Art Gallery</td>\n",
       "      <td>NaN</td>\n",
       "      <td>white</td>\n",
       "      <td>North America</td>\n",
       "      <td>1950.0</td>\n",
       "    </tr>\n",
       "    <tr>\n",
       "      <th>10084</th>\n",
       "      <td>Worcester</td>\n",
       "      <td>Yale University Art Gallery</td>\n",
       "      <td>NaN</td>\n",
       "      <td>white</td>\n",
       "      <td>NaN</td>\n",
       "      <td>NaN</td>\n",
       "    </tr>\n",
       "    <tr>\n",
       "      <th>10091</th>\n",
       "      <td>Fan Yi</td>\n",
       "      <td>Yale University Art Gallery</td>\n",
       "      <td>NaN</td>\n",
       "      <td>asian</td>\n",
       "      <td>Asia and the Pacific</td>\n",
       "      <td>1660.0</td>\n",
       "    </tr>\n",
       "    <tr>\n",
       "      <th>10097</th>\n",
       "      <td>Ban Yue</td>\n",
       "      <td>Yale University Art Gallery</td>\n",
       "      <td>NaN</td>\n",
       "      <td>asian</td>\n",
       "      <td>Asia and the Pacific</td>\n",
       "      <td>NaN</td>\n",
       "    </tr>\n",
       "    <tr>\n",
       "      <th>10098</th>\n",
       "      <td>Wong Yuen-chun</td>\n",
       "      <td>Yale University Art Gallery</td>\n",
       "      <td>NaN</td>\n",
       "      <td>asian</td>\n",
       "      <td>Asia and the Pacific</td>\n",
       "      <td>NaN</td>\n",
       "    </tr>\n",
       "    <tr>\n",
       "      <th>10101</th>\n",
       "      <td>Xu Yunshu</td>\n",
       "      <td>Yale University Art Gallery</td>\n",
       "      <td>NaN</td>\n",
       "      <td>asian</td>\n",
       "      <td>Asia and the Pacific</td>\n",
       "      <td>1950.0</td>\n",
       "    </tr>\n",
       "  </tbody>\n",
       "</table>\n",
       "</div>"
      ],
      "text/plain": [
       "                   artist                       museum gender ethnicity  \\\n",
       "9981         Louis Sorlin  Yale University Art Gallery    NaN       NaN   \n",
       "9986    NiccolA2 Spinelli  Yale University Art Gallery    NaN       NaN   \n",
       "9999             A. Stroo  Yale University Art Gallery    NaN       NaN   \n",
       "10002     Bachrach Studio  Yale University Art Gallery    NaN       NaN   \n",
       "10011               Swift  Yale University Art Gallery    NaN       NaN   \n",
       "10018     Kitamura Tatsuo  Yale University Art Gallery    NaN     asian   \n",
       "10031     Kiyoshige Torii  Yale University Art Gallery    NaN     asian   \n",
       "10035    Clovis Trouville  Yale University Art Gallery    NaN     white   \n",
       "10042  John Keith Vaughan  Yale University Art Gallery    NaN     white   \n",
       "10055            Sue Wall  Yale University Art Gallery    NaN     white   \n",
       "10084           Worcester  Yale University Art Gallery    NaN     white   \n",
       "10091              Fan Yi  Yale University Art Gallery    NaN     asian   \n",
       "10097             Ban Yue  Yale University Art Gallery    NaN     asian   \n",
       "10098      Wong Yuen-chun  Yale University Art Gallery    NaN     asian   \n",
       "10101           Xu Yunshu  Yale University Art Gallery    NaN     asian   \n",
       "\n",
       "                  GEO3major    year  \n",
       "9981          North America  1920.0  \n",
       "9986                 Europe     NaN  \n",
       "9999                 Europe     NaN  \n",
       "10002                   NaN     NaN  \n",
       "10011                   NaN     NaN  \n",
       "10018  Asia and the Pacific  1950.0  \n",
       "10031  Asia and the Pacific  1700.0  \n",
       "10035                Europe     NaN  \n",
       "10042                Europe  1910.0  \n",
       "10055         North America  1950.0  \n",
       "10084                   NaN     NaN  \n",
       "10091  Asia and the Pacific  1660.0  \n",
       "10097  Asia and the Pacific     NaN  \n",
       "10098  Asia and the Pacific     NaN  \n",
       "10101  Asia and the Pacific  1950.0  "
      ]
     },
     "execution_count": 56,
     "metadata": {},
     "output_type": "execute_result"
    }
   ],
   "source": [
    "df.sort_values(by='gender').tail(15)"
   ]
  },
  {
   "cell_type": "code",
   "execution_count": null,
   "id": "16840ced",
   "metadata": {},
   "outputs": [],
   "source": [
    "# drops will delete data we might want to keep\n",
    "# so do not execute this:\n",
    "# df.dropna(subset=['gender'], inplace = True)\n",
    "# for x in df.index:\n",
    "#   if df.loc[x, \"gender\"] == 'NaN':\n",
    "#     df.drop(x, inplace = True)\n",
    "\n",
    "# Plotting with null values replaced by \"Unknown\"\n",
    "df.sort_values(by='gender',ascending=True)[-10:].plot.barh(x='ethnicity',y='year')"
   ]
  },
  {
   "cell_type": "code",
   "execution_count": 57,
   "id": "c111b276-61c0-48f3-aaeb-a3ea1fef5bb8",
   "metadata": {},
   "outputs": [
    {
     "data": {
      "text/plain": [
       "gender  ethnicity\n",
       "man     asian         538\n",
       "        black          87\n",
       "        hispanic      193\n",
       "        other          67\n",
       "        white        5805\n",
       "woman   asian          38\n",
       "        black          33\n",
       "        hispanic       20\n",
       "        other          35\n",
       "        white         841\n",
       "Name: gender, dtype: int64"
      ]
     },
     "execution_count": 57,
     "metadata": {},
     "output_type": "execute_result"
    }
   ],
   "source": [
    "df.groupby(['gender','ethnicity'])['gender'].count()"
   ]
  },
  {
   "cell_type": "markdown",
   "id": "ec181d58-4701-4f26-9a98-eddf52038201",
   "metadata": {},
   "source": [
    "# END OF BEN COMMENT SECTION:"
   ]
  },
  {
   "cell_type": "code",
   "execution_count": null,
   "id": "6fb23157",
   "metadata": {},
   "outputs": [],
   "source": [
    "# plot of all data from dataset\n",
    "df.plot()"
   ]
  },
  {
   "cell_type": "markdown",
   "id": "ce4f61e0-b6e4-446e-bf90-1b9784b99ac9",
   "metadata": {},
   "source": [
    "# STEPS FOR PROGRESSING TO THE PROJECT ANALYSIS"
   ]
  },
  {
   "cell_type": "markdown",
   "id": "ccb5a591-d367-49e9-8f2e-d059bdef79ae",
   "metadata": {},
   "source": [
    "* Questions to address:\n",
    "  * Show white males most dominant in museums\n",
    "  * Visualization of women representation as a function of time\n",
    "  * 2nd or 3rd most popular ethnicity"
   ]
  },
  {
   "cell_type": "code",
   "execution_count": 21,
   "id": "54d736c5-a291-4b8a-86de-a1bca339555a",
   "metadata": {},
   "outputs": [
    {
     "data": {
      "text/plain": [
       "gender  ethnicity\n",
       "man     asian         538\n",
       "        black          87\n",
       "        hispanic      193\n",
       "        other          67\n",
       "        white        5805\n",
       "woman   asian          38\n",
       "        black          33\n",
       "        hispanic       20\n",
       "        other          35\n",
       "        white         841\n",
       "Name: gender, dtype: int64"
      ]
     },
     "execution_count": 21,
     "metadata": {},
     "output_type": "execute_result"
    }
   ],
   "source": [
    "# Show white males most dominant in museums\n",
    "\n",
    "df.groupby(['gender','ethnicity'])['gender'].count()"
   ]
  },
  {
   "cell_type": "code",
   "execution_count": 26,
   "id": "6696d6bc-9cdd-4d58-a454-4a8d04af7983",
   "metadata": {},
   "outputs": [],
   "source": [
    "import seaborn as sns"
   ]
  },
  {
   "cell_type": "code",
   "execution_count": 23,
   "id": "b619952b-20c9-494c-aa5c-1a0d6fa8165e",
   "metadata": {},
   "outputs": [
    {
     "data": {
      "text/plain": [
       "<seaborn.axisgrid.FacetGrid at 0x104d0f7f0>"
      ]
     },
     "execution_count": 23,
     "metadata": {},
     "output_type": "execute_result"
    },
    {
     "data": {
      "image/png": "[encoded data removed]",
      "text/plain": [
       "<Figure size 720x360 with 2 Axes>"
      ]
     },
     "metadata": {
      "needs_background": "light"
     },
     "output_type": "display_data"
    }
   ],
   "source": [
    "# for making a catplot: \n",
    "# seaborn.pydata.org/generated/seaborn.catplot.html\n",
    "sns.catplot(data=df, \n",
    "            x='ethnicity',\n",
    "            col='gender', \n",
    "            kind='count')"
   ]
  },
  {
   "cell_type": "code",
   "execution_count": 24,
   "id": "fe8016d4-f39e-4bf7-b25a-fae184587624",
   "metadata": {},
   "outputs": [],
   "source": [
    "# Would also be good to get quantitative values about how much greater\n",
    "# white men representation is than others\n",
    "\n",
    "gecounts = df.groupby(['gender','ethnicity'])['gender'].count()"
   ]
  },
  {
   "cell_type": "code",
   "execution_count": 25,
   "id": "d811ebec-5717-421c-bcc7-80f5f80a37ff",
   "metadata": {},
   "outputs": [
    {
     "data": {
      "text/plain": [
       "gender  ethnicity\n",
       "man     asian         538\n",
       "        black          87\n",
       "        hispanic      193\n",
       "        other          67\n",
       "        white        5805\n",
       "woman   asian          38\n",
       "        black          33\n",
       "        hispanic       20\n",
       "        other          35\n",
       "        white         841\n",
       "Name: gender, dtype: int64"
      ]
     },
     "execution_count": 25,
     "metadata": {},
     "output_type": "execute_result"
    }
   ],
   "source": [
    "gecounts"
   ]
  },
  {
   "cell_type": "code",
   "execution_count": 27,
   "id": "f6776bc2-f19c-4b30-ba34-211999ac6180",
   "metadata": {},
   "outputs": [
    {
     "data": {
      "text/plain": [
       "gender  ethnicity\n",
       "man     asian         538\n",
       "        black          87\n",
       "        hispanic      193\n",
       "        other          67\n",
       "        white        5805\n",
       "woman   asian          38\n",
       "        black          33\n",
       "        hispanic       20\n",
       "        other          35\n",
       "        white         841\n",
       "Name: gender, dtype: int64"
      ]
     },
     "execution_count": 27,
     "metadata": {},
     "output_type": "execute_result"
    }
   ],
   "source": [
    "# dataframe from the grouping/counting\n",
    "\n",
    "x = df.groupby(['gender','ethnicity'])['artist'].count()\n",
    "x = x.to_frame().reset_index().rename(columns={'artist':'artistcount'})\n",
    "gecounts = df.groupby(['gender','ethnicity'])['gender'].count()\n",
    "gecounts"
   ]
  },
  {
   "cell_type": "markdown",
   "id": "b962e306",
   "metadata": {},
   "source": [
    "# Sum work for percentages/comparisons:"
   ]
  },
  {
   "cell_type": "code",
   "execution_count": 28,
   "id": "d72ed053",
   "metadata": {},
   "outputs": [
    {
     "data": {
      "text/html": [
       "<div>\n",
       "<style scoped>\n",
       "    .dataframe tbody tr th:only-of-type {\n",
       "        vertical-align: middle;\n",
       "    }\n",
       "\n",
       "    .dataframe tbody tr th {\n",
       "        vertical-align: top;\n",
       "    }\n",
       "\n",
       "    .dataframe thead th {\n",
       "        text-align: right;\n",
       "    }\n",
       "</style>\n",
       "<table border=\"1\" class=\"dataframe\">\n",
       "  <thead>\n",
       "    <tr style=\"text-align: right;\">\n",
       "      <th></th>\n",
       "      <th>gender</th>\n",
       "      <th>ethnicity</th>\n",
       "      <th>artistcount</th>\n",
       "    </tr>\n",
       "  </thead>\n",
       "  <tbody>\n",
       "    <tr>\n",
       "      <th>0</th>\n",
       "      <td>man</td>\n",
       "      <td>asian</td>\n",
       "      <td>538</td>\n",
       "    </tr>\n",
       "    <tr>\n",
       "      <th>1</th>\n",
       "      <td>man</td>\n",
       "      <td>black</td>\n",
       "      <td>87</td>\n",
       "    </tr>\n",
       "    <tr>\n",
       "      <th>2</th>\n",
       "      <td>man</td>\n",
       "      <td>hispanic</td>\n",
       "      <td>193</td>\n",
       "    </tr>\n",
       "    <tr>\n",
       "      <th>3</th>\n",
       "      <td>man</td>\n",
       "      <td>other</td>\n",
       "      <td>67</td>\n",
       "    </tr>\n",
       "    <tr>\n",
       "      <th>4</th>\n",
       "      <td>man</td>\n",
       "      <td>white</td>\n",
       "      <td>5805</td>\n",
       "    </tr>\n",
       "    <tr>\n",
       "      <th>5</th>\n",
       "      <td>woman</td>\n",
       "      <td>asian</td>\n",
       "      <td>38</td>\n",
       "    </tr>\n",
       "    <tr>\n",
       "      <th>6</th>\n",
       "      <td>woman</td>\n",
       "      <td>black</td>\n",
       "      <td>33</td>\n",
       "    </tr>\n",
       "    <tr>\n",
       "      <th>7</th>\n",
       "      <td>woman</td>\n",
       "      <td>hispanic</td>\n",
       "      <td>20</td>\n",
       "    </tr>\n",
       "    <tr>\n",
       "      <th>8</th>\n",
       "      <td>woman</td>\n",
       "      <td>other</td>\n",
       "      <td>35</td>\n",
       "    </tr>\n",
       "    <tr>\n",
       "      <th>9</th>\n",
       "      <td>woman</td>\n",
       "      <td>white</td>\n",
       "      <td>841</td>\n",
       "    </tr>\n",
       "  </tbody>\n",
       "</table>\n",
       "</div>"
      ],
      "text/plain": [
       "  gender ethnicity  artistcount\n",
       "0    man     asian          538\n",
       "1    man     black           87\n",
       "2    man  hispanic          193\n",
       "3    man     other           67\n",
       "4    man     white         5805\n",
       "5  woman     asian           38\n",
       "6  woman     black           33\n",
       "7  woman  hispanic           20\n",
       "8  woman     other           35\n",
       "9  woman     white          841"
      ]
     },
     "execution_count": 28,
     "metadata": {},
     "output_type": "execute_result"
    }
   ],
   "source": [
    "x = df.groupby(['gender','ethnicity'])['artist'].count()\n",
    "x = x.to_frame().reset_index().rename(columns={'artist':'artistcount'})\n",
    "gecounts = df.groupby(['gender','ethnicity'])['gender'].count()\n",
    "gecounts\n",
    "x"
   ]
  },
  {
   "cell_type": "code",
   "execution_count": 58,
   "id": "d532d219",
   "metadata": {},
   "outputs": [
    {
     "data": {
      "text/plain": [
       "7657"
      ]
     },
     "execution_count": 58,
     "metadata": {},
     "output_type": "execute_result"
    }
   ],
   "source": [
    "x = df.groupby(['gender','ethnicity'])['artist'].count()\n",
    "x = x.to_frame().reset_index().rename(columns={'artist':'artistcount'})\n",
    "gecounts = df.groupby(['gender','ethnicity'])['gender'].count()\n",
    "\n",
    "# total sum of all artists: 7657\n",
    "x.sum()\n",
    "\n",
    "#or\n",
    "\n",
    "sum(gecounts)"
   ]
  },
  {
   "cell_type": "code",
   "execution_count": 30,
   "id": "f6741596-5a81-4736-93c7-a2b254e3ddf8",
   "metadata": {},
   "outputs": [
    {
     "data": {
      "text/html": [
       "<div>\n",
       "<style scoped>\n",
       "    .dataframe tbody tr th:only-of-type {\n",
       "        vertical-align: middle;\n",
       "    }\n",
       "\n",
       "    .dataframe tbody tr th {\n",
       "        vertical-align: top;\n",
       "    }\n",
       "\n",
       "    .dataframe thead th {\n",
       "        text-align: right;\n",
       "    }\n",
       "</style>\n",
       "<table border=\"1\" class=\"dataframe\">\n",
       "  <thead>\n",
       "    <tr style=\"text-align: right;\">\n",
       "      <th></th>\n",
       "      <th>gender</th>\n",
       "      <th>ethnicity</th>\n",
       "      <th>artistcount</th>\n",
       "    </tr>\n",
       "  </thead>\n",
       "  <tbody>\n",
       "    <tr>\n",
       "      <th>0</th>\n",
       "      <td>man</td>\n",
       "      <td>asian</td>\n",
       "      <td>538</td>\n",
       "    </tr>\n",
       "    <tr>\n",
       "      <th>1</th>\n",
       "      <td>man</td>\n",
       "      <td>black</td>\n",
       "      <td>87</td>\n",
       "    </tr>\n",
       "    <tr>\n",
       "      <th>2</th>\n",
       "      <td>man</td>\n",
       "      <td>hispanic</td>\n",
       "      <td>193</td>\n",
       "    </tr>\n",
       "    <tr>\n",
       "      <th>3</th>\n",
       "      <td>man</td>\n",
       "      <td>other</td>\n",
       "      <td>67</td>\n",
       "    </tr>\n",
       "    <tr>\n",
       "      <th>4</th>\n",
       "      <td>man</td>\n",
       "      <td>white</td>\n",
       "      <td>5805</td>\n",
       "    </tr>\n",
       "    <tr>\n",
       "      <th>5</th>\n",
       "      <td>woman</td>\n",
       "      <td>asian</td>\n",
       "      <td>38</td>\n",
       "    </tr>\n",
       "    <tr>\n",
       "      <th>6</th>\n",
       "      <td>woman</td>\n",
       "      <td>black</td>\n",
       "      <td>33</td>\n",
       "    </tr>\n",
       "    <tr>\n",
       "      <th>7</th>\n",
       "      <td>woman</td>\n",
       "      <td>hispanic</td>\n",
       "      <td>20</td>\n",
       "    </tr>\n",
       "    <tr>\n",
       "      <th>8</th>\n",
       "      <td>woman</td>\n",
       "      <td>other</td>\n",
       "      <td>35</td>\n",
       "    </tr>\n",
       "    <tr>\n",
       "      <th>9</th>\n",
       "      <td>woman</td>\n",
       "      <td>white</td>\n",
       "      <td>841</td>\n",
       "    </tr>\n",
       "  </tbody>\n",
       "</table>\n",
       "</div>"
      ],
      "text/plain": [
       "  gender ethnicity  artistcount\n",
       "0    man     asian          538\n",
       "1    man     black           87\n",
       "2    man  hispanic          193\n",
       "3    man     other           67\n",
       "4    man     white         5805\n",
       "5  woman     asian           38\n",
       "6  woman     black           33\n",
       "7  woman  hispanic           20\n",
       "8  woman     other           35\n",
       "9  woman     white          841"
      ]
     },
     "execution_count": 30,
     "metadata": {},
     "output_type": "execute_result"
    }
   ],
   "source": [
    "x"
   ]
  },
  {
   "cell_type": "markdown",
   "id": "cc5748ca-1250-494e-b534-4f2657be0ff1",
   "metadata": {},
   "source": [
    "# BEN CALCULATING PERCENTAGES"
   ]
  },
  {
   "cell_type": "code",
   "execution_count": 2,
   "id": "f3ef3d96-25ba-4712-8ade-40e59be8aeaa",
   "metadata": {},
   "outputs": [
    {
     "data": {
      "text/html": [
       "<div>\n",
       "<style scoped>\n",
       "    .dataframe tbody tr th:only-of-type {\n",
       "        vertical-align: middle;\n",
       "    }\n",
       "\n",
       "    .dataframe tbody tr th {\n",
       "        vertical-align: top;\n",
       "    }\n",
       "\n",
       "    .dataframe thead th {\n",
       "        text-align: right;\n",
       "    }\n",
       "</style>\n",
       "<table border=\"1\" class=\"dataframe\">\n",
       "  <thead>\n",
       "    <tr style=\"text-align: right;\">\n",
       "      <th></th>\n",
       "      <th>gender</th>\n",
       "      <th>ethnicity</th>\n",
       "      <th>year</th>\n",
       "      <th>artistcount</th>\n",
       "    </tr>\n",
       "  </thead>\n",
       "  <tbody>\n",
       "    <tr>\n",
       "      <th>0</th>\n",
       "      <td>man</td>\n",
       "      <td>asian</td>\n",
       "      <td>1090.0</td>\n",
       "      <td>1</td>\n",
       "    </tr>\n",
       "    <tr>\n",
       "      <th>1</th>\n",
       "      <td>man</td>\n",
       "      <td>asian</td>\n",
       "      <td>1250.0</td>\n",
       "      <td>1</td>\n",
       "    </tr>\n",
       "    <tr>\n",
       "      <th>2</th>\n",
       "      <td>man</td>\n",
       "      <td>asian</td>\n",
       "      <td>1270.0</td>\n",
       "      <td>1</td>\n",
       "    </tr>\n",
       "    <tr>\n",
       "      <th>3</th>\n",
       "      <td>man</td>\n",
       "      <td>asian</td>\n",
       "      <td>1360.0</td>\n",
       "      <td>1</td>\n",
       "    </tr>\n",
       "    <tr>\n",
       "      <th>4</th>\n",
       "      <td>man</td>\n",
       "      <td>asian</td>\n",
       "      <td>1380.0</td>\n",
       "      <td>1</td>\n",
       "    </tr>\n",
       "    <tr>\n",
       "      <th>...</th>\n",
       "      <td>...</td>\n",
       "      <td>...</td>\n",
       "      <td>...</td>\n",
       "      <td>...</td>\n",
       "    </tr>\n",
       "    <tr>\n",
       "      <th>244</th>\n",
       "      <td>woman</td>\n",
       "      <td>white</td>\n",
       "      <td>1950.0</td>\n",
       "      <td>124</td>\n",
       "    </tr>\n",
       "    <tr>\n",
       "      <th>245</th>\n",
       "      <td>woman</td>\n",
       "      <td>white</td>\n",
       "      <td>1960.0</td>\n",
       "      <td>101</td>\n",
       "    </tr>\n",
       "    <tr>\n",
       "      <th>246</th>\n",
       "      <td>woman</td>\n",
       "      <td>white</td>\n",
       "      <td>1970.0</td>\n",
       "      <td>63</td>\n",
       "    </tr>\n",
       "    <tr>\n",
       "      <th>247</th>\n",
       "      <td>woman</td>\n",
       "      <td>white</td>\n",
       "      <td>1980.0</td>\n",
       "      <td>32</td>\n",
       "    </tr>\n",
       "    <tr>\n",
       "      <th>248</th>\n",
       "      <td>woman</td>\n",
       "      <td>white</td>\n",
       "      <td>1990.0</td>\n",
       "      <td>3</td>\n",
       "    </tr>\n",
       "  </tbody>\n",
       "</table>\n",
       "<p>249 rows × 4 columns</p>\n",
       "</div>"
      ],
      "text/plain": [
       "    gender ethnicity    year  artistcount\n",
       "0      man     asian  1090.0            1\n",
       "1      man     asian  1250.0            1\n",
       "2      man     asian  1270.0            1\n",
       "3      man     asian  1360.0            1\n",
       "4      man     asian  1380.0            1\n",
       "..     ...       ...     ...          ...\n",
       "244  woman     white  1950.0          124\n",
       "245  woman     white  1960.0          101\n",
       "246  woman     white  1970.0           63\n",
       "247  woman     white  1980.0           32\n",
       "248  woman     white  1990.0            3\n",
       "\n",
       "[249 rows x 4 columns]"
      ]
     },
     "execution_count": 2,
     "metadata": {},
     "output_type": "execute_result"
    }
   ],
   "source": [
    "x = df.groupby(['gender','ethnicity','year'])['artist'].count()\n",
    "x = x.to_frame().reset_index().rename(columns={'artist':'artistcount'})\n",
    "x"
   ]
  },
  {
   "cell_type": "markdown",
   "id": "eab398fc-dd39-4939-a651-55f1c107d4e6",
   "metadata": {},
   "source": [
    "Calculate with original dataframe `df`"
   ]
  },
  {
   "cell_type": "code",
   "execution_count": 82,
   "id": "65bd0e54-2427-4208-bd2c-80121452f0e3",
   "metadata": {
    "scrolled": true
   },
   "outputs": [
    {
     "data": {
      "text/plain": [
       "7865"
      ]
     },
     "execution_count": 82,
     "metadata": {},
     "output_type": "execute_result"
    }
   ],
   "source": [
    "# count of male artists\n",
    "df.loc[df['gender']=='man', 'artist'].count()"
   ]
  },
  {
   "cell_type": "code",
   "execution_count": 83,
   "id": "fa25e612-66b7-4295-9ffe-b61e214f22a1",
   "metadata": {},
   "outputs": [
    {
     "data": {
      "text/plain": [
       "1151"
      ]
     },
     "execution_count": 83,
     "metadata": {},
     "output_type": "execute_result"
    }
   ],
   "source": [
    "# count of female artists\n",
    "df.loc[df['gender']=='woman', 'artist'].count()"
   ]
  },
  {
   "cell_type": "code",
   "execution_count": 84,
   "id": "d6381f34-b181-4d22-96c0-c58bb4bed42b",
   "metadata": {
    "scrolled": true
   },
   "outputs": [
    {
     "data": {
      "text/plain": [
       "0.12766193433895298"
      ]
     },
     "execution_count": 84,
     "metadata": {},
     "output_type": "execute_result"
    }
   ],
   "source": [
    "# percentage of female artists\n",
    "df.loc[df['gender']=='woman', 'artist'].count() / df['artist'].count()"
   ]
  },
  {
   "cell_type": "code",
   "execution_count": 88,
   "id": "8c0944cc-d1d8-47fa-83f7-34a2ce42d4f0",
   "metadata": {},
   "outputs": [
    {
     "data": {
      "text/plain": [
       "0.9382513661202185"
      ]
     },
     "execution_count": 88,
     "metadata": {},
     "output_type": "execute_result"
    }
   ],
   "source": [
    "# % of male artists 1800-1900\n",
    "df.loc[(df['gender']=='man') & \n",
    "       (df['year']>1800) & \n",
    "       (df['year']<1900), 'artist'].count() / df.loc[(df['year']>1800) & \n",
    "       (df['year']<1900), 'artist'].count()"
   ]
  },
  {
   "cell_type": "code",
   "execution_count": 89,
   "id": "c5ba46ef-1b78-4072-af27-bdd2b21c1a38",
   "metadata": {},
   "outputs": [
    {
     "data": {
      "text/plain": [
       "0.06174863387978142"
      ]
     },
     "execution_count": 89,
     "metadata": {},
     "output_type": "execute_result"
    }
   ],
   "source": [
    "# % of female artists from 1800-1900\n",
    "df.loc[(df['gender']=='woman') & \n",
    "       (df['year']>1800) & \n",
    "       (df['year']<1900), 'artist'].count() / df.loc[(df['year']>1800) & \n",
    "       (df['year']<1900), 'artist'].count()"
   ]
  },
  {
   "cell_type": "code",
   "execution_count": 91,
   "id": "badeeaa4-1200-4d6d-b1d6-20541fddf2f8",
   "metadata": {},
   "outputs": [
    {
     "data": {
      "text/plain": [
       "0.7937891582675021"
      ]
     },
     "execution_count": 91,
     "metadata": {},
     "output_type": "execute_result"
    }
   ],
   "source": [
    "# % of male artists 1900-2000\n",
    "df.loc[(df['gender']=='man') & \n",
    "       (df['year']>1900) & \n",
    "       (df['year']<2000), 'artist'].count() / df.loc[(df['year']>1900) & \n",
    "       (df['year']<2000), 'artist'].count()"
   ]
  },
  {
   "cell_type": "code",
   "execution_count": 90,
   "id": "d0c2927f-4669-4aca-b150-6c6041ee845f",
   "metadata": {},
   "outputs": [
    {
     "data": {
      "text/plain": [
       "0.20621084173249796"
      ]
     },
     "execution_count": 90,
     "metadata": {},
     "output_type": "execute_result"
    }
   ],
   "source": [
    "# % of female artists from 1900-2000\n",
    "df.loc[(df['gender']=='woman') & \n",
    "       (df['year']>1900) & \n",
    "       (df['year']<2000), 'artist'].count() / df.loc[(df['year']>1900) & \n",
    "       (df['year']<2000), 'artist'].count()"
   ]
  },
  {
   "cell_type": "code",
   "execution_count": 54,
   "id": "7a568a8b",
   "metadata": {},
   "outputs": [
    {
     "data": {
      "text/plain": [
       "0.00799400449662753"
      ]
     },
     "execution_count": 54,
     "metadata": {},
     "output_type": "execute_result"
    }
   ],
   "source": [
    "# % of Asian female artists from 1930-2000\n",
    "df.loc[(df['gender']=='woman') & (df['ethnicity']=='asian') &\n",
    "       (df['year']>1900) & \n",
    "       (df['year']<2000), 'artist'].count() / df.loc[(df['year']>1900) & \n",
    "       (df['year']<2000), 'artist'].count()"
   ]
  },
  {
   "cell_type": "markdown",
   "id": "0747c676-5170-45da-89c1-5460d81d2826",
   "metadata": {},
   "source": [
    "Calculate with original dataframe `x` that has grouped data"
   ]
  },
  {
   "cell_type": "code",
   "execution_count": 37,
   "id": "4cacd7f9-2c8e-41d9-994e-f48fd0c1e1e1",
   "metadata": {},
   "outputs": [
    {
     "data": {
      "text/plain": [
       "0.8737103304166123"
      ]
     },
     "execution_count": 37,
     "metadata": {},
     "output_type": "execute_result"
    }
   ],
   "source": [
    "# percentage of male artists\n",
    "x.loc[x['gender']=='man', 'artistcount'].sum() / x['artistcount'].sum()"
   ]
  },
  {
   "cell_type": "code",
   "execution_count": 17,
   "id": "fc98e70f",
   "metadata": {},
   "outputs": [
    {
     "data": {
      "text/plain": [
       "0.12824381412190705"
      ]
     },
     "execution_count": 17,
     "metadata": {},
     "output_type": "execute_result"
    }
   ],
   "source": [
    "# percentage of female artists\n",
    "x.loc[x['gender']=='woman', 'artistcount'].sum() / x['artistcount'].sum()"
   ]
  },
  {
   "cell_type": "markdown",
   "id": "e61a81d0-ae55-400d-96f2-4a296c1e58b5",
   "metadata": {},
   "source": [
    "From before, explicit calculations"
   ]
  },
  {
   "cell_type": "markdown",
   "id": "a8109081",
   "metadata": {},
   "source": [
    "# Percentages "
   ]
  },
  {
   "cell_type": "code",
   "execution_count": 46,
   "id": "d417a59a",
   "metadata": {},
   "outputs": [
    {
     "data": {
      "text/plain": [
       "0.10983413869661747"
      ]
     },
     "execution_count": 46,
     "metadata": {},
     "output_type": "execute_result"
    }
   ],
   "source": [
    "# Percentage of white women in U.S. Museums\n",
    "841/7657"
   ]
  },
  {
   "cell_type": "code",
   "execution_count": 45,
   "id": "5a560ff6",
   "metadata": {},
   "outputs": [
    {
     "data": {
      "text/plain": [
       "0.011884550084889643"
      ]
     },
     "execution_count": 45,
     "metadata": {},
     "output_type": "execute_result"
    }
   ],
   "source": [
    "# Percentage of black, asian, and hispanic women in U.S. Museums\n",
    "91/7657"
   ]
  },
  {
   "cell_type": "markdown",
   "id": "75b2487e",
   "metadata": {},
   "source": [
    "# Finished visualizations:"
   ]
  },
  {
   "cell_type": "code",
   "execution_count": 61,
   "id": "3341fd01-ebea-4373-9ec5-eee134ec9a47",
   "metadata": {},
   "outputs": [
    {
     "data": {
      "image/png": "[encoded data removed]",
      "text/plain": [
       "<Figure size 432x288 with 1 Axes>"
      ]
     },
     "metadata": {
      "needs_background": "light"
     },
     "output_type": "display_data"
    }
   ],
   "source": [
    "# This shows woman representation vs time\n",
    "# but doesn't indicate count relative to other gender values\n",
    "\n",
    "df.loc[df['gender'] == 'woman',['year']].plot(kind='hist')\n",
    "plt.title('Histogram of Women Artists in U.S. Museums from 1500-1910')\n",
    "plt.xlabel('Year')\n",
    "plt.ylabel('Count of Artists')\n",
    "plt.show()"
   ]
  },
  {
   "cell_type": "code",
   "execution_count": null,
   "id": "593f30e9-73b9-45d1-ac4d-c7b30ca775d8",
   "metadata": {},
   "outputs": [],
   "source": [
    "# Look at the evolution of women representation from 1810-1910\n",
    "# Look at the evolution of what percentage of each time window is women\n",
    "# and compare against men representation over the same time frame\n",
    "\n"
   ]
  },
  {
   "cell_type": "code",
   "execution_count": 38,
   "id": "c9ebfcac",
   "metadata": {},
   "outputs": [],
   "source": [
    "# Look at the evolution of white representation from 1810-1910\n",
    "# Look at the evolution of what percentage of each time window is that ethnicity\n",
    "# and compare against evolution of other ethnicity over the same time frame"
   ]
  },
  {
   "cell_type": "code",
   "execution_count": 37,
   "id": "14e589f5-74e3-43fe-a076-fcd60aac3aef",
   "metadata": {},
   "outputs": [
    {
     "data": {
      "text/plain": [
       "<AxesSubplot: xlabel='year', ylabel='Count'>"
      ]
     },
     "execution_count": 37,
     "metadata": {},
     "output_type": "execute_result"
    },
    {
     "data": {
      "image/png": "[encoded data removed]",
      "text/plain": [
       "<Figure size 640x480 with 1 Axes>"
      ]
     },
     "metadata": {},
     "output_type": "display_data"
    }
   ],
   "source": [
    "#Comparison of Asian women to Asian men (percentage); 2nd most dominant ethnicity\n",
    "sns.histplot(data=df[(df['ethnicity']=='asian') &\n",
    "                    (df['year']>1925)], \n",
    "            x='year',\n",
    "            hue='gender',\n",
    "             bins=15,multiple='stack')"
   ]
  },
  {
   "cell_type": "code",
   "execution_count": 48,
   "id": "2f30293d",
   "metadata": {},
   "outputs": [
    {
     "data": {
      "text/plain": [
       "<AxesSubplot: xlabel='year', ylabel='Count'>"
      ]
     },
     "execution_count": 48,
     "metadata": {},
     "output_type": "execute_result"
    },
    {
     "data": {
      "image/png": "[encoded data removed]",
      "text/plain": [
       "<Figure size 640x480 with 1 Axes>"
      ]
     },
     "metadata": {},
     "output_type": "display_data"
    }
   ],
   "source": [
    "# Comparison of Whie women to White men (percentage)\n",
    "sns.histplot(data=df[(df['ethnicity']=='white') &\n",
    "                    (df['year']>1500)], \n",
    "            x='year',\n",
    "            hue='gender',\n",
    "             bins=10,multiple='stack')"
   ]
  },
  {
   "cell_type": "code",
   "execution_count": 42,
   "id": "4d040065",
   "metadata": {},
   "outputs": [
    {
     "data": {
      "text/plain": [
       "<AxesSubplot:>"
      ]
     },
     "execution_count": 42,
     "metadata": {},
     "output_type": "execute_result"
    },
    {
     "data": {
      "image/png": "[encoded data removed]",
      "text/plain": [
       "<Figure size 432x288 with 1 Axes>"
      ]
     },
     "metadata": {
      "needs_background": "light"
     },
     "output_type": "display_data"
    }
   ],
   "source": [
    "df.loc[df['gender']=='man', 'year'].hist()"
   ]
  },
  {
   "cell_type": "code",
   "execution_count": 43,
   "id": "c7894cc1-37c9-4084-94e5-b63383d8185c",
   "metadata": {},
   "outputs": [
    {
     "data": {
      "text/plain": [
       "<AxesSubplot:>"
      ]
     },
     "execution_count": 43,
     "metadata": {},
     "output_type": "execute_result"
    },
    {
     "data": {
      "image/png": "[encoded data removed]",
      "text/plain": [
       "<Figure size 432x288 with 1 Axes>"
      ]
     },
     "metadata": {
      "needs_background": "light"
     },
     "output_type": "display_data"
    }
   ],
   "source": [
    "df.loc[df['gender']=='woman', 'year'].hist()"
   ]
  },
  {
   "cell_type": "code",
   "execution_count": 65,
   "id": "0d13c109-e237-4490-afed-55871cf00dc8",
   "metadata": {},
   "outputs": [
    {
     "data": {
      "text/plain": [
       "<AxesSubplot: >"
      ]
     },
     "execution_count": 65,
     "metadata": {},
     "output_type": "execute_result"
    },
    {
     "data": {
      "image/png": "[encoded data removed]",
      "text/plain": [
       "<Figure size 640x480 with 1 Axes>"
      ]
     },
     "metadata": {},
     "output_type": "display_data"
    }
   ],
   "source": [
    "# black women artists\n",
    "df.loc[ (df['ethnicity']=='black'), \n",
    "       'year'].hist()"
   ]
  },
  {
   "cell_type": "code",
   "execution_count": 23,
   "id": "cdb83b67",
   "metadata": {},
   "outputs": [
    {
     "data": {
      "text/plain": [
       "<AxesSubplot: >"
      ]
     },
     "execution_count": 23,
     "metadata": {},
     "output_type": "execute_result"
    },
    {
     "data": {
      "image/png": "[encoded data removed]",
      "text/plain": [
       "<Figure size 640x480 with 1 Axes>"
      ]
     },
     "metadata": {},
     "output_type": "display_data"
    }
   ],
   "source": [
    "# asian women artists\n",
    "df.loc[(df['gender']=='woman') & (df['ethnicity']=='asian'), \n",
    "       'year'].hist()"
   ]
  },
  {
   "cell_type": "code",
   "execution_count": 24,
   "id": "a2c08fb6",
   "metadata": {},
   "outputs": [
    {
     "data": {
      "text/plain": [
       "<AxesSubplot: >"
      ]
     },
     "execution_count": 24,
     "metadata": {},
     "output_type": "execute_result"
    },
    {
     "data": {
      "image/png": "[encoded data removed]",
      "text/plain": [
       "<Figure size 640x480 with 1 Axes>"
      ]
     },
     "metadata": {},
     "output_type": "display_data"
    }
   ],
   "source": [
    "# hispanic women artists\n",
    "df.loc[(df['gender']=='woman') & (df['ethnicity']=='hispanic'), \n",
    "       'year'].hist()"
   ]
  },
  {
   "cell_type": "code",
   "execution_count": 49,
   "id": "9c5544fd-ee19-4da9-bdcf-f06f2e257f61",
   "metadata": {},
   "outputs": [
    {
     "data": {
      "text/plain": [
       "<AxesSubplot:>"
      ]
     },
     "execution_count": 49,
     "metadata": {},
     "output_type": "execute_result"
    },
    {
     "data": {
      "image/png": "[encoded data removed]",
      "text/plain": [
       "<Figure size 432x288 with 1 Axes>"
      ]
     },
     "metadata": {
      "needs_background": "light"
     },
     "output_type": "display_data"
    }
   ],
   "source": [
    "# all women without unknown ethnicity\n",
    "df.loc[(df['gender']=='woman') & (df['ethnicity']!='unknown'),     \n",
    "       'year'].hist()"
   ]
  },
  {
   "cell_type": "code",
   "execution_count": 66,
   "id": "3eb6e762",
   "metadata": {},
   "outputs": [
    {
     "data": {
      "text/plain": [
       "<AxesSubplot: >"
      ]
     },
     "execution_count": 66,
     "metadata": {},
     "output_type": "execute_result"
    },
    {
     "data": {
      "image/png": "[encoded data removed]",
      "text/plain": [
       "<Figure size 640x480 with 1 Axes>"
      ]
     },
     "metadata": {},
     "output_type": "display_data"
    }
   ],
   "source": [
    "df.loc[(df['GEO3major']=='North America'),     \n",
    "       'year'].hist()"
   ]
  },
  {
   "cell_type": "code",
   "execution_count": 50,
   "id": "51eb7b01-1b8a-48ba-98d1-f98a16ec0455",
   "metadata": {},
   "outputs": [
    {
     "data": {
      "text/plain": [
       "<AxesSubplot:>"
      ]
     },
     "execution_count": 50,
     "metadata": {},
     "output_type": "execute_result"
    },
    {
     "data": {
      "image/png": "[encoded data removed]",
      "text/plain": [
       "<Figure size 432x288 with 1 Axes>"
      ]
     },
     "metadata": {
      "needs_background": "light"
     },
     "output_type": "display_data"
    }
   ],
   "source": [
    "df.loc[(df['gender']=='woman'), \n",
    "       'year'].hist()"
   ]
  },
  {
   "cell_type": "code",
   "execution_count": 45,
   "id": "9805b77d-cfe4-4b3e-9a0f-01536a24e50d",
   "metadata": {},
   "outputs": [
    {
     "data": {
      "text/plain": [
       "artist          0\n",
       "museum          0\n",
       "gender          0\n",
       "ethnicity    1359\n",
       "GEO3major    1301\n",
       "year         1575\n",
       "dtype: int64"
      ]
     },
     "execution_count": 45,
     "metadata": {},
     "output_type": "execute_result"
    }
   ],
   "source": [
    "df.isna().sum()"
   ]
  },
  {
   "cell_type": "code",
   "execution_count": 46,
   "id": "b18b1c5a-d8ad-4833-a49d-513876757b18",
   "metadata": {},
   "outputs": [],
   "source": [
    "df['ethnicity'].fillna(value='unknown', inplace=True)"
   ]
  },
  {
   "cell_type": "code",
   "execution_count": 47,
   "id": "f80356cb-c88d-4a58-9e1d-87b11c2aafed",
   "metadata": {},
   "outputs": [
    {
     "data": {
      "text/plain": [
       "artist          0\n",
       "museum          0\n",
       "gender          0\n",
       "ethnicity       0\n",
       "GEO3major    1301\n",
       "year         1575\n",
       "dtype: int64"
      ]
     },
     "execution_count": 47,
     "metadata": {},
     "output_type": "execute_result"
    }
   ],
   "source": [
    "df.isna().sum()"
   ]
  },
  {
   "cell_type": "code",
   "execution_count": 53,
   "id": "ea025e33-4c04-427b-9e03-8d1999768969",
   "metadata": {},
   "outputs": [
    {
     "data": {
      "text/plain": [
       "<AxesSubplot:xlabel='ethnicity', ylabel='Count'>"
      ]
     },
     "execution_count": 53,
     "metadata": {},
     "output_type": "execute_result"
    },
    {
     "data": {
      "image/png": "[encoded data removed]",
      "text/plain": [
       "<Figure size 432x288 with 1 Axes>"
      ]
     },
     "metadata": {
      "needs_background": "light"
     },
     "output_type": "display_data"
    }
   ],
   "source": [
    "sns.histplot(data=df, \n",
    "            x='ethnicity')"
   ]
  },
  {
   "cell_type": "code",
   "execution_count": 64,
   "id": "3de88cac-d6bb-4e0f-a0da-ff87d8cfef9d",
   "metadata": {},
   "outputs": [
    {
     "data": {
      "text/plain": [
       "<AxesSubplot: xlabel='ethnicity', ylabel='Count'>"
      ]
     },
     "execution_count": 64,
     "metadata": {},
     "output_type": "execute_result"
    },
    {
     "data": {
      "image/png": "[encoded data removed]",
      "text/plain": [
       "<Figure size 640x480 with 1 Axes>"
      ]
     },
     "metadata": {},
     "output_type": "display_data"
    }
   ],
   "source": [
    "sns.histplot(data=df, \n",
    "            x='ethnicity',\n",
    "            hue='gender', \n",
    "             bins=10,\n",
    "             multiple='dodge')"
   ]
  },
  {
   "cell_type": "code",
   "execution_count": 61,
   "id": "362476b5-0163-4f4b-bb49-06184bb10fd9",
   "metadata": {},
   "outputs": [
    {
     "data": {
      "text/plain": [
       "<AxesSubplot:xlabel='year', ylabel='Count'>"
      ]
     },
     "execution_count": 61,
     "metadata": {},
     "output_type": "execute_result"
    },
    {
     "data": {
      "image/png": "[encoded data removed]",
      "text/plain": [
       "<Figure size 432x288 with 1 Axes>"
      ]
     },
     "metadata": {
      "needs_background": "light"
     },
     "output_type": "display_data"
    }
   ],
   "source": [
    "sns.histplot(data=df, \n",
    "            x='year',\n",
    "            hue='gender',\n",
    "             bins=50)"
   ]
  },
  {
   "cell_type": "code",
   "execution_count": 63,
   "id": "1cffd950-7fb5-40a2-9e2e-9e717ca27c2f",
   "metadata": {},
   "outputs": [
    {
     "data": {
      "text/plain": [
       "<AxesSubplot: xlabel='year', ylabel='Count'>"
      ]
     },
     "execution_count": 63,
     "metadata": {},
     "output_type": "execute_result"
    },
    {
     "data": {
      "image/png": "[encoded data removed]",
      "text/plain": [
       "<Figure size 640x480 with 1 Axes>"
      ]
     },
     "metadata": {},
     "output_type": "display_data"
    }
   ],
   "source": [
    "sns.histplot(data=df[df['ethnicity']=='white'], \n",
    "            x='year',\n",
    "            hue='gender',\n",
    "             bins=5, multiple = 'dodge')"
   ]
  },
  {
   "cell_type": "code",
   "execution_count": 63,
   "id": "558cb8a4-8b46-437f-962c-684c03882d2d",
   "metadata": {},
   "outputs": [
    {
     "data": {
      "text/plain": [
       "<AxesSubplot:xlabel='year', ylabel='Count'>"
      ]
     },
     "execution_count": 63,
     "metadata": {},
     "output_type": "execute_result"
    },
    {
     "data": {
      "image/png": "[encoded data removed]",
      "text/plain": [
       "<Figure size 432x288 with 1 Axes>"
      ]
     },
     "metadata": {
      "needs_background": "light"
     },
     "output_type": "display_data"
    }
   ],
   "source": [
    "sns.histplot(data=df[df['ethnicity']=='black'], \n",
    "            x='year',\n",
    "            hue='gender',\n",
    "             bins=50)"
   ]
  },
  {
   "cell_type": "code",
   "execution_count": 64,
   "id": "841f7e3d-4122-49a0-9d05-2e5ab36f5cdd",
   "metadata": {},
   "outputs": [
    {
     "data": {
      "text/plain": [
       "array(['white', 'unknown', 'hispanic', 'asian', 'other', 'black'],\n",
       "      dtype=object)"
      ]
     },
     "execution_count": 64,
     "metadata": {},
     "output_type": "execute_result"
    }
   ],
   "source": [
    "df['ethnicity'].unique()"
   ]
  },
  {
   "cell_type": "code",
   "execution_count": 71,
   "id": "9f041005-a92e-46e8-9c72-99d70d533b43",
   "metadata": {},
   "outputs": [
    {
     "data": {
      "text/plain": [
       "<AxesSubplot:xlabel='year', ylabel='Count'>"
      ]
     },
     "execution_count": 71,
     "metadata": {},
     "output_type": "execute_result"
    },
    {
     "data": {
      "image/png": "[encoded data removed]",
      "text/plain": [
       "<Figure size 432x288 with 1 Axes>"
      ]
     },
     "metadata": {
      "needs_background": "light"
     },
     "output_type": "display_data"
    }
   ],
   "source": [
    "sns.histplot(data=df[(df['ethnicity']=='asian') &\n",
    "                    (df['year']>1800)], \n",
    "            x='year',\n",
    "            hue='gender',\n",
    "             bins=20,multiple='stack')"
   ]
  },
  {
   "cell_type": "code",
   "execution_count": 36,
   "id": "615c9050",
   "metadata": {},
   "outputs": [
    {
     "data": {
      "text/plain": [
       "<AxesSubplot: xlabel='year', ylabel='Count'>"
      ]
     },
     "execution_count": 36,
     "metadata": {},
     "output_type": "execute_result"
    },
    {
     "data": {
      "image/png": "[encoded data removed]",
      "text/plain": [
       "<Figure size 640x480 with 1 Axes>"
      ]
     },
     "metadata": {},
     "output_type": "display_data"
    }
   ],
   "source": [
    "# Comparison of Asian women to Asian men (percentage)\n",
    "sns.histplot(data=df[(df['ethnicity']=='asian') &\n",
    "                    (df['year']>1925)], \n",
    "            x='year',\n",
    "            hue='gender',\n",
    "             bins=15,multiple='stack')"
   ]
  },
  {
   "cell_type": "code",
   "execution_count": 72,
   "id": "6e33e114-dfcc-47d8-8cef-7522f38b6482",
   "metadata": {},
   "outputs": [
    {
     "data": {
      "text/plain": [
       "<AxesSubplot:xlabel='year', ylabel='Count'>"
      ]
     },
     "execution_count": 72,
     "metadata": {},
     "output_type": "execute_result"
    },
    {
     "data": {
      "image/png": "[encoded data removed]",
      "text/plain": [
       "<Figure size 432x288 with 1 Axes>"
      ]
     },
     "metadata": {
      "needs_background": "light"
     },
     "output_type": "display_data"
    }
   ],
   "source": [
    "sns.histplot(data=df[(df['ethnicity']=='asian') &\n",
    "                    (df['year']>1800)], \n",
    "            x='year',\n",
    "            hue='gender',\n",
    "             bins=20)"
   ]
  },
  {
   "cell_type": "code",
   "execution_count": null,
   "id": "3371d619-991e-4519-a6c3-760fd8c230fa",
   "metadata": {},
   "outputs": [],
   "source": []
  }
 ],
 "metadata": {
  "kernelspec": {
   "display_name": "Python 3 (ipykernel)",
   "language": "python",
   "name": "python3"
  },
  "language_info": {
   "codemirror_mode": {
    "name": "ipython",
    "version": 3
   },
   "file_extension": ".py",
   "mimetype": "text/x-python",
   "name": "python",
   "nbconvert_exporter": "python",
   "pygments_lexer": "ipython3",
   "version": "3.10.8"
  }
 },
 "nbformat": 4,
 "nbformat_minor": 5
}
