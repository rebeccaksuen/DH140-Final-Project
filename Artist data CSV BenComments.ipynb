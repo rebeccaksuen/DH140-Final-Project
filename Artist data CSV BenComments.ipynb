{
 "cells": [
  {
   "cell_type": "code",
   "execution_count": 2,
   "id": "cab8a98f",
   "metadata": {},
   "outputs": [
    {
     "data": {
      "text/html": [
       "<div>\n",
       "<style scoped>\n",
       "    .dataframe tbody tr th:only-of-type {\n",
       "        vertical-align: middle;\n",
       "    }\n",
       "\n",
       "    .dataframe tbody tr th {\n",
       "        vertical-align: top;\n",
       "    }\n",
       "\n",
       "    .dataframe thead th {\n",
       "        text-align: right;\n",
       "    }\n",
       "</style>\n",
       "<table border=\"1\" class=\"dataframe\">\n",
       "  <thead>\n",
       "    <tr style=\"text-align: right;\">\n",
       "      <th></th>\n",
       "      <th>artist</th>\n",
       "      <th>museum</th>\n",
       "      <th>gender</th>\n",
       "      <th>ethnicity</th>\n",
       "      <th>GEO3major</th>\n",
       "      <th>year</th>\n",
       "    </tr>\n",
       "  </thead>\n",
       "  <tbody>\n",
       "    <tr>\n",
       "      <th>0</th>\n",
       "      <td>Kikugawa Eishin (Hideyoshi)</td>\n",
       "      <td>Art Institute of Chicago</td>\n",
       "      <td>NaN</td>\n",
       "      <td>asian</td>\n",
       "      <td>Asia and the Pacific</td>\n",
       "      <td>NaN</td>\n",
       "    </tr>\n",
       "    <tr>\n",
       "      <th>1</th>\n",
       "      <td>Gordon C. Abbott</td>\n",
       "      <td>Art Institute of Chicago</td>\n",
       "      <td>man</td>\n",
       "      <td>white</td>\n",
       "      <td>North America</td>\n",
       "      <td>1880.0</td>\n",
       "    </tr>\n",
       "    <tr>\n",
       "      <th>2</th>\n",
       "      <td>Sigmund Abeles</td>\n",
       "      <td>Art Institute of Chicago</td>\n",
       "      <td>man</td>\n",
       "      <td>white</td>\n",
       "      <td>North America</td>\n",
       "      <td>1930.0</td>\n",
       "    </tr>\n",
       "    <tr>\n",
       "      <th>3</th>\n",
       "      <td>Albrecht Adam</td>\n",
       "      <td>Art Institute of Chicago</td>\n",
       "      <td>man</td>\n",
       "      <td>white</td>\n",
       "      <td>Europe</td>\n",
       "      <td>1790.0</td>\n",
       "    </tr>\n",
       "    <tr>\n",
       "      <th>4</th>\n",
       "      <td>Architects David Adler</td>\n",
       "      <td>Art Institute of Chicago</td>\n",
       "      <td>man</td>\n",
       "      <td>white</td>\n",
       "      <td>NaN</td>\n",
       "      <td>1880.0</td>\n",
       "    </tr>\n",
       "    <tr>\n",
       "      <th>...</th>\n",
       "      <td>...</td>\n",
       "      <td>...</td>\n",
       "      <td>...</td>\n",
       "      <td>...</td>\n",
       "      <td>...</td>\n",
       "      <td>...</td>\n",
       "    </tr>\n",
       "    <tr>\n",
       "      <th>10103</th>\n",
       "      <td>Magnus Zeller</td>\n",
       "      <td>Yale University Art Gallery</td>\n",
       "      <td>man</td>\n",
       "      <td>white</td>\n",
       "      <td>Europe</td>\n",
       "      <td>1890.0</td>\n",
       "    </tr>\n",
       "    <tr>\n",
       "      <th>10104</th>\n",
       "      <td>Sun Zhi</td>\n",
       "      <td>Yale University Art Gallery</td>\n",
       "      <td>man</td>\n",
       "      <td>asian</td>\n",
       "      <td>Asia and the Pacific</td>\n",
       "      <td>NaN</td>\n",
       "    </tr>\n",
       "    <tr>\n",
       "      <th>10105</th>\n",
       "      <td>Rufus Fairchild Zogbaum</td>\n",
       "      <td>Yale University Art Gallery</td>\n",
       "      <td>man</td>\n",
       "      <td>white</td>\n",
       "      <td>North America</td>\n",
       "      <td>1850.0</td>\n",
       "    </tr>\n",
       "    <tr>\n",
       "      <th>10106</th>\n",
       "      <td>Anders Leonard Zorn</td>\n",
       "      <td>Yale University Art Gallery</td>\n",
       "      <td>man</td>\n",
       "      <td>white</td>\n",
       "      <td>Europe</td>\n",
       "      <td>1860.0</td>\n",
       "    </tr>\n",
       "    <tr>\n",
       "      <th>10107</th>\n",
       "      <td>Francisco Zuniga</td>\n",
       "      <td>Yale University Art Gallery</td>\n",
       "      <td>man</td>\n",
       "      <td>NaN</td>\n",
       "      <td>Latin America and the Caribbean</td>\n",
       "      <td>1910.0</td>\n",
       "    </tr>\n",
       "  </tbody>\n",
       "</table>\n",
       "<p>10108 rows × 6 columns</p>\n",
       "</div>"
      ],
      "text/plain": [
       "                            artist                       museum gender  \\\n",
       "0      Kikugawa Eishin (Hideyoshi)     Art Institute of Chicago    NaN   \n",
       "1                 Gordon C. Abbott     Art Institute of Chicago    man   \n",
       "2                   Sigmund Abeles     Art Institute of Chicago    man   \n",
       "3                    Albrecht Adam     Art Institute of Chicago    man   \n",
       "4           Architects David Adler     Art Institute of Chicago    man   \n",
       "...                            ...                          ...    ...   \n",
       "10103                Magnus Zeller  Yale University Art Gallery    man   \n",
       "10104                      Sun Zhi  Yale University Art Gallery    man   \n",
       "10105      Rufus Fairchild Zogbaum  Yale University Art Gallery    man   \n",
       "10106          Anders Leonard Zorn  Yale University Art Gallery    man   \n",
       "10107             Francisco Zuniga  Yale University Art Gallery    man   \n",
       "\n",
       "      ethnicity                        GEO3major    year  \n",
       "0         asian             Asia and the Pacific     NaN  \n",
       "1         white                    North America  1880.0  \n",
       "2         white                    North America  1930.0  \n",
       "3         white                           Europe  1790.0  \n",
       "4         white                              NaN  1880.0  \n",
       "...         ...                              ...     ...  \n",
       "10103     white                           Europe  1890.0  \n",
       "10104     asian             Asia and the Pacific     NaN  \n",
       "10105     white                    North America  1850.0  \n",
       "10106     white                           Europe  1860.0  \n",
       "10107       NaN  Latin America and the Caribbean  1910.0  \n",
       "\n",
       "[10108 rows x 6 columns]"
      ]
     },
     "execution_count": 2,
     "metadata": {},
     "output_type": "execute_result"
    }
   ],
   "source": [
    "import pandas as pd\n",
    "\n",
    "import matplotlib.pyplot as plt\n",
    "\n",
    "df = pd.read_csv('https://raw.githubusercontent.com/artofstat/ArtistDiversity/master/artistdata.csv')\n",
    "\n",
    "df"
   ]
  },
  {
   "cell_type": "markdown",
   "id": "61d96cc1-2283-448d-9548-83418c2781ec",
   "metadata": {},
   "source": [
    "# BEN COMMENTS WILL BE IN ALL CAPS\n",
    "# VERIFY THAT THIS MATCHES WITH THE DATASET FOUND ON GITHUB FOR SIZE, SAMPLE ENTRIES, ETC"
   ]
  },
  {
   "cell_type": "code",
   "execution_count": 3,
   "id": "9fda3aed",
   "metadata": {},
   "outputs": [
    {
     "data": {
      "text/html": [
       "<div>\n",
       "<style scoped>\n",
       "    .dataframe tbody tr th:only-of-type {\n",
       "        vertical-align: middle;\n",
       "    }\n",
       "\n",
       "    .dataframe tbody tr th {\n",
       "        vertical-align: top;\n",
       "    }\n",
       "\n",
       "    .dataframe thead th {\n",
       "        text-align: right;\n",
       "    }\n",
       "</style>\n",
       "<table border=\"1\" class=\"dataframe\">\n",
       "  <thead>\n",
       "    <tr style=\"text-align: right;\">\n",
       "      <th></th>\n",
       "      <th>artist</th>\n",
       "      <th>museum</th>\n",
       "      <th>gender</th>\n",
       "      <th>ethnicity</th>\n",
       "      <th>GEO3major</th>\n",
       "      <th>year</th>\n",
       "    </tr>\n",
       "  </thead>\n",
       "  <tbody>\n",
       "    <tr>\n",
       "      <th>6776</th>\n",
       "      <td>Michael Heizer</td>\n",
       "      <td>Nelson-Atkins Museum of Art</td>\n",
       "      <td>man</td>\n",
       "      <td>white</td>\n",
       "      <td>North America</td>\n",
       "      <td>1940.0</td>\n",
       "    </tr>\n",
       "  </tbody>\n",
       "</table>\n",
       "</div>"
      ],
      "text/plain": [
       "              artist                       museum gender ethnicity  \\\n",
       "6776  Michael Heizer  Nelson-Atkins Museum of Art    man     white   \n",
       "\n",
       "          GEO3major    year  \n",
       "6776  North America  1940.0  "
      ]
     },
     "execution_count": 3,
     "metadata": {},
     "output_type": "execute_result"
    }
   ],
   "source": [
    "df.sample()"
   ]
  },
  {
   "cell_type": "code",
   "execution_count": 4,
   "id": "543be154",
   "metadata": {},
   "outputs": [
    {
     "data": {
      "text/plain": [
       "Index(['artist', 'museum', 'gender', 'ethnicity', 'GEO3major', 'year'], dtype='object')"
      ]
     },
     "execution_count": 4,
     "metadata": {},
     "output_type": "execute_result"
    }
   ],
   "source": [
    "df.columns"
   ]
  },
  {
   "cell_type": "code",
   "execution_count": 5,
   "id": "331dd505",
   "metadata": {},
   "outputs": [
    {
     "data": {
      "text/plain": [
       "artist        object\n",
       "museum        object\n",
       "gender        object\n",
       "ethnicity     object\n",
       "GEO3major     object\n",
       "year         float64\n",
       "dtype: object"
      ]
     },
     "execution_count": 5,
     "metadata": {},
     "output_type": "execute_result"
    }
   ],
   "source": [
    "df.dtypes"
   ]
  },
  {
   "cell_type": "code",
   "execution_count": 6,
   "id": "83f6ca03",
   "metadata": {},
   "outputs": [
    {
     "data": {
      "text/plain": [
       "0        Kikugawa Eishin (Hideyoshi)\n",
       "1                   Gordon C. Abbott\n",
       "2                     Sigmund Abeles\n",
       "3                      Albrecht Adam\n",
       "4             Architects David Adler\n",
       "                    ...             \n",
       "10103                  Magnus Zeller\n",
       "10104                        Sun Zhi\n",
       "10105        Rufus Fairchild Zogbaum\n",
       "10106            Anders Leonard Zorn\n",
       "10107               Francisco Zuniga\n",
       "Name: artist, Length: 10108, dtype: object"
      ]
     },
     "execution_count": 6,
     "metadata": {},
     "output_type": "execute_result"
    }
   ],
   "source": [
    "df['artist']"
   ]
  },
  {
   "cell_type": "code",
   "execution_count": 7,
   "id": "68074a16",
   "metadata": {},
   "outputs": [
    {
     "data": {
      "text/html": [
       "<div>\n",
       "<style scoped>\n",
       "    .dataframe tbody tr th:only-of-type {\n",
       "        vertical-align: middle;\n",
       "    }\n",
       "\n",
       "    .dataframe tbody tr th {\n",
       "        vertical-align: top;\n",
       "    }\n",
       "\n",
       "    .dataframe thead th {\n",
       "        text-align: right;\n",
       "    }\n",
       "</style>\n",
       "<table border=\"1\" class=\"dataframe\">\n",
       "  <thead>\n",
       "    <tr style=\"text-align: right;\">\n",
       "      <th></th>\n",
       "      <th>year</th>\n",
       "    </tr>\n",
       "  </thead>\n",
       "  <tbody>\n",
       "    <tr>\n",
       "      <th>count</th>\n",
       "      <td>8026.000000</td>\n",
       "    </tr>\n",
       "    <tr>\n",
       "      <th>mean</th>\n",
       "      <td>1865.613008</td>\n",
       "    </tr>\n",
       "    <tr>\n",
       "      <th>std</th>\n",
       "      <td>123.300324</td>\n",
       "    </tr>\n",
       "    <tr>\n",
       "      <th>min</th>\n",
       "      <td>-400.000000</td>\n",
       "    </tr>\n",
       "    <tr>\n",
       "      <th>25%</th>\n",
       "      <td>1830.000000</td>\n",
       "    </tr>\n",
       "    <tr>\n",
       "      <th>50%</th>\n",
       "      <td>1900.000000</td>\n",
       "    </tr>\n",
       "    <tr>\n",
       "      <th>75%</th>\n",
       "      <td>1940.000000</td>\n",
       "    </tr>\n",
       "    <tr>\n",
       "      <th>max</th>\n",
       "      <td>1990.000000</td>\n",
       "    </tr>\n",
       "  </tbody>\n",
       "</table>\n",
       "</div>"
      ],
      "text/plain": [
       "              year\n",
       "count  8026.000000\n",
       "mean   1865.613008\n",
       "std     123.300324\n",
       "min    -400.000000\n",
       "25%    1830.000000\n",
       "50%    1900.000000\n",
       "75%    1940.000000\n",
       "max    1990.000000"
      ]
     },
     "execution_count": 7,
     "metadata": {},
     "output_type": "execute_result"
    }
   ],
   "source": [
    "df.describe()"
   ]
  },
  {
   "cell_type": "code",
   "execution_count": 8,
   "id": "1d5f6c25",
   "metadata": {},
   "outputs": [
    {
     "data": {
      "text/html": [
       "<div>\n",
       "<style scoped>\n",
       "    .dataframe tbody tr th:only-of-type {\n",
       "        vertical-align: middle;\n",
       "    }\n",
       "\n",
       "    .dataframe tbody tr th {\n",
       "        vertical-align: top;\n",
       "    }\n",
       "\n",
       "    .dataframe thead th {\n",
       "        text-align: right;\n",
       "    }\n",
       "</style>\n",
       "<table border=\"1\" class=\"dataframe\">\n",
       "  <thead>\n",
       "    <tr style=\"text-align: right;\">\n",
       "      <th></th>\n",
       "      <th>artist</th>\n",
       "      <th>museum</th>\n",
       "      <th>gender</th>\n",
       "      <th>ethnicity</th>\n",
       "      <th>GEO3major</th>\n",
       "      <th>year</th>\n",
       "    </tr>\n",
       "  </thead>\n",
       "  <tbody>\n",
       "    <tr>\n",
       "      <th>1</th>\n",
       "      <td>Gordon C. Abbott</td>\n",
       "      <td>Art Institute of Chicago</td>\n",
       "      <td>man</td>\n",
       "      <td>white</td>\n",
       "      <td>North America</td>\n",
       "      <td>1880.0</td>\n",
       "    </tr>\n",
       "    <tr>\n",
       "      <th>2</th>\n",
       "      <td>Sigmund Abeles</td>\n",
       "      <td>Art Institute of Chicago</td>\n",
       "      <td>man</td>\n",
       "      <td>white</td>\n",
       "      <td>North America</td>\n",
       "      <td>1930.0</td>\n",
       "    </tr>\n",
       "    <tr>\n",
       "      <th>3</th>\n",
       "      <td>Albrecht Adam</td>\n",
       "      <td>Art Institute of Chicago</td>\n",
       "      <td>man</td>\n",
       "      <td>white</td>\n",
       "      <td>Europe</td>\n",
       "      <td>1790.0</td>\n",
       "    </tr>\n",
       "    <tr>\n",
       "      <th>4</th>\n",
       "      <td>Architects David Adler</td>\n",
       "      <td>Art Institute of Chicago</td>\n",
       "      <td>man</td>\n",
       "      <td>white</td>\n",
       "      <td>NaN</td>\n",
       "      <td>1880.0</td>\n",
       "    </tr>\n",
       "    <tr>\n",
       "      <th>5</th>\n",
       "      <td>Vargi A. Aivazian</td>\n",
       "      <td>Art Institute of Chicago</td>\n",
       "      <td>man</td>\n",
       "      <td>white</td>\n",
       "      <td>Europe</td>\n",
       "      <td>1910.0</td>\n",
       "    </tr>\n",
       "    <tr>\n",
       "      <th>...</th>\n",
       "      <td>...</td>\n",
       "      <td>...</td>\n",
       "      <td>...</td>\n",
       "      <td>...</td>\n",
       "      <td>...</td>\n",
       "      <td>...</td>\n",
       "    </tr>\n",
       "    <tr>\n",
       "      <th>10103</th>\n",
       "      <td>Magnus Zeller</td>\n",
       "      <td>Yale University Art Gallery</td>\n",
       "      <td>man</td>\n",
       "      <td>white</td>\n",
       "      <td>Europe</td>\n",
       "      <td>1890.0</td>\n",
       "    </tr>\n",
       "    <tr>\n",
       "      <th>10104</th>\n",
       "      <td>Sun Zhi</td>\n",
       "      <td>Yale University Art Gallery</td>\n",
       "      <td>man</td>\n",
       "      <td>asian</td>\n",
       "      <td>Asia and the Pacific</td>\n",
       "      <td>NaN</td>\n",
       "    </tr>\n",
       "    <tr>\n",
       "      <th>10105</th>\n",
       "      <td>Rufus Fairchild Zogbaum</td>\n",
       "      <td>Yale University Art Gallery</td>\n",
       "      <td>man</td>\n",
       "      <td>white</td>\n",
       "      <td>North America</td>\n",
       "      <td>1850.0</td>\n",
       "    </tr>\n",
       "    <tr>\n",
       "      <th>10106</th>\n",
       "      <td>Anders Leonard Zorn</td>\n",
       "      <td>Yale University Art Gallery</td>\n",
       "      <td>man</td>\n",
       "      <td>white</td>\n",
       "      <td>Europe</td>\n",
       "      <td>1860.0</td>\n",
       "    </tr>\n",
       "    <tr>\n",
       "      <th>10107</th>\n",
       "      <td>Francisco Zuniga</td>\n",
       "      <td>Yale University Art Gallery</td>\n",
       "      <td>man</td>\n",
       "      <td>NaN</td>\n",
       "      <td>Latin America and the Caribbean</td>\n",
       "      <td>1910.0</td>\n",
       "    </tr>\n",
       "  </tbody>\n",
       "</table>\n",
       "<p>7865 rows × 6 columns</p>\n",
       "</div>"
      ],
      "text/plain": [
       "                        artist                       museum gender ethnicity  \\\n",
       "1             Gordon C. Abbott     Art Institute of Chicago    man     white   \n",
       "2               Sigmund Abeles     Art Institute of Chicago    man     white   \n",
       "3                Albrecht Adam     Art Institute of Chicago    man     white   \n",
       "4       Architects David Adler     Art Institute of Chicago    man     white   \n",
       "5            Vargi A. Aivazian     Art Institute of Chicago    man     white   \n",
       "...                        ...                          ...    ...       ...   \n",
       "10103            Magnus Zeller  Yale University Art Gallery    man     white   \n",
       "10104                  Sun Zhi  Yale University Art Gallery    man     asian   \n",
       "10105  Rufus Fairchild Zogbaum  Yale University Art Gallery    man     white   \n",
       "10106      Anders Leonard Zorn  Yale University Art Gallery    man     white   \n",
       "10107         Francisco Zuniga  Yale University Art Gallery    man       NaN   \n",
       "\n",
       "                             GEO3major    year  \n",
       "1                        North America  1880.0  \n",
       "2                        North America  1930.0  \n",
       "3                               Europe  1790.0  \n",
       "4                                  NaN  1880.0  \n",
       "5                               Europe  1910.0  \n",
       "...                                ...     ...  \n",
       "10103                           Europe  1890.0  \n",
       "10104             Asia and the Pacific     NaN  \n",
       "10105                    North America  1850.0  \n",
       "10106                           Europe  1860.0  \n",
       "10107  Latin America and the Caribbean  1910.0  \n",
       "\n",
       "[7865 rows x 6 columns]"
      ]
     },
     "execution_count": 8,
     "metadata": {},
     "output_type": "execute_result"
    }
   ],
   "source": [
    "df.loc[df['gender'] == 'man']"
   ]
  },
  {
   "cell_type": "code",
   "execution_count": 9,
   "id": "dd40f307",
   "metadata": {},
   "outputs": [
    {
     "data": {
      "text/html": [
       "<div>\n",
       "<style scoped>\n",
       "    .dataframe tbody tr th:only-of-type {\n",
       "        vertical-align: middle;\n",
       "    }\n",
       "\n",
       "    .dataframe tbody tr th {\n",
       "        vertical-align: top;\n",
       "    }\n",
       "\n",
       "    .dataframe thead th {\n",
       "        text-align: right;\n",
       "    }\n",
       "</style>\n",
       "<table border=\"1\" class=\"dataframe\">\n",
       "  <thead>\n",
       "    <tr style=\"text-align: right;\">\n",
       "      <th></th>\n",
       "      <th>artist</th>\n",
       "      <th>museum</th>\n",
       "      <th>gender</th>\n",
       "      <th>ethnicity</th>\n",
       "      <th>GEO3major</th>\n",
       "      <th>year</th>\n",
       "    </tr>\n",
       "  </thead>\n",
       "  <tbody>\n",
       "    <tr>\n",
       "      <th>9</th>\n",
       "      <td>Anna Kirstine Ancher</td>\n",
       "      <td>Art Institute of Chicago</td>\n",
       "      <td>woman</td>\n",
       "      <td>white</td>\n",
       "      <td>Europe</td>\n",
       "      <td>1860.0</td>\n",
       "    </tr>\n",
       "    <tr>\n",
       "      <th>25</th>\n",
       "      <td>Lutz Bacher</td>\n",
       "      <td>Art Institute of Chicago</td>\n",
       "      <td>woman</td>\n",
       "      <td>white</td>\n",
       "      <td>North America</td>\n",
       "      <td>NaN</td>\n",
       "    </tr>\n",
       "    <tr>\n",
       "      <th>49</th>\n",
       "      <td>Catarina Bremselin</td>\n",
       "      <td>Art Institute of Chicago</td>\n",
       "      <td>woman</td>\n",
       "      <td>white</td>\n",
       "      <td>NaN</td>\n",
       "      <td>NaN</td>\n",
       "    </tr>\n",
       "    <tr>\n",
       "      <th>70</th>\n",
       "      <td>Vija Celmins</td>\n",
       "      <td>Art Institute of Chicago</td>\n",
       "      <td>woman</td>\n",
       "      <td>white</td>\n",
       "      <td>Europe</td>\n",
       "      <td>1940.0</td>\n",
       "    </tr>\n",
       "    <tr>\n",
       "      <th>82</th>\n",
       "      <td>Sue Coe</td>\n",
       "      <td>Art Institute of Chicago</td>\n",
       "      <td>woman</td>\n",
       "      <td>white</td>\n",
       "      <td>Europe</td>\n",
       "      <td>1950.0</td>\n",
       "    </tr>\n",
       "    <tr>\n",
       "      <th>...</th>\n",
       "      <td>...</td>\n",
       "      <td>...</td>\n",
       "      <td>...</td>\n",
       "      <td>...</td>\n",
       "      <td>...</td>\n",
       "      <td>...</td>\n",
       "    </tr>\n",
       "    <tr>\n",
       "      <th>10053</th>\n",
       "      <td>Sylvia Wald</td>\n",
       "      <td>Yale University Art Gallery</td>\n",
       "      <td>woman</td>\n",
       "      <td>white</td>\n",
       "      <td>North America</td>\n",
       "      <td>1920.0</td>\n",
       "    </tr>\n",
       "    <tr>\n",
       "      <th>10060</th>\n",
       "      <td>Wenda Von Weise</td>\n",
       "      <td>Yale University Art Gallery</td>\n",
       "      <td>woman</td>\n",
       "      <td>NaN</td>\n",
       "      <td>North America</td>\n",
       "      <td>1940.0</td>\n",
       "    </tr>\n",
       "    <tr>\n",
       "      <th>10072</th>\n",
       "      <td>Megan Williams</td>\n",
       "      <td>Yale University Art Gallery</td>\n",
       "      <td>woman</td>\n",
       "      <td>white</td>\n",
       "      <td>NaN</td>\n",
       "      <td>1960.0</td>\n",
       "    </tr>\n",
       "    <tr>\n",
       "      <th>10080</th>\n",
       "      <td>Bess Wohl</td>\n",
       "      <td>Yale University Art Gallery</td>\n",
       "      <td>woman</td>\n",
       "      <td>white</td>\n",
       "      <td>North America</td>\n",
       "      <td>NaN</td>\n",
       "    </tr>\n",
       "    <tr>\n",
       "      <th>10081</th>\n",
       "      <td>Agatha Wojciechowsky</td>\n",
       "      <td>Yale University Art Gallery</td>\n",
       "      <td>woman</td>\n",
       "      <td>white</td>\n",
       "      <td>NaN</td>\n",
       "      <td>1900.0</td>\n",
       "    </tr>\n",
       "  </tbody>\n",
       "</table>\n",
       "<p>1151 rows × 6 columns</p>\n",
       "</div>"
      ],
      "text/plain": [
       "                     artist                       museum gender ethnicity  \\\n",
       "9      Anna Kirstine Ancher     Art Institute of Chicago  woman     white   \n",
       "25              Lutz Bacher     Art Institute of Chicago  woman     white   \n",
       "49       Catarina Bremselin     Art Institute of Chicago  woman     white   \n",
       "70             Vija Celmins     Art Institute of Chicago  woman     white   \n",
       "82                  Sue Coe     Art Institute of Chicago  woman     white   \n",
       "...                     ...                          ...    ...       ...   \n",
       "10053           Sylvia Wald  Yale University Art Gallery  woman     white   \n",
       "10060       Wenda Von Weise  Yale University Art Gallery  woman       NaN   \n",
       "10072        Megan Williams  Yale University Art Gallery  woman     white   \n",
       "10080             Bess Wohl  Yale University Art Gallery  woman     white   \n",
       "10081  Agatha Wojciechowsky  Yale University Art Gallery  woman     white   \n",
       "\n",
       "           GEO3major    year  \n",
       "9             Europe  1860.0  \n",
       "25     North America     NaN  \n",
       "49               NaN     NaN  \n",
       "70            Europe  1940.0  \n",
       "82            Europe  1950.0  \n",
       "...              ...     ...  \n",
       "10053  North America  1920.0  \n",
       "10060  North America  1940.0  \n",
       "10072            NaN  1960.0  \n",
       "10080  North America     NaN  \n",
       "10081            NaN  1900.0  \n",
       "\n",
       "[1151 rows x 6 columns]"
      ]
     },
     "execution_count": 9,
     "metadata": {},
     "output_type": "execute_result"
    }
   ],
   "source": [
    "# search for women artists\n",
    "df.loc[df['gender'] == 'woman']"
   ]
  },
  {
   "cell_type": "code",
   "execution_count": 10,
   "id": "94c112e2",
   "metadata": {},
   "outputs": [
    {
     "data": {
      "image/png": "[encoded data removed]",
      "text/plain": [
       "<Figure size 640x480 with 1 Axes>"
      ]
     },
     "metadata": {},
     "output_type": "display_data"
    }
   ],
   "source": [
    "# Visualizations\n",
    "# note: parameters are not displaying as intended? Since 'year' is the only float data type, it has to be on the y-axis\n",
    "\n",
    "df.loc[df['gender'] == 'woman'].plot(x='museum', y='year')\n",
    "plt.title('Histogram of Women Artists in U.S. Museums from 1500-1910')\n",
    "plt.xlabel('Women Artists')\n",
    "plt.show()"
   ]
  },
  {
   "cell_type": "code",
   "execution_count": 11,
   "id": "5e41f907-794c-4651-807e-404c16efe66e",
   "metadata": {},
   "outputs": [
    {
     "data": {
      "text/html": [
       "<div>\n",
       "<style scoped>\n",
       "    .dataframe tbody tr th:only-of-type {\n",
       "        vertical-align: middle;\n",
       "    }\n",
       "\n",
       "    .dataframe tbody tr th {\n",
       "        vertical-align: top;\n",
       "    }\n",
       "\n",
       "    .dataframe thead th {\n",
       "        text-align: right;\n",
       "    }\n",
       "</style>\n",
       "<table border=\"1\" class=\"dataframe\">\n",
       "  <thead>\n",
       "    <tr style=\"text-align: right;\">\n",
       "      <th></th>\n",
       "      <th>artist</th>\n",
       "      <th>museum</th>\n",
       "      <th>gender</th>\n",
       "      <th>ethnicity</th>\n",
       "      <th>GEO3major</th>\n",
       "      <th>year</th>\n",
       "    </tr>\n",
       "  </thead>\n",
       "  <tbody>\n",
       "    <tr>\n",
       "      <th>9</th>\n",
       "      <td>Anna Kirstine Ancher</td>\n",
       "      <td>Art Institute of Chicago</td>\n",
       "      <td>woman</td>\n",
       "      <td>white</td>\n",
       "      <td>Europe</td>\n",
       "      <td>1860.0</td>\n",
       "    </tr>\n",
       "    <tr>\n",
       "      <th>25</th>\n",
       "      <td>Lutz Bacher</td>\n",
       "      <td>Art Institute of Chicago</td>\n",
       "      <td>woman</td>\n",
       "      <td>white</td>\n",
       "      <td>North America</td>\n",
       "      <td>NaN</td>\n",
       "    </tr>\n",
       "    <tr>\n",
       "      <th>49</th>\n",
       "      <td>Catarina Bremselin</td>\n",
       "      <td>Art Institute of Chicago</td>\n",
       "      <td>woman</td>\n",
       "      <td>white</td>\n",
       "      <td>NaN</td>\n",
       "      <td>NaN</td>\n",
       "    </tr>\n",
       "    <tr>\n",
       "      <th>70</th>\n",
       "      <td>Vija Celmins</td>\n",
       "      <td>Art Institute of Chicago</td>\n",
       "      <td>woman</td>\n",
       "      <td>white</td>\n",
       "      <td>Europe</td>\n",
       "      <td>1940.0</td>\n",
       "    </tr>\n",
       "    <tr>\n",
       "      <th>82</th>\n",
       "      <td>Sue Coe</td>\n",
       "      <td>Art Institute of Chicago</td>\n",
       "      <td>woman</td>\n",
       "      <td>white</td>\n",
       "      <td>Europe</td>\n",
       "      <td>1950.0</td>\n",
       "    </tr>\n",
       "    <tr>\n",
       "      <th>...</th>\n",
       "      <td>...</td>\n",
       "      <td>...</td>\n",
       "      <td>...</td>\n",
       "      <td>...</td>\n",
       "      <td>...</td>\n",
       "      <td>...</td>\n",
       "    </tr>\n",
       "    <tr>\n",
       "      <th>10053</th>\n",
       "      <td>Sylvia Wald</td>\n",
       "      <td>Yale University Art Gallery</td>\n",
       "      <td>woman</td>\n",
       "      <td>white</td>\n",
       "      <td>North America</td>\n",
       "      <td>1920.0</td>\n",
       "    </tr>\n",
       "    <tr>\n",
       "      <th>10060</th>\n",
       "      <td>Wenda Von Weise</td>\n",
       "      <td>Yale University Art Gallery</td>\n",
       "      <td>woman</td>\n",
       "      <td>NaN</td>\n",
       "      <td>North America</td>\n",
       "      <td>1940.0</td>\n",
       "    </tr>\n",
       "    <tr>\n",
       "      <th>10072</th>\n",
       "      <td>Megan Williams</td>\n",
       "      <td>Yale University Art Gallery</td>\n",
       "      <td>woman</td>\n",
       "      <td>white</td>\n",
       "      <td>NaN</td>\n",
       "      <td>1960.0</td>\n",
       "    </tr>\n",
       "    <tr>\n",
       "      <th>10080</th>\n",
       "      <td>Bess Wohl</td>\n",
       "      <td>Yale University Art Gallery</td>\n",
       "      <td>woman</td>\n",
       "      <td>white</td>\n",
       "      <td>North America</td>\n",
       "      <td>NaN</td>\n",
       "    </tr>\n",
       "    <tr>\n",
       "      <th>10081</th>\n",
       "      <td>Agatha Wojciechowsky</td>\n",
       "      <td>Yale University Art Gallery</td>\n",
       "      <td>woman</td>\n",
       "      <td>white</td>\n",
       "      <td>NaN</td>\n",
       "      <td>1900.0</td>\n",
       "    </tr>\n",
       "  </tbody>\n",
       "</table>\n",
       "<p>1151 rows × 6 columns</p>\n",
       "</div>"
      ],
      "text/plain": [
       "                     artist                       museum gender ethnicity  \\\n",
       "9      Anna Kirstine Ancher     Art Institute of Chicago  woman     white   \n",
       "25              Lutz Bacher     Art Institute of Chicago  woman     white   \n",
       "49       Catarina Bremselin     Art Institute of Chicago  woman     white   \n",
       "70             Vija Celmins     Art Institute of Chicago  woman     white   \n",
       "82                  Sue Coe     Art Institute of Chicago  woman     white   \n",
       "...                     ...                          ...    ...       ...   \n",
       "10053           Sylvia Wald  Yale University Art Gallery  woman     white   \n",
       "10060       Wenda Von Weise  Yale University Art Gallery  woman       NaN   \n",
       "10072        Megan Williams  Yale University Art Gallery  woman     white   \n",
       "10080             Bess Wohl  Yale University Art Gallery  woman     white   \n",
       "10081  Agatha Wojciechowsky  Yale University Art Gallery  woman     white   \n",
       "\n",
       "           GEO3major    year  \n",
       "9             Europe  1860.0  \n",
       "25     North America     NaN  \n",
       "49               NaN     NaN  \n",
       "70            Europe  1940.0  \n",
       "82            Europe  1950.0  \n",
       "...              ...     ...  \n",
       "10053  North America  1920.0  \n",
       "10060  North America  1940.0  \n",
       "10072            NaN  1960.0  \n",
       "10080  North America     NaN  \n",
       "10081            NaN  1900.0  \n",
       "\n",
       "[1151 rows x 6 columns]"
      ]
     },
     "execution_count": 11,
     "metadata": {},
     "output_type": "execute_result"
    }
   ],
   "source": [
    "df.loc[df['gender'] == 'woman']"
   ]
  },
  {
   "cell_type": "code",
   "execution_count": 12,
   "id": "776cce87-63ff-4c32-a2ec-2f9c9a4dd51b",
   "metadata": {},
   "outputs": [
    {
     "data": {
      "image/png": "[encoded data removed]",
      "text/plain": [
       "<Figure size 640x480 with 1 Axes>"
      ]
     },
     "metadata": {},
     "output_type": "display_data"
    }
   ],
   "source": [
    "# Visualizations\n",
    "# note: parameters are not displaying as intended? Since 'year' is the only float data type, it has to be on the y-axis\n",
    "\n",
    "df.loc[df['gender'] == 'woman',['year']].plot(kind='hist')\n",
    "plt.title('Histogram of Women Artists in U.S. Museums from 1500-1910')\n",
    "plt.xlabel('Year')\n",
    "plt.ylabel('Count of Artists')\n",
    "plt.show()"
   ]
  },
  {
   "cell_type": "markdown",
   "id": "c53d8950-a2ee-4ae9-bce5-e9bc42b001c1",
   "metadata": {},
   "source": [
    "# START OF BEN COMMENT:\n",
    "\n",
    "Aside: Cleaning NaNs\n",
    "\n",
    "Options:\n",
    "\n",
    "* Drop records that have missing values\n",
    "  * pd.DataFrame.dropna()\n",
    "  * default is to drop rows. This can be explicitly specified with pd.DataFrame.dropna(axis=0)\n",
    "* Drop an entire feature that has lots of missing values\n",
    "  * pd.DataFrame.dropna(<feature_name>, axis=1)\n",
    "  * <feature_name> is the name of the column to drop\n",
    "* Fill in missing values with something else\n",
    "  * Example: Impute the mean/median (if quantitative) or most common class (if categorical) for all missing values.\n",
    "  * pd.DataFrame.fillna(value=x.mean())\n"
   ]
  },
  {
   "cell_type": "code",
   "execution_count": 13,
   "id": "c93b9d99",
   "metadata": {},
   "outputs": [],
   "source": [
    "# Data cleaning"
   ]
  },
  {
   "cell_type": "code",
   "execution_count": 14,
   "id": "0f6bfccc",
   "metadata": {},
   "outputs": [
    {
     "data": {
      "text/plain": [
       "artist       False\n",
       "museum       False\n",
       "gender        True\n",
       "ethnicity     True\n",
       "GEO3major     True\n",
       "year          True\n",
       "dtype: bool"
      ]
     },
     "execution_count": 14,
     "metadata": {},
     "output_type": "execute_result"
    }
   ],
   "source": [
    "# are there null values?\n",
    "df.isna().any()"
   ]
  },
  {
   "cell_type": "code",
   "execution_count": 15,
   "id": "36d2882e",
   "metadata": {},
   "outputs": [
    {
     "data": {
      "text/plain": [
       "artist          0\n",
       "museum          0\n",
       "gender       1092\n",
       "ethnicity    1812\n",
       "GEO3major    1676\n",
       "year         2082\n",
       "dtype: int64"
      ]
     },
     "execution_count": 15,
     "metadata": {},
     "output_type": "execute_result"
    }
   ],
   "source": [
    "# null values\n",
    "df.isna(). sum()"
   ]
  },
  {
   "cell_type": "code",
   "execution_count": 16,
   "id": "de8508e3",
   "metadata": {},
   "outputs": [
    {
     "data": {
      "text/plain": [
       "4"
      ]
     },
     "execution_count": 16,
     "metadata": {},
     "output_type": "execute_result"
    }
   ],
   "source": [
    "df.isna().any().sum()"
   ]
  },
  {
   "cell_type": "code",
   "execution_count": 17,
   "id": "cf997b75",
   "metadata": {},
   "outputs": [],
   "source": [
    "df.dropna(subset=['gender'], inplace = True)"
   ]
  },
  {
   "cell_type": "code",
   "execution_count": 18,
   "id": "222efe2b-2da5-49a8-9038-e1268e07bc3e",
   "metadata": {},
   "outputs": [
    {
     "data": {
      "text/html": [
       "<div>\n",
       "<style scoped>\n",
       "    .dataframe tbody tr th:only-of-type {\n",
       "        vertical-align: middle;\n",
       "    }\n",
       "\n",
       "    .dataframe tbody tr th {\n",
       "        vertical-align: top;\n",
       "    }\n",
       "\n",
       "    .dataframe thead th {\n",
       "        text-align: right;\n",
       "    }\n",
       "</style>\n",
       "<table border=\"1\" class=\"dataframe\">\n",
       "  <thead>\n",
       "    <tr style=\"text-align: right;\">\n",
       "      <th></th>\n",
       "      <th>artist</th>\n",
       "      <th>museum</th>\n",
       "      <th>gender</th>\n",
       "      <th>ethnicity</th>\n",
       "      <th>GEO3major</th>\n",
       "      <th>year</th>\n",
       "    </tr>\n",
       "  </thead>\n",
       "  <tbody>\n",
       "  </tbody>\n",
       "</table>\n",
       "</div>"
      ],
      "text/plain": [
       "Empty DataFrame\n",
       "Columns: [artist, museum, gender, ethnicity, GEO3major, year]\n",
       "Index: []"
      ]
     },
     "execution_count": 18,
     "metadata": {},
     "output_type": "execute_result"
    }
   ],
   "source": [
    "# Prints out all rows that have NaN in gender column\n",
    "df[df['gender'].isna()]"
   ]
  },
  {
   "cell_type": "code",
   "execution_count": 28,
   "id": "4ac8c652-d2ca-43e2-b6f1-75d9616658a0",
   "metadata": {},
   "outputs": [],
   "source": [
    "df['gender'].fillna(value='unknown', inplace=True)"
   ]
  },
  {
   "cell_type": "code",
   "execution_count": 29,
   "id": "7e51b6a3-fead-4196-8683-b02224b121c9",
   "metadata": {},
   "outputs": [
    {
     "data": {
      "text/html": [
       "<div>\n",
       "<style scoped>\n",
       "    .dataframe tbody tr th:only-of-type {\n",
       "        vertical-align: middle;\n",
       "    }\n",
       "\n",
       "    .dataframe tbody tr th {\n",
       "        vertical-align: top;\n",
       "    }\n",
       "\n",
       "    .dataframe thead th {\n",
       "        text-align: right;\n",
       "    }\n",
       "</style>\n",
       "<table border=\"1\" class=\"dataframe\">\n",
       "  <thead>\n",
       "    <tr style=\"text-align: right;\">\n",
       "      <th></th>\n",
       "      <th>artist</th>\n",
       "      <th>museum</th>\n",
       "      <th>gender</th>\n",
       "      <th>ethnicity</th>\n",
       "      <th>GEO3major</th>\n",
       "      <th>year</th>\n",
       "    </tr>\n",
       "  </thead>\n",
       "  <tbody>\n",
       "  </tbody>\n",
       "</table>\n",
       "</div>"
      ],
      "text/plain": [
       "Empty DataFrame\n",
       "Columns: [artist, museum, gender, ethnicity, GEO3major, year]\n",
       "Index: []"
      ]
     },
     "execution_count": 29,
     "metadata": {},
     "output_type": "execute_result"
    }
   ],
   "source": [
    "# Now no gender value is null\n",
    "df[df['gender'].isna()]"
   ]
  },
  {
   "cell_type": "code",
   "execution_count": 30,
   "id": "184d73fc-2d21-4f69-a34e-4f95f1d7a452",
   "metadata": {},
   "outputs": [
    {
     "ename": "KeyError",
     "evalue": "\"None of [Int64Index([10101], dtype='int64')] are in the [index]\"",
     "output_type": "error",
     "traceback": [
      "\u001b[0;31m---------------------------------------------------------------------------\u001b[0m",
      "\u001b[0;31mKeyError\u001b[0m                                  Traceback (most recent call last)",
      "Cell \u001b[0;32mIn[30], line 1\u001b[0m\n\u001b[0;32m----> 1\u001b[0m \u001b[43mdf\u001b[49m\u001b[38;5;241;43m.\u001b[39;49m\u001b[43mloc\u001b[49m\u001b[43m[\u001b[49m\u001b[43m[\u001b[49m\u001b[38;5;241;43m10101\u001b[39;49m\u001b[43m]\u001b[49m\u001b[43m]\u001b[49m\n",
      "File \u001b[0;32m/opt/conda/lib/python3.10/site-packages/pandas/core/indexing.py:1073\u001b[0m, in \u001b[0;36m_LocationIndexer.__getitem__\u001b[0;34m(self, key)\u001b[0m\n\u001b[1;32m   1070\u001b[0m axis \u001b[38;5;241m=\u001b[39m \u001b[38;5;28mself\u001b[39m\u001b[38;5;241m.\u001b[39maxis \u001b[38;5;129;01mor\u001b[39;00m \u001b[38;5;241m0\u001b[39m\n\u001b[1;32m   1072\u001b[0m maybe_callable \u001b[38;5;241m=\u001b[39m com\u001b[38;5;241m.\u001b[39mapply_if_callable(key, \u001b[38;5;28mself\u001b[39m\u001b[38;5;241m.\u001b[39mobj)\n\u001b[0;32m-> 1073\u001b[0m \u001b[38;5;28;01mreturn\u001b[39;00m \u001b[38;5;28;43mself\u001b[39;49m\u001b[38;5;241;43m.\u001b[39;49m\u001b[43m_getitem_axis\u001b[49m\u001b[43m(\u001b[49m\u001b[43mmaybe_callable\u001b[49m\u001b[43m,\u001b[49m\u001b[43m \u001b[49m\u001b[43maxis\u001b[49m\u001b[38;5;241;43m=\u001b[39;49m\u001b[43maxis\u001b[49m\u001b[43m)\u001b[49m\n",
      "File \u001b[0;32m/opt/conda/lib/python3.10/site-packages/pandas/core/indexing.py:1301\u001b[0m, in \u001b[0;36m_LocIndexer._getitem_axis\u001b[0;34m(self, key, axis)\u001b[0m\n\u001b[1;32m   1298\u001b[0m     \u001b[38;5;28;01mif\u001b[39;00m \u001b[38;5;28mhasattr\u001b[39m(key, \u001b[38;5;124m\"\u001b[39m\u001b[38;5;124mndim\u001b[39m\u001b[38;5;124m\"\u001b[39m) \u001b[38;5;129;01mand\u001b[39;00m key\u001b[38;5;241m.\u001b[39mndim \u001b[38;5;241m>\u001b[39m \u001b[38;5;241m1\u001b[39m:\n\u001b[1;32m   1299\u001b[0m         \u001b[38;5;28;01mraise\u001b[39;00m \u001b[38;5;167;01mValueError\u001b[39;00m(\u001b[38;5;124m\"\u001b[39m\u001b[38;5;124mCannot index with multidimensional key\u001b[39m\u001b[38;5;124m\"\u001b[39m)\n\u001b[0;32m-> 1301\u001b[0m     \u001b[38;5;28;01mreturn\u001b[39;00m \u001b[38;5;28;43mself\u001b[39;49m\u001b[38;5;241;43m.\u001b[39;49m\u001b[43m_getitem_iterable\u001b[49m\u001b[43m(\u001b[49m\u001b[43mkey\u001b[49m\u001b[43m,\u001b[49m\u001b[43m \u001b[49m\u001b[43maxis\u001b[49m\u001b[38;5;241;43m=\u001b[39;49m\u001b[43maxis\u001b[49m\u001b[43m)\u001b[49m\n\u001b[1;32m   1303\u001b[0m \u001b[38;5;66;03m# nested tuple slicing\u001b[39;00m\n\u001b[1;32m   1304\u001b[0m \u001b[38;5;28;01mif\u001b[39;00m is_nested_tuple(key, labels):\n",
      "File \u001b[0;32m/opt/conda/lib/python3.10/site-packages/pandas/core/indexing.py:1239\u001b[0m, in \u001b[0;36m_LocIndexer._getitem_iterable\u001b[0;34m(self, key, axis)\u001b[0m\n\u001b[1;32m   1236\u001b[0m \u001b[38;5;28mself\u001b[39m\u001b[38;5;241m.\u001b[39m_validate_key(key, axis)\n\u001b[1;32m   1238\u001b[0m \u001b[38;5;66;03m# A collection of keys\u001b[39;00m\n\u001b[0;32m-> 1239\u001b[0m keyarr, indexer \u001b[38;5;241m=\u001b[39m \u001b[38;5;28;43mself\u001b[39;49m\u001b[38;5;241;43m.\u001b[39;49m\u001b[43m_get_listlike_indexer\u001b[49m\u001b[43m(\u001b[49m\u001b[43mkey\u001b[49m\u001b[43m,\u001b[49m\u001b[43m \u001b[49m\u001b[43maxis\u001b[49m\u001b[43m)\u001b[49m\n\u001b[1;32m   1240\u001b[0m \u001b[38;5;28;01mreturn\u001b[39;00m \u001b[38;5;28mself\u001b[39m\u001b[38;5;241m.\u001b[39mobj\u001b[38;5;241m.\u001b[39m_reindex_with_indexers(\n\u001b[1;32m   1241\u001b[0m     {axis: [keyarr, indexer]}, copy\u001b[38;5;241m=\u001b[39m\u001b[38;5;28;01mTrue\u001b[39;00m, allow_dups\u001b[38;5;241m=\u001b[39m\u001b[38;5;28;01mTrue\u001b[39;00m\n\u001b[1;32m   1242\u001b[0m )\n",
      "File \u001b[0;32m/opt/conda/lib/python3.10/site-packages/pandas/core/indexing.py:1432\u001b[0m, in \u001b[0;36m_LocIndexer._get_listlike_indexer\u001b[0;34m(self, key, axis)\u001b[0m\n\u001b[1;32m   1429\u001b[0m ax \u001b[38;5;241m=\u001b[39m \u001b[38;5;28mself\u001b[39m\u001b[38;5;241m.\u001b[39mobj\u001b[38;5;241m.\u001b[39m_get_axis(axis)\n\u001b[1;32m   1430\u001b[0m axis_name \u001b[38;5;241m=\u001b[39m \u001b[38;5;28mself\u001b[39m\u001b[38;5;241m.\u001b[39mobj\u001b[38;5;241m.\u001b[39m_get_axis_name(axis)\n\u001b[0;32m-> 1432\u001b[0m keyarr, indexer \u001b[38;5;241m=\u001b[39m \u001b[43max\u001b[49m\u001b[38;5;241;43m.\u001b[39;49m\u001b[43m_get_indexer_strict\u001b[49m\u001b[43m(\u001b[49m\u001b[43mkey\u001b[49m\u001b[43m,\u001b[49m\u001b[43m \u001b[49m\u001b[43maxis_name\u001b[49m\u001b[43m)\u001b[49m\n\u001b[1;32m   1434\u001b[0m \u001b[38;5;28;01mreturn\u001b[39;00m keyarr, indexer\n",
      "File \u001b[0;32m/opt/conda/lib/python3.10/site-packages/pandas/core/indexes/base.py:6113\u001b[0m, in \u001b[0;36mIndex._get_indexer_strict\u001b[0;34m(self, key, axis_name)\u001b[0m\n\u001b[1;32m   6110\u001b[0m \u001b[38;5;28;01melse\u001b[39;00m:\n\u001b[1;32m   6111\u001b[0m     keyarr, indexer, new_indexer \u001b[38;5;241m=\u001b[39m \u001b[38;5;28mself\u001b[39m\u001b[38;5;241m.\u001b[39m_reindex_non_unique(keyarr)\n\u001b[0;32m-> 6113\u001b[0m \u001b[38;5;28;43mself\u001b[39;49m\u001b[38;5;241;43m.\u001b[39;49m\u001b[43m_raise_if_missing\u001b[49m\u001b[43m(\u001b[49m\u001b[43mkeyarr\u001b[49m\u001b[43m,\u001b[49m\u001b[43m \u001b[49m\u001b[43mindexer\u001b[49m\u001b[43m,\u001b[49m\u001b[43m \u001b[49m\u001b[43maxis_name\u001b[49m\u001b[43m)\u001b[49m\n\u001b[1;32m   6115\u001b[0m keyarr \u001b[38;5;241m=\u001b[39m \u001b[38;5;28mself\u001b[39m\u001b[38;5;241m.\u001b[39mtake(indexer)\n\u001b[1;32m   6116\u001b[0m \u001b[38;5;28;01mif\u001b[39;00m \u001b[38;5;28misinstance\u001b[39m(key, Index):\n\u001b[1;32m   6117\u001b[0m     \u001b[38;5;66;03m# GH 42790 - Preserve name from an Index\u001b[39;00m\n",
      "File \u001b[0;32m/opt/conda/lib/python3.10/site-packages/pandas/core/indexes/base.py:6173\u001b[0m, in \u001b[0;36mIndex._raise_if_missing\u001b[0;34m(self, key, indexer, axis_name)\u001b[0m\n\u001b[1;32m   6171\u001b[0m     \u001b[38;5;28;01mif\u001b[39;00m use_interval_msg:\n\u001b[1;32m   6172\u001b[0m         key \u001b[38;5;241m=\u001b[39m \u001b[38;5;28mlist\u001b[39m(key)\n\u001b[0;32m-> 6173\u001b[0m     \u001b[38;5;28;01mraise\u001b[39;00m \u001b[38;5;167;01mKeyError\u001b[39;00m(\u001b[38;5;124mf\u001b[39m\u001b[38;5;124m\"\u001b[39m\u001b[38;5;124mNone of [\u001b[39m\u001b[38;5;132;01m{\u001b[39;00mkey\u001b[38;5;132;01m}\u001b[39;00m\u001b[38;5;124m] are in the [\u001b[39m\u001b[38;5;132;01m{\u001b[39;00maxis_name\u001b[38;5;132;01m}\u001b[39;00m\u001b[38;5;124m]\u001b[39m\u001b[38;5;124m\"\u001b[39m)\n\u001b[1;32m   6175\u001b[0m not_found \u001b[38;5;241m=\u001b[39m \u001b[38;5;28mlist\u001b[39m(ensure_index(key)[missing_mask\u001b[38;5;241m.\u001b[39mnonzero()[\u001b[38;5;241m0\u001b[39m]]\u001b[38;5;241m.\u001b[39munique())\n\u001b[1;32m   6176\u001b[0m \u001b[38;5;28;01mraise\u001b[39;00m \u001b[38;5;167;01mKeyError\u001b[39;00m(\u001b[38;5;124mf\u001b[39m\u001b[38;5;124m\"\u001b[39m\u001b[38;5;132;01m{\u001b[39;00mnot_found\u001b[38;5;132;01m}\u001b[39;00m\u001b[38;5;124m not in index\u001b[39m\u001b[38;5;124m\"\u001b[39m)\n",
      "\u001b[0;31mKeyError\u001b[0m: \"None of [Int64Index([10101], dtype='int64')] are in the [index]\""
     ]
    }
   ],
   "source": [
    "df.loc[[10101]]"
   ]
  },
  {
   "cell_type": "code",
   "execution_count": 31,
   "id": "cc25b030-5cc1-459c-9561-03179b75e846",
   "metadata": {},
   "outputs": [
    {
     "data": {
      "text/plain": [
       "<AxesSubplot: ylabel='Frequency'>"
      ]
     },
     "execution_count": 31,
     "metadata": {},
     "output_type": "execute_result"
    },
    {
     "data": {
      "image/png": "[encoded data removed]",
      "text/plain": [
       "<Figure size 640x480 with 1 Axes>"
      ]
     },
     "metadata": {},
     "output_type": "display_data"
    }
   ],
   "source": [
    "df['year'].plot(kind='hist')"
   ]
  },
  {
   "cell_type": "code",
   "execution_count": 23,
   "id": "474c8cdf-d7a9-4261-b53b-947052756d56",
   "metadata": {},
   "outputs": [],
   "source": [
    "# for x in df.index:\n",
    "#     #if df.loc[x, \"gender\"] == 'nan':\n",
    "#     #if df.loc[x, \"gender\"] == 'NaN':\n",
    "#     if df.loc[x, \"gender\"] != df.loc[x, \"gender\"]:\n",
    "#         df.loc[x]"
   ]
  },
  {
   "cell_type": "code",
   "execution_count": 32,
   "id": "b0d06072",
   "metadata": {},
   "outputs": [
    {
     "data": {
      "text/plain": [
       "<AxesSubplot: ylabel='ethnicity'>"
      ]
     },
     "execution_count": 32,
     "metadata": {},
     "output_type": "execute_result"
    },
    {
     "data": {
      "image/png": "[encoded data removed]",
      "text/plain": [
       "<Figure size 640x480 with 1 Axes>"
      ]
     },
     "metadata": {},
     "output_type": "display_data"
    }
   ],
   "source": [
    "# Confused why null values show up when supposed to be removed\n",
    "# confused where there are multiple \"white\" or other ethnicities when the data was all from one column\n",
    "\n",
    "df.sort_values(by='gender',ascending=True)[-10:].plot.barh(x='ethnicity',y='year')"
   ]
  },
  {
   "cell_type": "code",
   "execution_count": 33,
   "id": "96794aca-ee41-424f-85eb-b884d092ea69",
   "metadata": {},
   "outputs": [],
   "source": [
    "df['ethnicity'].fillna(value='Unknown', inplace=True)"
   ]
  },
  {
   "cell_type": "code",
   "execution_count": 34,
   "id": "c21edbf4-a717-4643-9724-181fdcc72331",
   "metadata": {},
   "outputs": [
    {
     "data": {
      "text/html": [
       "<div>\n",
       "<style scoped>\n",
       "    .dataframe tbody tr th:only-of-type {\n",
       "        vertical-align: middle;\n",
       "    }\n",
       "\n",
       "    .dataframe tbody tr th {\n",
       "        vertical-align: top;\n",
       "    }\n",
       "\n",
       "    .dataframe thead th {\n",
       "        text-align: right;\n",
       "    }\n",
       "</style>\n",
       "<table border=\"1\" class=\"dataframe\">\n",
       "  <thead>\n",
       "    <tr style=\"text-align: right;\">\n",
       "      <th></th>\n",
       "      <th>artist</th>\n",
       "      <th>museum</th>\n",
       "      <th>gender</th>\n",
       "      <th>ethnicity</th>\n",
       "      <th>GEO3major</th>\n",
       "      <th>year</th>\n",
       "    </tr>\n",
       "  </thead>\n",
       "  <tbody>\n",
       "    <tr>\n",
       "      <th>7871</th>\n",
       "      <td>Rose Carraer-Eastman</td>\n",
       "      <td>Rhode Island School of Design Museum</td>\n",
       "      <td>woman</td>\n",
       "      <td>white</td>\n",
       "      <td>North America</td>\n",
       "      <td>1900.0</td>\n",
       "    </tr>\n",
       "    <tr>\n",
       "      <th>7865</th>\n",
       "      <td>Tiffany Bushka</td>\n",
       "      <td>Rhode Island School of Design Museum</td>\n",
       "      <td>woman</td>\n",
       "      <td>Unknown</td>\n",
       "      <td>NaN</td>\n",
       "      <td>NaN</td>\n",
       "    </tr>\n",
       "    <tr>\n",
       "      <th>1865</th>\n",
       "      <td>Suzanne Caporael</td>\n",
       "      <td>Detroit Institute of Arts</td>\n",
       "      <td>woman</td>\n",
       "      <td>white</td>\n",
       "      <td>North America</td>\n",
       "      <td>1950.0</td>\n",
       "    </tr>\n",
       "    <tr>\n",
       "      <th>7855</th>\n",
       "      <td>Almira Budlong</td>\n",
       "      <td>Rhode Island School of Design Museum</td>\n",
       "      <td>woman</td>\n",
       "      <td>white</td>\n",
       "      <td>NaN</td>\n",
       "      <td>NaN</td>\n",
       "    </tr>\n",
       "    <tr>\n",
       "      <th>7853</th>\n",
       "      <td>Esther Bubley</td>\n",
       "      <td>Rhode Island School of Design Museum</td>\n",
       "      <td>woman</td>\n",
       "      <td>white</td>\n",
       "      <td>North America</td>\n",
       "      <td>1920.0</td>\n",
       "    </tr>\n",
       "    <tr>\n",
       "      <th>7852</th>\n",
       "      <td>Tania Bruguera</td>\n",
       "      <td>Rhode Island School of Design Museum</td>\n",
       "      <td>woman</td>\n",
       "      <td>hispanic</td>\n",
       "      <td>Latin America and the Caribbean</td>\n",
       "      <td>1970.0</td>\n",
       "    </tr>\n",
       "    <tr>\n",
       "      <th>1871</th>\n",
       "      <td>Rosalba Giovanna Carriera</td>\n",
       "      <td>Detroit Institute of Arts</td>\n",
       "      <td>woman</td>\n",
       "      <td>white</td>\n",
       "      <td>Europe</td>\n",
       "      <td>1680.0</td>\n",
       "    </tr>\n",
       "    <tr>\n",
       "      <th>7839</th>\n",
       "      <td>Marta Maria Perez Bravo</td>\n",
       "      <td>Rhode Island School of Design Museum</td>\n",
       "      <td>woman</td>\n",
       "      <td>hispanic</td>\n",
       "      <td>Latin America and the Caribbean</td>\n",
       "      <td>1960.0</td>\n",
       "    </tr>\n",
       "    <tr>\n",
       "      <th>1892</th>\n",
       "      <td>Helen Ciesla Covensky</td>\n",
       "      <td>Detroit Institute of Arts</td>\n",
       "      <td>woman</td>\n",
       "      <td>white</td>\n",
       "      <td>Europe</td>\n",
       "      <td>1920.0</td>\n",
       "    </tr>\n",
       "    <tr>\n",
       "      <th>7828</th>\n",
       "      <td>Tia Blassingame</td>\n",
       "      <td>Rhode Island School of Design Museum</td>\n",
       "      <td>woman</td>\n",
       "      <td>black</td>\n",
       "      <td>North America</td>\n",
       "      <td>1970.0</td>\n",
       "    </tr>\n",
       "    <tr>\n",
       "      <th>7827</th>\n",
       "      <td>Kate Blacklock</td>\n",
       "      <td>Rhode Island School of Design Museum</td>\n",
       "      <td>woman</td>\n",
       "      <td>white</td>\n",
       "      <td>North America</td>\n",
       "      <td>1960.0</td>\n",
       "    </tr>\n",
       "    <tr>\n",
       "      <th>7825</th>\n",
       "      <td>Karla Black</td>\n",
       "      <td>Rhode Island School of Design Museum</td>\n",
       "      <td>woman</td>\n",
       "      <td>white</td>\n",
       "      <td>Europe</td>\n",
       "      <td>1970.0</td>\n",
       "    </tr>\n",
       "    <tr>\n",
       "      <th>1898</th>\n",
       "      <td>Mary Cummings</td>\n",
       "      <td>Detroit Institute of Arts</td>\n",
       "      <td>woman</td>\n",
       "      <td>Unknown</td>\n",
       "      <td>North America</td>\n",
       "      <td>NaN</td>\n",
       "    </tr>\n",
       "    <tr>\n",
       "      <th>1760</th>\n",
       "      <td>Rebecca Atkinson</td>\n",
       "      <td>Detroit Institute of Arts</td>\n",
       "      <td>woman</td>\n",
       "      <td>Unknown</td>\n",
       "      <td>NaN</td>\n",
       "      <td>NaN</td>\n",
       "    </tr>\n",
       "    <tr>\n",
       "      <th>7390</th>\n",
       "      <td>Albee Grace</td>\n",
       "      <td>Philadelphia Museum of Art</td>\n",
       "      <td>woman</td>\n",
       "      <td>Unknown</td>\n",
       "      <td>North America</td>\n",
       "      <td>1890.0</td>\n",
       "    </tr>\n",
       "  </tbody>\n",
       "</table>\n",
       "</div>"
      ],
      "text/plain": [
       "                         artist                                museum gender  \\\n",
       "7871       Rose Carraer-Eastman  Rhode Island School of Design Museum  woman   \n",
       "7865             Tiffany Bushka  Rhode Island School of Design Museum  woman   \n",
       "1865           Suzanne Caporael             Detroit Institute of Arts  woman   \n",
       "7855             Almira Budlong  Rhode Island School of Design Museum  woman   \n",
       "7853              Esther Bubley  Rhode Island School of Design Museum  woman   \n",
       "7852             Tania Bruguera  Rhode Island School of Design Museum  woman   \n",
       "1871  Rosalba Giovanna Carriera             Detroit Institute of Arts  woman   \n",
       "7839    Marta Maria Perez Bravo  Rhode Island School of Design Museum  woman   \n",
       "1892      Helen Ciesla Covensky             Detroit Institute of Arts  woman   \n",
       "7828            Tia Blassingame  Rhode Island School of Design Museum  woman   \n",
       "7827             Kate Blacklock  Rhode Island School of Design Museum  woman   \n",
       "7825                Karla Black  Rhode Island School of Design Museum  woman   \n",
       "1898              Mary Cummings             Detroit Institute of Arts  woman   \n",
       "1760           Rebecca Atkinson             Detroit Institute of Arts  woman   \n",
       "7390                Albee Grace            Philadelphia Museum of Art  woman   \n",
       "\n",
       "     ethnicity                        GEO3major    year  \n",
       "7871     white                    North America  1900.0  \n",
       "7865   Unknown                              NaN     NaN  \n",
       "1865     white                    North America  1950.0  \n",
       "7855     white                              NaN     NaN  \n",
       "7853     white                    North America  1920.0  \n",
       "7852  hispanic  Latin America and the Caribbean  1970.0  \n",
       "1871     white                           Europe  1680.0  \n",
       "7839  hispanic  Latin America and the Caribbean  1960.0  \n",
       "1892     white                           Europe  1920.0  \n",
       "7828     black                    North America  1970.0  \n",
       "7827     white                    North America  1960.0  \n",
       "7825     white                           Europe  1970.0  \n",
       "1898   Unknown                    North America     NaN  \n",
       "1760   Unknown                              NaN     NaN  \n",
       "7390   Unknown                    North America  1890.0  "
      ]
     },
     "execution_count": 34,
     "metadata": {},
     "output_type": "execute_result"
    }
   ],
   "source": [
    "df.sort_values(by='gender').tail(15)"
   ]
  },
  {
   "cell_type": "code",
   "execution_count": 35,
   "id": "16840ced",
   "metadata": {},
   "outputs": [
    {
     "data": {
      "text/plain": [
       "<AxesSubplot: ylabel='ethnicity'>"
      ]
     },
     "execution_count": 35,
     "metadata": {},
     "output_type": "execute_result"
    },
    {
     "data": {
      "image/png": "[encoded data removed]",
      "text/plain": [
       "<Figure size 640x480 with 1 Axes>"
      ]
     },
     "metadata": {},
     "output_type": "display_data"
    }
   ],
   "source": [
    "# drops will delete data we might want to keep\n",
    "# so do not execute this:\n",
    "# df.dropna(subset=['gender'], inplace = True)\n",
    "# for x in df.index:\n",
    "#   if df.loc[x, \"gender\"] == 'NaN':\n",
    "#     df.drop(x, inplace = True)\n",
    "\n",
    "# Plotting with null values replaced by \"Unknown\"\n",
    "df.sort_values(by='gender',ascending=True)[-10:].plot.barh(x='ethnicity',y='year')"
   ]
  },
  {
   "cell_type": "code",
   "execution_count": 36,
   "id": "c111b276-61c0-48f3-aaeb-a3ea1fef5bb8",
   "metadata": {},
   "outputs": [
    {
     "data": {
      "text/plain": [
       "gender  ethnicity\n",
       "man     Unknown      1175\n",
       "        asian         538\n",
       "        black          87\n",
       "        hispanic      193\n",
       "        other          67\n",
       "        white        5805\n",
       "woman   Unknown       184\n",
       "        asian          38\n",
       "        black          33\n",
       "        hispanic       20\n",
       "        other          35\n",
       "        white         841\n",
       "Name: gender, dtype: int64"
      ]
     },
     "execution_count": 36,
     "metadata": {},
     "output_type": "execute_result"
    }
   ],
   "source": [
    "df.groupby(['gender','ethnicity'])['gender'].count()"
   ]
  },
  {
   "cell_type": "markdown",
   "id": "ec181d58-4701-4f26-9a98-eddf52038201",
   "metadata": {},
   "source": [
    "# END OF BEN COMMENT SECTION:"
   ]
  },
  {
   "cell_type": "code",
   "execution_count": 27,
   "id": "6fb23157",
   "metadata": {},
   "outputs": [
    {
     "data": {
      "text/plain": [
       "<AxesSubplot: >"
      ]
     },
     "execution_count": 27,
     "metadata": {},
     "output_type": "execute_result"
    },
    {
     "data": {
      "image/png": "[encoded data removed]",
      "text/plain": [
       "<Figure size 640x480 with 1 Axes>"
      ]
     },
     "metadata": {},
     "output_type": "display_data"
    }
   ],
   "source": [
    "# plot of all data from dataset\n",
    "df.plot()"
   ]
  },
  {
   "cell_type": "markdown",
   "id": "ce4f61e0-b6e4-446e-bf90-1b9784b99ac9",
   "metadata": {},
   "source": [
    "# STEPS FOR PROGRESSING TO THE PROJECT ANALYSIS"
   ]
  },
  {
   "cell_type": "markdown",
   "id": "ccb5a591-d367-49e9-8f2e-d059bdef79ae",
   "metadata": {},
   "source": [
    "* Questions to address:\n",
    "  * Show white males most dominant in museums\n",
    "  * Visualization of women representation as a function of time\n",
    "  * 2nd or 3rd most popular ethnicity"
   ]
  },
  {
   "cell_type": "code",
   "execution_count": 30,
   "id": "54d736c5-a291-4b8a-86de-a1bca339555a",
   "metadata": {},
   "outputs": [
    {
     "data": {
      "text/plain": [
       "gender  ethnicity\n",
       "man     Unknown      1175\n",
       "        asian         538\n",
       "        black          87\n",
       "        hispanic      193\n",
       "        other          67\n",
       "        white        5805\n",
       "woman   Unknown       184\n",
       "        asian          38\n",
       "        black          33\n",
       "        hispanic       20\n",
       "        other          35\n",
       "        white         841\n",
       "Name: gender, dtype: int64"
      ]
     },
     "execution_count": 30,
     "metadata": {},
     "output_type": "execute_result"
    }
   ],
   "source": [
    "# Show white males most dominant in museums\n",
    "\n",
    "df.groupby(['gender','ethnicity'])['gender'].count()"
   ]
  },
  {
   "cell_type": "code",
   "execution_count": 48,
   "id": "6696d6bc-9cdd-4d58-a454-4a8d04af7983",
   "metadata": {},
   "outputs": [],
   "source": [
    "import seaborn as sns"
   ]
  },
  {
   "cell_type": "code",
   "execution_count": 32,
   "id": "b619952b-20c9-494c-aa5c-1a0d6fa8165e",
   "metadata": {},
   "outputs": [
    {
     "data": {
      "text/plain": [
       "<seaborn.axisgrid.FacetGrid at 0x7f280a71bfd0>"
      ]
     },
     "execution_count": 32,
     "metadata": {},
     "output_type": "execute_result"
    },
    {
     "data": {
      "image/png": "[encoded data removed]",
      "text/plain": [
       "<Figure size 1000x500 with 2 Axes>"
      ]
     },
     "metadata": {},
     "output_type": "display_data"
    }
   ],
   "source": [
    "# for making a catplot: \n",
    "# seaborn.pydata.org/generated/seaborn.catplot.html\n",
    "sns.catplot(data=df, \n",
    "            x='ethnicity',\n",
    "            col='gender', \n",
    "            kind='count')"
   ]
  },
  {
   "cell_type": "code",
   "execution_count": 33,
   "id": "fe8016d4-f39e-4bf7-b25a-fae184587624",
   "metadata": {},
   "outputs": [],
   "source": [
    "# Would also be good to get quantitative values about how much greater\n",
    "# white men representation is than others\n",
    "\n",
    "gecounts = df.groupby(['gender','ethnicity'])['gender'].count()"
   ]
  },
  {
   "cell_type": "code",
   "execution_count": 34,
   "id": "d811ebec-5717-421c-bcc7-80f5f80a37ff",
   "metadata": {},
   "outputs": [
    {
     "data": {
      "text/plain": [
       "gender  ethnicity\n",
       "man     Unknown      1175\n",
       "        asian         538\n",
       "        black          87\n",
       "        hispanic      193\n",
       "        other          67\n",
       "        white        5805\n",
       "woman   Unknown       184\n",
       "        asian          38\n",
       "        black          33\n",
       "        hispanic       20\n",
       "        other          35\n",
       "        white         841\n",
       "Name: gender, dtype: int64"
      ]
     },
     "execution_count": 34,
     "metadata": {},
     "output_type": "execute_result"
    }
   ],
   "source": [
    "gecounts"
   ]
  },
  {
   "cell_type": "code",
   "execution_count": 35,
   "id": "6738f213-90f5-4b25-be00-bc127faa3e47",
   "metadata": {},
   "outputs": [],
   "source": [
    "# Will get back about indexing a multi-index series"
   ]
  },
  {
   "cell_type": "code",
   "execution_count": 84,
   "id": "f6776bc2-f19c-4b30-ba34-211999ac6180",
   "metadata": {},
   "outputs": [
    {
     "data": {
      "text/plain": [
       "gender  ethnicity\n",
       "man     asian         538\n",
       "        black          87\n",
       "        hispanic      193\n",
       "        other          67\n",
       "        white        5805\n",
       "woman   asian          38\n",
       "        black          33\n",
       "        hispanic       20\n",
       "        other          35\n",
       "        white         841\n",
       "Name: gender, dtype: int64"
      ]
     },
     "execution_count": 84,
     "metadata": {},
     "output_type": "execute_result"
    }
   ],
   "source": [
    "# dataframe from the grouping/counting\n",
    "\n",
    "x = df.groupby(['gender','ethnicity'])['artist'].count()\n",
    "x = x.to_frame().reset_index().rename(columns={'artist':'artistcount'})\n",
    "gecounts = df.groupby(['gender','ethnicity'])['gender'].count()\n",
    "gecounts"
   ]
  },
  {
   "cell_type": "markdown",
   "id": "b962e306",
   "metadata": {},
   "source": [
    "# Sum work for percentages/comparisons:"
   ]
  },
  {
   "cell_type": "code",
   "execution_count": 5,
   "id": "d72ed053",
   "metadata": {},
   "outputs": [
    {
     "data": {
      "text/html": [
       "<div>\n",
       "<style scoped>\n",
       "    .dataframe tbody tr th:only-of-type {\n",
       "        vertical-align: middle;\n",
       "    }\n",
       "\n",
       "    .dataframe tbody tr th {\n",
       "        vertical-align: top;\n",
       "    }\n",
       "\n",
       "    .dataframe thead th {\n",
       "        text-align: right;\n",
       "    }\n",
       "</style>\n",
       "<table border=\"1\" class=\"dataframe\">\n",
       "  <thead>\n",
       "    <tr style=\"text-align: right;\">\n",
       "      <th></th>\n",
       "      <th>gender</th>\n",
       "      <th>ethnicity</th>\n",
       "      <th>artistcount</th>\n",
       "    </tr>\n",
       "  </thead>\n",
       "  <tbody>\n",
       "    <tr>\n",
       "      <th>0</th>\n",
       "      <td>man</td>\n",
       "      <td>asian</td>\n",
       "      <td>538</td>\n",
       "    </tr>\n",
       "    <tr>\n",
       "      <th>1</th>\n",
       "      <td>man</td>\n",
       "      <td>black</td>\n",
       "      <td>87</td>\n",
       "    </tr>\n",
       "    <tr>\n",
       "      <th>2</th>\n",
       "      <td>man</td>\n",
       "      <td>hispanic</td>\n",
       "      <td>193</td>\n",
       "    </tr>\n",
       "    <tr>\n",
       "      <th>3</th>\n",
       "      <td>man</td>\n",
       "      <td>other</td>\n",
       "      <td>67</td>\n",
       "    </tr>\n",
       "    <tr>\n",
       "      <th>4</th>\n",
       "      <td>man</td>\n",
       "      <td>white</td>\n",
       "      <td>5805</td>\n",
       "    </tr>\n",
       "    <tr>\n",
       "      <th>5</th>\n",
       "      <td>woman</td>\n",
       "      <td>asian</td>\n",
       "      <td>38</td>\n",
       "    </tr>\n",
       "    <tr>\n",
       "      <th>6</th>\n",
       "      <td>woman</td>\n",
       "      <td>black</td>\n",
       "      <td>33</td>\n",
       "    </tr>\n",
       "    <tr>\n",
       "      <th>7</th>\n",
       "      <td>woman</td>\n",
       "      <td>hispanic</td>\n",
       "      <td>20</td>\n",
       "    </tr>\n",
       "    <tr>\n",
       "      <th>8</th>\n",
       "      <td>woman</td>\n",
       "      <td>other</td>\n",
       "      <td>35</td>\n",
       "    </tr>\n",
       "    <tr>\n",
       "      <th>9</th>\n",
       "      <td>woman</td>\n",
       "      <td>white</td>\n",
       "      <td>841</td>\n",
       "    </tr>\n",
       "  </tbody>\n",
       "</table>\n",
       "</div>"
      ],
      "text/plain": [
       "  gender ethnicity  artistcount\n",
       "0    man     asian          538\n",
       "1    man     black           87\n",
       "2    man  hispanic          193\n",
       "3    man     other           67\n",
       "4    man     white         5805\n",
       "5  woman     asian           38\n",
       "6  woman     black           33\n",
       "7  woman  hispanic           20\n",
       "8  woman     other           35\n",
       "9  woman     white          841"
      ]
     },
     "execution_count": 5,
     "metadata": {},
     "output_type": "execute_result"
    }
   ],
   "source": [
    "x = df.groupby(['gender','ethnicity'])['artist'].count()\n",
    "x = x.to_frame().reset_index().rename(columns={'artist':'artistcount'})\n",
    "gecounts = df.groupby(['gender','ethnicity'])['gender'].count()\n",
    "gecounts\n",
    "x"
   ]
  },
  {
   "cell_type": "code",
   "execution_count": 6,
   "id": "d532d219",
   "metadata": {},
   "outputs": [
    {
     "data": {
      "text/plain": [
       "7657"
      ]
     },
     "execution_count": 6,
     "metadata": {},
     "output_type": "execute_result"
    }
   ],
   "source": [
    "x = df.groupby(['gender','ethnicity'])['artist'].count()\n",
    "x = x.to_frame().reset_index().rename(columns={'artist':'artistcount'})\n",
    "gecounts = df.groupby(['gender','ethnicity'])['gender'].count()\n",
    "\n",
    "# total sum of all artists: 7657\n",
    "x.sum()\n",
    "\n",
    "#or\n",
    "\n",
    "sum(gecounts)"
   ]
  },
  {
   "cell_type": "code",
   "execution_count": 133,
   "id": "c4b881b9",
   "metadata": {},
   "outputs": [
    {
     "ename": "SyntaxError",
     "evalue": "positional argument follows keyword argument (3770641174.py, line 1)",
     "output_type": "error",
     "traceback": [
      "\u001b[0;36m  Cell \u001b[0;32mIn[133], line 1\u001b[0;36m\u001b[0m\n\u001b[0;31m    x.groupby(level='gender','ethnicity')['gender']..count()\u001b[0m\n\u001b[0m                                        ^\u001b[0m\n\u001b[0;31mSyntaxError\u001b[0m\u001b[0;31m:\u001b[0m positional argument follows keyword argument\n"
     ]
    }
   ],
   "source": [
    "#attempted multiindexing\n",
    "x.groupby(level='gender','ethnicity')['gender']..count()"
   ]
  },
  {
   "cell_type": "code",
   "execution_count": 7,
   "id": "1f1830ea",
   "metadata": {},
   "outputs": [
    {
     "ename": "TypeError",
     "evalue": "unhashable type: 'list'",
     "output_type": "error",
     "traceback": [
      "\u001b[0;31m---------------------------------------------------------------------------\u001b[0m",
      "\u001b[0;31mTypeError\u001b[0m                                 Traceback (most recent call last)",
      "Cell \u001b[0;32mIn[7], line 7\u001b[0m\n\u001b[1;32m      5\u001b[0m gecounts\n\u001b[1;32m      6\u001b[0m df\u001b[38;5;241m.\u001b[39mgroupby([\u001b[38;5;124m'\u001b[39m\u001b[38;5;124mgender\u001b[39m\u001b[38;5;124m'\u001b[39m,\u001b[38;5;124m'\u001b[39m\u001b[38;5;124methnicity\u001b[39m\u001b[38;5;124m'\u001b[39m])\u001b[38;5;241m.\u001b[39msum([])\n\u001b[0;32m----> 7\u001b[0m \u001b[43mx\u001b[49m\u001b[38;5;241;43m.\u001b[39;49m\u001b[43msum\u001b[49m\u001b[43m(\u001b[49m\u001b[43m[\u001b[49m\u001b[38;5;124;43m'\u001b[39;49m\u001b[38;5;124;43mmale\u001b[39;49m\u001b[38;5;124;43m'\u001b[39;49m\u001b[43m,\u001b[49m\u001b[38;5;124;43m'\u001b[39;49m\u001b[38;5;124;43mwhite\u001b[39;49m\u001b[38;5;124;43m'\u001b[39;49m\u001b[43m]\u001b[49m\u001b[43m)\u001b[49m\n",
      "File \u001b[0;32m/opt/conda/lib/python3.10/site-packages/pandas/core/generic.py:11797\u001b[0m, in \u001b[0;36mNDFrame._add_numeric_operations.<locals>.sum\u001b[0;34m(self, axis, skipna, level, numeric_only, min_count, **kwargs)\u001b[0m\n\u001b[1;32m  11777\u001b[0m \u001b[38;5;129m@doc\u001b[39m(\n\u001b[1;32m  11778\u001b[0m     _num_doc,\n\u001b[1;32m  11779\u001b[0m     desc\u001b[38;5;241m=\u001b[39m\u001b[38;5;124m\"\u001b[39m\u001b[38;5;124mReturn the sum of the values over the requested axis.\u001b[39m\u001b[38;5;130;01m\\n\u001b[39;00m\u001b[38;5;130;01m\\n\u001b[39;00m\u001b[38;5;124m\"\u001b[39m\n\u001b[0;32m   (...)\u001b[0m\n\u001b[1;32m  11795\u001b[0m     \u001b[38;5;241m*\u001b[39m\u001b[38;5;241m*\u001b[39mkwargs,\n\u001b[1;32m  11796\u001b[0m ):\n\u001b[0;32m> 11797\u001b[0m     \u001b[38;5;28;01mreturn\u001b[39;00m \u001b[43mNDFrame\u001b[49m\u001b[38;5;241;43m.\u001b[39;49m\u001b[43msum\u001b[49m\u001b[43m(\u001b[49m\n\u001b[1;32m  11798\u001b[0m \u001b[43m        \u001b[49m\u001b[38;5;28;43mself\u001b[39;49m\u001b[43m,\u001b[49m\u001b[43m \u001b[49m\u001b[43maxis\u001b[49m\u001b[43m,\u001b[49m\u001b[43m \u001b[49m\u001b[43mskipna\u001b[49m\u001b[43m,\u001b[49m\u001b[43m \u001b[49m\u001b[43mlevel\u001b[49m\u001b[43m,\u001b[49m\u001b[43m \u001b[49m\u001b[43mnumeric_only\u001b[49m\u001b[43m,\u001b[49m\u001b[43m \u001b[49m\u001b[43mmin_count\u001b[49m\u001b[43m,\u001b[49m\u001b[43m \u001b[49m\u001b[38;5;241;43m*\u001b[39;49m\u001b[38;5;241;43m*\u001b[39;49m\u001b[43mkwargs\u001b[49m\n\u001b[1;32m  11799\u001b[0m \u001b[43m    \u001b[49m\u001b[43m)\u001b[49m\n",
      "File \u001b[0;32m/opt/conda/lib/python3.10/site-packages/pandas/core/generic.py:11501\u001b[0m, in \u001b[0;36mNDFrame.sum\u001b[0;34m(self, axis, skipna, level, numeric_only, min_count, **kwargs)\u001b[0m\n\u001b[1;32m  11492\u001b[0m \u001b[38;5;28;01mdef\u001b[39;00m \u001b[38;5;21msum\u001b[39m(\n\u001b[1;32m  11493\u001b[0m     \u001b[38;5;28mself\u001b[39m,\n\u001b[1;32m  11494\u001b[0m     axis: Axis \u001b[38;5;241m|\u001b[39m \u001b[38;5;28;01mNone\u001b[39;00m \u001b[38;5;241m=\u001b[39m \u001b[38;5;28;01mNone\u001b[39;00m,\n\u001b[0;32m   (...)\u001b[0m\n\u001b[1;32m  11499\u001b[0m     \u001b[38;5;241m*\u001b[39m\u001b[38;5;241m*\u001b[39mkwargs,\n\u001b[1;32m  11500\u001b[0m ):\n\u001b[0;32m> 11501\u001b[0m     \u001b[38;5;28;01mreturn\u001b[39;00m \u001b[38;5;28;43mself\u001b[39;49m\u001b[38;5;241;43m.\u001b[39;49m\u001b[43m_min_count_stat_function\u001b[49m\u001b[43m(\u001b[49m\n\u001b[1;32m  11502\u001b[0m \u001b[43m        \u001b[49m\u001b[38;5;124;43m\"\u001b[39;49m\u001b[38;5;124;43msum\u001b[39;49m\u001b[38;5;124;43m\"\u001b[39;49m\u001b[43m,\u001b[49m\u001b[43m \u001b[49m\u001b[43mnanops\u001b[49m\u001b[38;5;241;43m.\u001b[39;49m\u001b[43mnansum\u001b[49m\u001b[43m,\u001b[49m\u001b[43m \u001b[49m\u001b[43maxis\u001b[49m\u001b[43m,\u001b[49m\u001b[43m \u001b[49m\u001b[43mskipna\u001b[49m\u001b[43m,\u001b[49m\u001b[43m \u001b[49m\u001b[43mlevel\u001b[49m\u001b[43m,\u001b[49m\u001b[43m \u001b[49m\u001b[43mnumeric_only\u001b[49m\u001b[43m,\u001b[49m\u001b[43m \u001b[49m\u001b[43mmin_count\u001b[49m\u001b[43m,\u001b[49m\u001b[43m \u001b[49m\u001b[38;5;241;43m*\u001b[39;49m\u001b[38;5;241;43m*\u001b[39;49m\u001b[43mkwargs\u001b[49m\n\u001b[1;32m  11503\u001b[0m \u001b[43m    \u001b[49m\u001b[43m)\u001b[49m\n",
      "File \u001b[0;32m/opt/conda/lib/python3.10/site-packages/pandas/core/generic.py:11483\u001b[0m, in \u001b[0;36mNDFrame._min_count_stat_function\u001b[0;34m(self, name, func, axis, skipna, level, numeric_only, min_count, **kwargs)\u001b[0m\n\u001b[1;32m  11467\u001b[0m     warnings\u001b[38;5;241m.\u001b[39mwarn(\n\u001b[1;32m  11468\u001b[0m         \u001b[38;5;124m\"\u001b[39m\u001b[38;5;124mUsing the level keyword in DataFrame and Series aggregations is \u001b[39m\u001b[38;5;124m\"\u001b[39m\n\u001b[1;32m  11469\u001b[0m         \u001b[38;5;124m\"\u001b[39m\u001b[38;5;124mdeprecated and will be removed in a future version. Use groupby \u001b[39m\u001b[38;5;124m\"\u001b[39m\n\u001b[0;32m   (...)\u001b[0m\n\u001b[1;32m  11472\u001b[0m         stacklevel\u001b[38;5;241m=\u001b[39mfind_stack_level(),\n\u001b[1;32m  11473\u001b[0m     )\n\u001b[1;32m  11474\u001b[0m     \u001b[38;5;28;01mreturn\u001b[39;00m \u001b[38;5;28mself\u001b[39m\u001b[38;5;241m.\u001b[39m_agg_by_level(\n\u001b[1;32m  11475\u001b[0m         name,\n\u001b[1;32m  11476\u001b[0m         axis\u001b[38;5;241m=\u001b[39maxis,\n\u001b[0;32m   (...)\u001b[0m\n\u001b[1;32m  11480\u001b[0m         numeric_only\u001b[38;5;241m=\u001b[39mnumeric_only,\n\u001b[1;32m  11481\u001b[0m     )\n\u001b[0;32m> 11483\u001b[0m \u001b[38;5;28;01mreturn\u001b[39;00m \u001b[38;5;28;43mself\u001b[39;49m\u001b[38;5;241;43m.\u001b[39;49m\u001b[43m_reduce\u001b[49m\u001b[43m(\u001b[49m\n\u001b[1;32m  11484\u001b[0m \u001b[43m    \u001b[49m\u001b[43mfunc\u001b[49m\u001b[43m,\u001b[49m\n\u001b[1;32m  11485\u001b[0m \u001b[43m    \u001b[49m\u001b[43mname\u001b[49m\u001b[38;5;241;43m=\u001b[39;49m\u001b[43mname\u001b[49m\u001b[43m,\u001b[49m\n\u001b[1;32m  11486\u001b[0m \u001b[43m    \u001b[49m\u001b[43maxis\u001b[49m\u001b[38;5;241;43m=\u001b[39;49m\u001b[43maxis\u001b[49m\u001b[43m,\u001b[49m\n\u001b[1;32m  11487\u001b[0m \u001b[43m    \u001b[49m\u001b[43mskipna\u001b[49m\u001b[38;5;241;43m=\u001b[39;49m\u001b[43mskipna\u001b[49m\u001b[43m,\u001b[49m\n\u001b[1;32m  11488\u001b[0m \u001b[43m    \u001b[49m\u001b[43mnumeric_only\u001b[49m\u001b[38;5;241;43m=\u001b[39;49m\u001b[43mnumeric_only\u001b[49m\u001b[43m,\u001b[49m\n\u001b[1;32m  11489\u001b[0m \u001b[43m    \u001b[49m\u001b[43mmin_count\u001b[49m\u001b[38;5;241;43m=\u001b[39;49m\u001b[43mmin_count\u001b[49m\u001b[43m,\u001b[49m\n\u001b[1;32m  11490\u001b[0m \u001b[43m\u001b[49m\u001b[43m)\u001b[49m\n",
      "File \u001b[0;32m/opt/conda/lib/python3.10/site-packages/pandas/core/frame.py:10808\u001b[0m, in \u001b[0;36mDataFrame._reduce\u001b[0;34m(self, op, name, axis, skipna, numeric_only, filter_type, **kwds)\u001b[0m\n\u001b[1;32m  10805\u001b[0m         \u001b[38;5;28mself\u001b[39m \u001b[38;5;241m=\u001b[39m \u001b[38;5;28mtype\u001b[39m(\u001b[38;5;28mself\u001b[39m)(mgr)\n\u001b[1;32m  10807\u001b[0m \u001b[38;5;66;03m# TODO: Make other agg func handle axis=None properly GH#21597\u001b[39;00m\n\u001b[0;32m> 10808\u001b[0m axis \u001b[38;5;241m=\u001b[39m \u001b[38;5;28;43mself\u001b[39;49m\u001b[38;5;241;43m.\u001b[39;49m\u001b[43m_get_axis_number\u001b[49m\u001b[43m(\u001b[49m\u001b[43maxis\u001b[49m\u001b[43m)\u001b[49m\n\u001b[1;32m  10809\u001b[0m labels \u001b[38;5;241m=\u001b[39m \u001b[38;5;28mself\u001b[39m\u001b[38;5;241m.\u001b[39m_get_agg_axis(axis)\n\u001b[1;32m  10810\u001b[0m \u001b[38;5;28;01massert\u001b[39;00m axis \u001b[38;5;129;01min\u001b[39;00m [\u001b[38;5;241m0\u001b[39m, \u001b[38;5;241m1\u001b[39m]\n",
      "File \u001b[0;32m/opt/conda/lib/python3.10/site-packages/pandas/core/generic.py:554\u001b[0m, in \u001b[0;36mNDFrame._get_axis_number\u001b[0;34m(cls, axis)\u001b[0m\n\u001b[1;32m    550\u001b[0m \u001b[38;5;129m@final\u001b[39m\n\u001b[1;32m    551\u001b[0m \u001b[38;5;129m@classmethod\u001b[39m\n\u001b[1;32m    552\u001b[0m \u001b[38;5;28;01mdef\u001b[39;00m \u001b[38;5;21m_get_axis_number\u001b[39m(\u001b[38;5;28mcls\u001b[39m, axis: Axis) \u001b[38;5;241m-\u001b[39m\u001b[38;5;241m>\u001b[39m \u001b[38;5;28mint\u001b[39m:\n\u001b[1;32m    553\u001b[0m     \u001b[38;5;28;01mtry\u001b[39;00m:\n\u001b[0;32m--> 554\u001b[0m         \u001b[38;5;28;01mreturn\u001b[39;00m \u001b[38;5;28;43mcls\u001b[39;49m\u001b[38;5;241;43m.\u001b[39;49m\u001b[43m_AXIS_TO_AXIS_NUMBER\u001b[49m\u001b[43m[\u001b[49m\u001b[43maxis\u001b[49m\u001b[43m]\u001b[49m\n\u001b[1;32m    555\u001b[0m     \u001b[38;5;28;01mexcept\u001b[39;00m \u001b[38;5;167;01mKeyError\u001b[39;00m:\n\u001b[1;32m    556\u001b[0m         \u001b[38;5;28;01mraise\u001b[39;00m \u001b[38;5;167;01mValueError\u001b[39;00m(\u001b[38;5;124mf\u001b[39m\u001b[38;5;124m\"\u001b[39m\u001b[38;5;124mNo axis named \u001b[39m\u001b[38;5;132;01m{\u001b[39;00maxis\u001b[38;5;132;01m}\u001b[39;00m\u001b[38;5;124m for object type \u001b[39m\u001b[38;5;132;01m{\u001b[39;00m\u001b[38;5;28mcls\u001b[39m\u001b[38;5;241m.\u001b[39m\u001b[38;5;18m__name__\u001b[39m\u001b[38;5;132;01m}\u001b[39;00m\u001b[38;5;124m\"\u001b[39m)\n",
      "\u001b[0;31mTypeError\u001b[0m: unhashable type: 'list'"
     ]
    }
   ],
   "source": [
    "# sum of male artists\n",
    "x = df.groupby(['gender','ethnicity'])['artist'].count()\n",
    "x = x.to_frame().reset_index().rename(columns={'artist':'artistcount'})\n",
    "gecounts = df.groupby(['gender','ethnicity'])['gender'].count()\n",
    "gecounts\n",
    "df.groupby(['gender','ethnicity']).sum([])\n",
    "x.sum(['male','white'])"
   ]
  },
  {
   "cell_type": "code",
   "execution_count": 42,
   "id": "8815733b",
   "metadata": {},
   "outputs": [
    {
     "ename": "TypeError",
     "evalue": "unhashable type: 'list'",
     "output_type": "error",
     "traceback": [
      "\u001b[0;31m---------------------------------------------------------------------------\u001b[0m",
      "\u001b[0;31mTypeError\u001b[0m                                 Traceback (most recent call last)",
      "Cell \u001b[0;32mIn[42], line 1\u001b[0m\n\u001b[0;32m----> 1\u001b[0m gecounts\u001b[38;5;241m.\u001b[39mloc[\u001b[38;5;124m'\u001b[39m\u001b[38;5;124mgender\u001b[39m\u001b[38;5;124m'\u001b[39m,\u001b[38;5;124m'\u001b[39m\u001b[38;5;124methnicity\u001b[39m\u001b[38;5;124m'\u001b[39m] \u001b[38;5;241m=\u001b[39m \u001b[43mgecounts\u001b[49m\u001b[38;5;241;43m.\u001b[39;49m\u001b[43msum\u001b[49m\u001b[43m(\u001b[49m\u001b[43m[\u001b[49m\u001b[38;5;124;43m'\u001b[39;49m\u001b[38;5;124;43martistcount\u001b[39;49m\u001b[38;5;124;43m'\u001b[39;49m\u001b[43m]\u001b[49m\u001b[43m)\u001b[49m\n",
      "File \u001b[0;32m/opt/conda/lib/python3.10/site-packages/pandas/core/generic.py:11797\u001b[0m, in \u001b[0;36mNDFrame._add_numeric_operations.<locals>.sum\u001b[0;34m(self, axis, skipna, level, numeric_only, min_count, **kwargs)\u001b[0m\n\u001b[1;32m  11777\u001b[0m \u001b[38;5;129m@doc\u001b[39m(\n\u001b[1;32m  11778\u001b[0m     _num_doc,\n\u001b[1;32m  11779\u001b[0m     desc\u001b[38;5;241m=\u001b[39m\u001b[38;5;124m\"\u001b[39m\u001b[38;5;124mReturn the sum of the values over the requested axis.\u001b[39m\u001b[38;5;130;01m\\n\u001b[39;00m\u001b[38;5;130;01m\\n\u001b[39;00m\u001b[38;5;124m\"\u001b[39m\n\u001b[0;32m   (...)\u001b[0m\n\u001b[1;32m  11795\u001b[0m     \u001b[38;5;241m*\u001b[39m\u001b[38;5;241m*\u001b[39mkwargs,\n\u001b[1;32m  11796\u001b[0m ):\n\u001b[0;32m> 11797\u001b[0m     \u001b[38;5;28;01mreturn\u001b[39;00m \u001b[43mNDFrame\u001b[49m\u001b[38;5;241;43m.\u001b[39;49m\u001b[43msum\u001b[49m\u001b[43m(\u001b[49m\n\u001b[1;32m  11798\u001b[0m \u001b[43m        \u001b[49m\u001b[38;5;28;43mself\u001b[39;49m\u001b[43m,\u001b[49m\u001b[43m \u001b[49m\u001b[43maxis\u001b[49m\u001b[43m,\u001b[49m\u001b[43m \u001b[49m\u001b[43mskipna\u001b[49m\u001b[43m,\u001b[49m\u001b[43m \u001b[49m\u001b[43mlevel\u001b[49m\u001b[43m,\u001b[49m\u001b[43m \u001b[49m\u001b[43mnumeric_only\u001b[49m\u001b[43m,\u001b[49m\u001b[43m \u001b[49m\u001b[43mmin_count\u001b[49m\u001b[43m,\u001b[49m\u001b[43m \u001b[49m\u001b[38;5;241;43m*\u001b[39;49m\u001b[38;5;241;43m*\u001b[39;49m\u001b[43mkwargs\u001b[49m\n\u001b[1;32m  11799\u001b[0m \u001b[43m    \u001b[49m\u001b[43m)\u001b[49m\n",
      "File \u001b[0;32m/opt/conda/lib/python3.10/site-packages/pandas/core/generic.py:11501\u001b[0m, in \u001b[0;36mNDFrame.sum\u001b[0;34m(self, axis, skipna, level, numeric_only, min_count, **kwargs)\u001b[0m\n\u001b[1;32m  11492\u001b[0m \u001b[38;5;28;01mdef\u001b[39;00m \u001b[38;5;21msum\u001b[39m(\n\u001b[1;32m  11493\u001b[0m     \u001b[38;5;28mself\u001b[39m,\n\u001b[1;32m  11494\u001b[0m     axis: Axis \u001b[38;5;241m|\u001b[39m \u001b[38;5;28;01mNone\u001b[39;00m \u001b[38;5;241m=\u001b[39m \u001b[38;5;28;01mNone\u001b[39;00m,\n\u001b[0;32m   (...)\u001b[0m\n\u001b[1;32m  11499\u001b[0m     \u001b[38;5;241m*\u001b[39m\u001b[38;5;241m*\u001b[39mkwargs,\n\u001b[1;32m  11500\u001b[0m ):\n\u001b[0;32m> 11501\u001b[0m     \u001b[38;5;28;01mreturn\u001b[39;00m \u001b[38;5;28;43mself\u001b[39;49m\u001b[38;5;241;43m.\u001b[39;49m\u001b[43m_min_count_stat_function\u001b[49m\u001b[43m(\u001b[49m\n\u001b[1;32m  11502\u001b[0m \u001b[43m        \u001b[49m\u001b[38;5;124;43m\"\u001b[39;49m\u001b[38;5;124;43msum\u001b[39;49m\u001b[38;5;124;43m\"\u001b[39;49m\u001b[43m,\u001b[49m\u001b[43m \u001b[49m\u001b[43mnanops\u001b[49m\u001b[38;5;241;43m.\u001b[39;49m\u001b[43mnansum\u001b[49m\u001b[43m,\u001b[49m\u001b[43m \u001b[49m\u001b[43maxis\u001b[49m\u001b[43m,\u001b[49m\u001b[43m \u001b[49m\u001b[43mskipna\u001b[49m\u001b[43m,\u001b[49m\u001b[43m \u001b[49m\u001b[43mlevel\u001b[49m\u001b[43m,\u001b[49m\u001b[43m \u001b[49m\u001b[43mnumeric_only\u001b[49m\u001b[43m,\u001b[49m\u001b[43m \u001b[49m\u001b[43mmin_count\u001b[49m\u001b[43m,\u001b[49m\u001b[43m \u001b[49m\u001b[38;5;241;43m*\u001b[39;49m\u001b[38;5;241;43m*\u001b[39;49m\u001b[43mkwargs\u001b[49m\n\u001b[1;32m  11503\u001b[0m \u001b[43m    \u001b[49m\u001b[43m)\u001b[49m\n",
      "File \u001b[0;32m/opt/conda/lib/python3.10/site-packages/pandas/core/generic.py:11483\u001b[0m, in \u001b[0;36mNDFrame._min_count_stat_function\u001b[0;34m(self, name, func, axis, skipna, level, numeric_only, min_count, **kwargs)\u001b[0m\n\u001b[1;32m  11467\u001b[0m     warnings\u001b[38;5;241m.\u001b[39mwarn(\n\u001b[1;32m  11468\u001b[0m         \u001b[38;5;124m\"\u001b[39m\u001b[38;5;124mUsing the level keyword in DataFrame and Series aggregations is \u001b[39m\u001b[38;5;124m\"\u001b[39m\n\u001b[1;32m  11469\u001b[0m         \u001b[38;5;124m\"\u001b[39m\u001b[38;5;124mdeprecated and will be removed in a future version. Use groupby \u001b[39m\u001b[38;5;124m\"\u001b[39m\n\u001b[0;32m   (...)\u001b[0m\n\u001b[1;32m  11472\u001b[0m         stacklevel\u001b[38;5;241m=\u001b[39mfind_stack_level(),\n\u001b[1;32m  11473\u001b[0m     )\n\u001b[1;32m  11474\u001b[0m     \u001b[38;5;28;01mreturn\u001b[39;00m \u001b[38;5;28mself\u001b[39m\u001b[38;5;241m.\u001b[39m_agg_by_level(\n\u001b[1;32m  11475\u001b[0m         name,\n\u001b[1;32m  11476\u001b[0m         axis\u001b[38;5;241m=\u001b[39maxis,\n\u001b[0;32m   (...)\u001b[0m\n\u001b[1;32m  11480\u001b[0m         numeric_only\u001b[38;5;241m=\u001b[39mnumeric_only,\n\u001b[1;32m  11481\u001b[0m     )\n\u001b[0;32m> 11483\u001b[0m \u001b[38;5;28;01mreturn\u001b[39;00m \u001b[38;5;28;43mself\u001b[39;49m\u001b[38;5;241;43m.\u001b[39;49m\u001b[43m_reduce\u001b[49m\u001b[43m(\u001b[49m\n\u001b[1;32m  11484\u001b[0m \u001b[43m    \u001b[49m\u001b[43mfunc\u001b[49m\u001b[43m,\u001b[49m\n\u001b[1;32m  11485\u001b[0m \u001b[43m    \u001b[49m\u001b[43mname\u001b[49m\u001b[38;5;241;43m=\u001b[39;49m\u001b[43mname\u001b[49m\u001b[43m,\u001b[49m\n\u001b[1;32m  11486\u001b[0m \u001b[43m    \u001b[49m\u001b[43maxis\u001b[49m\u001b[38;5;241;43m=\u001b[39;49m\u001b[43maxis\u001b[49m\u001b[43m,\u001b[49m\n\u001b[1;32m  11487\u001b[0m \u001b[43m    \u001b[49m\u001b[43mskipna\u001b[49m\u001b[38;5;241;43m=\u001b[39;49m\u001b[43mskipna\u001b[49m\u001b[43m,\u001b[49m\n\u001b[1;32m  11488\u001b[0m \u001b[43m    \u001b[49m\u001b[43mnumeric_only\u001b[49m\u001b[38;5;241;43m=\u001b[39;49m\u001b[43mnumeric_only\u001b[49m\u001b[43m,\u001b[49m\n\u001b[1;32m  11489\u001b[0m \u001b[43m    \u001b[49m\u001b[43mmin_count\u001b[49m\u001b[38;5;241;43m=\u001b[39;49m\u001b[43mmin_count\u001b[49m\u001b[43m,\u001b[49m\n\u001b[1;32m  11490\u001b[0m \u001b[43m\u001b[49m\u001b[43m)\u001b[49m\n",
      "File \u001b[0;32m/opt/conda/lib/python3.10/site-packages/pandas/core/series.py:4793\u001b[0m, in \u001b[0;36mSeries._reduce\u001b[0;34m(self, op, name, axis, skipna, numeric_only, filter_type, **kwds)\u001b[0m\n\u001b[1;32m   4790\u001b[0m delegate \u001b[38;5;241m=\u001b[39m \u001b[38;5;28mself\u001b[39m\u001b[38;5;241m.\u001b[39m_values\n\u001b[1;32m   4792\u001b[0m \u001b[38;5;28;01mif\u001b[39;00m axis \u001b[38;5;129;01mis\u001b[39;00m \u001b[38;5;129;01mnot\u001b[39;00m \u001b[38;5;28;01mNone\u001b[39;00m:\n\u001b[0;32m-> 4793\u001b[0m     \u001b[38;5;28;43mself\u001b[39;49m\u001b[38;5;241;43m.\u001b[39;49m\u001b[43m_get_axis_number\u001b[49m\u001b[43m(\u001b[49m\u001b[43maxis\u001b[49m\u001b[43m)\u001b[49m\n\u001b[1;32m   4795\u001b[0m \u001b[38;5;28;01mif\u001b[39;00m \u001b[38;5;28misinstance\u001b[39m(delegate, ExtensionArray):\n\u001b[1;32m   4796\u001b[0m     \u001b[38;5;66;03m# dispatch to ExtensionArray interface\u001b[39;00m\n\u001b[1;32m   4797\u001b[0m     \u001b[38;5;28;01mreturn\u001b[39;00m delegate\u001b[38;5;241m.\u001b[39m_reduce(name, skipna\u001b[38;5;241m=\u001b[39mskipna, \u001b[38;5;241m*\u001b[39m\u001b[38;5;241m*\u001b[39mkwds)\n",
      "File \u001b[0;32m/opt/conda/lib/python3.10/site-packages/pandas/core/generic.py:554\u001b[0m, in \u001b[0;36mNDFrame._get_axis_number\u001b[0;34m(cls, axis)\u001b[0m\n\u001b[1;32m    550\u001b[0m \u001b[38;5;129m@final\u001b[39m\n\u001b[1;32m    551\u001b[0m \u001b[38;5;129m@classmethod\u001b[39m\n\u001b[1;32m    552\u001b[0m \u001b[38;5;28;01mdef\u001b[39;00m \u001b[38;5;21m_get_axis_number\u001b[39m(\u001b[38;5;28mcls\u001b[39m, axis: Axis) \u001b[38;5;241m-\u001b[39m\u001b[38;5;241m>\u001b[39m \u001b[38;5;28mint\u001b[39m:\n\u001b[1;32m    553\u001b[0m     \u001b[38;5;28;01mtry\u001b[39;00m:\n\u001b[0;32m--> 554\u001b[0m         \u001b[38;5;28;01mreturn\u001b[39;00m \u001b[38;5;28;43mcls\u001b[39;49m\u001b[38;5;241;43m.\u001b[39;49m\u001b[43m_AXIS_TO_AXIS_NUMBER\u001b[49m\u001b[43m[\u001b[49m\u001b[43maxis\u001b[49m\u001b[43m]\u001b[49m\n\u001b[1;32m    555\u001b[0m     \u001b[38;5;28;01mexcept\u001b[39;00m \u001b[38;5;167;01mKeyError\u001b[39;00m:\n\u001b[1;32m    556\u001b[0m         \u001b[38;5;28;01mraise\u001b[39;00m \u001b[38;5;167;01mValueError\u001b[39;00m(\u001b[38;5;124mf\u001b[39m\u001b[38;5;124m\"\u001b[39m\u001b[38;5;124mNo axis named \u001b[39m\u001b[38;5;132;01m{\u001b[39;00maxis\u001b[38;5;132;01m}\u001b[39;00m\u001b[38;5;124m for object type \u001b[39m\u001b[38;5;132;01m{\u001b[39;00m\u001b[38;5;28mcls\u001b[39m\u001b[38;5;241m.\u001b[39m\u001b[38;5;18m__name__\u001b[39m\u001b[38;5;132;01m}\u001b[39;00m\u001b[38;5;124m\"\u001b[39m)\n",
      "\u001b[0;31mTypeError\u001b[0m: unhashable type: 'list'"
     ]
    }
   ],
   "source": [
    "gecounts.loc['gender','ethnicity'] = gecounts.sum(['artistcount'])"
   ]
  },
  {
   "cell_type": "code",
   "execution_count": 14,
   "id": "bd5edd5f",
   "metadata": {},
   "outputs": [
    {
     "ename": "NameError",
     "evalue": "name 'axis' is not defined",
     "output_type": "error",
     "traceback": [
      "\u001b[0;31m---------------------------------------------------------------------------\u001b[0m",
      "\u001b[0;31mNameError\u001b[0m                                 Traceback (most recent call last)",
      "Cell \u001b[0;32mIn[14], line 2\u001b[0m\n\u001b[1;32m      1\u001b[0m index \u001b[38;5;241m=\u001b[39m [\u001b[38;5;124m'\u001b[39m\u001b[38;5;124martistcount\u001b[39m\u001b[38;5;124m'\u001b[39m]\n\u001b[0;32m----> 2\u001b[0m \u001b[43maxis\u001b[49m \u001b[38;5;241m==\u001b[39m none\n\u001b[1;32m      3\u001b[0m gecounts\u001b[38;5;241m.\u001b[39msum(index\u001b[38;5;241m==\u001b[39m[\u001b[38;5;124m'\u001b[39m\u001b[38;5;124martistcount\u001b[39m\u001b[38;5;124m'\u001b[39m])\n",
      "\u001b[0;31mNameError\u001b[0m: name 'axis' is not defined"
     ]
    }
   ],
   "source": [
    "index = ['artistcount']\n",
    "axis\n",
    "gecounts.sum(index==['artistcount'])"
   ]
  },
  {
   "cell_type": "code",
   "execution_count": 18,
   "id": "50e06a98",
   "metadata": {},
   "outputs": [
    {
     "data": {
      "text/plain": [
       "gender  ethnicity\n",
       "man     asian        ShA>saku ArakawaNorio ArumaTsuchida BakusenEri...\n",
       "        black        Yinka ShonibareMelvin EdwardsSam GilliamOlowe ...\n",
       "        hispanic     Emilio AmeroHumberto AquinoLuis ArenalJesAos G...\n",
       "        other        Siah ArmajaniBig BowKananginakJacob KoopeeLawr...\n",
       "        white        Gordon C. AbbottSigmund AbelesAlbrecht AdamArc...\n",
       "woman   asian        Keiko HaraYukio ShimizuXu HualingSuzan Sakasho...\n",
       "        black        Lorna SimpsonShinique SmithCarrie Mae WeemsJoy...\n",
       "        hispanic     Virginia BeldaAlicia PenalbaNorma Lopez SaenzC...\n",
       "        other        Charlette BegayAlice ClingAlma LorettoPam Luja...\n",
       "        white        Anna Kirstine AncherLutz BacherCatarina Bremse...\n",
       "Name: artist, dtype: object"
      ]
     },
     "execution_count": 18,
     "metadata": {},
     "output_type": "execute_result"
    }
   ],
   "source": [
    "df.groupby(['gender','ethnicity'])['artist'].sum()"
   ]
  },
  {
   "cell_type": "code",
   "execution_count": 41,
   "id": "bf24a877",
   "metadata": {},
   "outputs": [
    {
     "ename": "NameError",
     "evalue": "name 'columns' is not defined",
     "output_type": "error",
     "traceback": [
      "\u001b[0;31m---------------------------------------------------------------------------\u001b[0m",
      "\u001b[0;31mNameError\u001b[0m                                 Traceback (most recent call last)",
      "Cell \u001b[0;32mIn[41], line 3\u001b[0m\n\u001b[1;32m      1\u001b[0m x \u001b[38;5;241m=\u001b[39m df\u001b[38;5;241m.\u001b[39mgroupby([\u001b[38;5;124m'\u001b[39m\u001b[38;5;124mgender\u001b[39m\u001b[38;5;124m'\u001b[39m,\u001b[38;5;124m'\u001b[39m\u001b[38;5;124methnicity\u001b[39m\u001b[38;5;124m'\u001b[39m])[\u001b[38;5;124m'\u001b[39m\u001b[38;5;124martist\u001b[39m\u001b[38;5;124m'\u001b[39m]\u001b[38;5;241m.\u001b[39mcount()\n\u001b[1;32m      2\u001b[0m x \u001b[38;5;241m=\u001b[39m x\u001b[38;5;241m.\u001b[39mto_frame()\u001b[38;5;241m.\u001b[39mreset_index()\u001b[38;5;241m.\u001b[39mrename(columns\u001b[38;5;241m=\u001b[39m{\u001b[38;5;124m'\u001b[39m\u001b[38;5;124martist\u001b[39m\u001b[38;5;124m'\u001b[39m:\u001b[38;5;124m'\u001b[39m\u001b[38;5;124martistcount\u001b[39m\u001b[38;5;124m'\u001b[39m})\n\u001b[0;32m----> 3\u001b[0m \u001b[43mcolumns\u001b[49m\u001b[38;5;241m==\u001b[39m[\u001b[38;5;124m'\u001b[39m\u001b[38;5;124martistcount\u001b[39m\u001b[38;5;124m'\u001b[39m]\n\u001b[1;32m      4\u001b[0m x\u001b[38;5;241m.\u001b[39msum(columns)\n",
      "\u001b[0;31mNameError\u001b[0m: name 'columns' is not defined"
     ]
    }
   ],
   "source": [
    "x = df.groupby(['gender','ethnicity'])['artist'].count()\n",
    "x = x.to_frame().reset_index().rename(columns={'artist':'artistcount'})\n",
    "columns==['artistcount']\n",
    "x.sum(columns)"
   ]
  },
  {
   "cell_type": "code",
   "execution_count": 72,
   "id": "5dba69b3",
   "metadata": {},
   "outputs": [
    {
     "ename": "TypeError",
     "evalue": "'DataFrame' object is not callable",
     "output_type": "error",
     "traceback": [
      "\u001b[0;31m---------------------------------------------------------------------------\u001b[0m",
      "\u001b[0;31mTypeError\u001b[0m                                 Traceback (most recent call last)",
      "Cell \u001b[0;32mIn[72], line 1\u001b[0m\n\u001b[0;32m----> 1\u001b[0m \u001b[43mx\u001b[49m\u001b[43m(\u001b[49m\u001b[43m[\u001b[49m\u001b[38;5;124;43m'\u001b[39;49m\u001b[38;5;124;43mgender\u001b[39;49m\u001b[38;5;124;43m'\u001b[39;49m\u001b[43m,\u001b[49m\u001b[38;5;124;43m'\u001b[39;49m\u001b[38;5;124;43methnicity\u001b[39;49m\u001b[38;5;124;43m'\u001b[39;49m\u001b[43m]\u001b[49m\u001b[43m)\u001b[49m\u001b[38;5;241m.\u001b[39mcount([\u001b[38;5;124m'\u001b[39m\u001b[38;5;124martistcount\u001b[39m\u001b[38;5;124m'\u001b[39m])\n",
      "\u001b[0;31mTypeError\u001b[0m: 'DataFrame' object is not callable"
     ]
    }
   ],
   "source": [
    "x(['gender','ethnicity']).count(['artistcount'])"
   ]
  },
  {
   "cell_type": "code",
   "execution_count": 94,
   "id": "a07df2a0",
   "metadata": {},
   "outputs": [
    {
     "ename": "ValueError",
     "evalue": "No axis named white for object type DataFrame",
     "output_type": "error",
     "traceback": [
      "\u001b[0;31m---------------------------------------------------------------------------\u001b[0m",
      "\u001b[0;31mKeyError\u001b[0m                                  Traceback (most recent call last)",
      "File \u001b[0;32m/opt/conda/lib/python3.10/site-packages/pandas/core/generic.py:554\u001b[0m, in \u001b[0;36mNDFrame._get_axis_number\u001b[0;34m(cls, axis)\u001b[0m\n\u001b[1;32m    553\u001b[0m \u001b[38;5;28;01mtry\u001b[39;00m:\n\u001b[0;32m--> 554\u001b[0m     \u001b[38;5;28;01mreturn\u001b[39;00m \u001b[38;5;28;43mcls\u001b[39;49m\u001b[38;5;241;43m.\u001b[39;49m\u001b[43m_AXIS_TO_AXIS_NUMBER\u001b[49m\u001b[43m[\u001b[49m\u001b[43maxis\u001b[49m\u001b[43m]\u001b[49m\n\u001b[1;32m    555\u001b[0m \u001b[38;5;28;01mexcept\u001b[39;00m \u001b[38;5;167;01mKeyError\u001b[39;00m:\n",
      "\u001b[0;31mKeyError\u001b[0m: 'white'",
      "\nDuring handling of the above exception, another exception occurred:\n",
      "\u001b[0;31mValueError\u001b[0m                                Traceback (most recent call last)",
      "Cell \u001b[0;32mIn[94], line 1\u001b[0m\n\u001b[0;32m----> 1\u001b[0m \u001b[43mx\u001b[49m\u001b[38;5;241;43m.\u001b[39;49m\u001b[43mcount\u001b[49m\u001b[43m(\u001b[49m\u001b[38;5;124;43m'\u001b[39;49m\u001b[38;5;124;43mwhite\u001b[39;49m\u001b[38;5;124;43m'\u001b[39;49m\u001b[43m)\u001b[49m\n",
      "File \u001b[0;32m/opt/conda/lib/python3.10/site-packages/pandas/core/frame.py:10688\u001b[0m, in \u001b[0;36mDataFrame.count\u001b[0;34m(self, axis, level, numeric_only)\u001b[0m\n\u001b[1;32m  10620\u001b[0m \u001b[38;5;28;01mdef\u001b[39;00m \u001b[38;5;21mcount\u001b[39m(\u001b[38;5;28mself\u001b[39m, axis: Axis \u001b[38;5;241m=\u001b[39m \u001b[38;5;241m0\u001b[39m, level: Level \u001b[38;5;241m=\u001b[39m \u001b[38;5;28;01mNone\u001b[39;00m, numeric_only: \u001b[38;5;28mbool\u001b[39m \u001b[38;5;241m=\u001b[39m \u001b[38;5;28;01mFalse\u001b[39;00m):\n\u001b[1;32m  10621\u001b[0m \u001b[38;5;250m    \u001b[39m\u001b[38;5;124;03m\"\"\"\u001b[39;00m\n\u001b[1;32m  10622\u001b[0m \u001b[38;5;124;03m    Count non-NA cells for each column or row.\u001b[39;00m\n\u001b[1;32m  10623\u001b[0m \n\u001b[0;32m   (...)\u001b[0m\n\u001b[1;32m  10686\u001b[0m \u001b[38;5;124;03m    dtype: int64\u001b[39;00m\n\u001b[1;32m  10687\u001b[0m \u001b[38;5;124;03m    \"\"\"\u001b[39;00m\n\u001b[0;32m> 10688\u001b[0m     axis \u001b[38;5;241m=\u001b[39m \u001b[38;5;28;43mself\u001b[39;49m\u001b[38;5;241;43m.\u001b[39;49m\u001b[43m_get_axis_number\u001b[49m\u001b[43m(\u001b[49m\u001b[43maxis\u001b[49m\u001b[43m)\u001b[49m\n\u001b[1;32m  10689\u001b[0m     \u001b[38;5;28;01mif\u001b[39;00m level \u001b[38;5;129;01mis\u001b[39;00m \u001b[38;5;129;01mnot\u001b[39;00m \u001b[38;5;28;01mNone\u001b[39;00m:\n\u001b[1;32m  10690\u001b[0m         warnings\u001b[38;5;241m.\u001b[39mwarn(\n\u001b[1;32m  10691\u001b[0m             \u001b[38;5;124m\"\u001b[39m\u001b[38;5;124mUsing the level keyword in DataFrame and Series aggregations is \u001b[39m\u001b[38;5;124m\"\u001b[39m\n\u001b[1;32m  10692\u001b[0m             \u001b[38;5;124m\"\u001b[39m\u001b[38;5;124mdeprecated and will be removed in a future version. Use groupby \u001b[39m\u001b[38;5;124m\"\u001b[39m\n\u001b[0;32m   (...)\u001b[0m\n\u001b[1;32m  10695\u001b[0m             stacklevel\u001b[38;5;241m=\u001b[39mfind_stack_level(),\n\u001b[1;32m  10696\u001b[0m         )\n",
      "File \u001b[0;32m/opt/conda/lib/python3.10/site-packages/pandas/core/generic.py:556\u001b[0m, in \u001b[0;36mNDFrame._get_axis_number\u001b[0;34m(cls, axis)\u001b[0m\n\u001b[1;32m    554\u001b[0m     \u001b[38;5;28;01mreturn\u001b[39;00m \u001b[38;5;28mcls\u001b[39m\u001b[38;5;241m.\u001b[39m_AXIS_TO_AXIS_NUMBER[axis]\n\u001b[1;32m    555\u001b[0m \u001b[38;5;28;01mexcept\u001b[39;00m \u001b[38;5;167;01mKeyError\u001b[39;00m:\n\u001b[0;32m--> 556\u001b[0m     \u001b[38;5;28;01mraise\u001b[39;00m \u001b[38;5;167;01mValueError\u001b[39;00m(\u001b[38;5;124mf\u001b[39m\u001b[38;5;124m\"\u001b[39m\u001b[38;5;124mNo axis named \u001b[39m\u001b[38;5;132;01m{\u001b[39;00maxis\u001b[38;5;132;01m}\u001b[39;00m\u001b[38;5;124m for object type \u001b[39m\u001b[38;5;132;01m{\u001b[39;00m\u001b[38;5;28mcls\u001b[39m\u001b[38;5;241m.\u001b[39m\u001b[38;5;18m__name__\u001b[39m\u001b[38;5;132;01m}\u001b[39;00m\u001b[38;5;124m\"\u001b[39m)\n",
      "\u001b[0;31mValueError\u001b[0m: No axis named white for object type DataFrame"
     ]
    }
   ],
   "source": [
    "x.count('white')"
   ]
  },
  {
   "cell_type": "code",
   "execution_count": 43,
   "id": "cd3137c7",
   "metadata": {},
   "outputs": [
    {
     "data": {
      "text/plain": [
       "0.8737103304166123"
      ]
     },
     "execution_count": 43,
     "metadata": {},
     "output_type": "execute_result"
    }
   ],
   "source": [
    "# Percentage of men in U.S. Museums\n",
    "6690/7657"
   ]
  },
  {
   "cell_type": "code",
   "execution_count": 59,
   "id": "ae2dc8b7",
   "metadata": {},
   "outputs": [
    {
     "data": {
      "text/plain": [
       "0.7581298158547735"
      ]
     },
     "execution_count": 59,
     "metadata": {},
     "output_type": "execute_result"
    }
   ],
   "source": [
    "# Percentage of white men in U.S. Museums\n",
    "5805/7657"
   ]
  },
  {
   "cell_type": "code",
   "execution_count": 44,
   "id": "61e0cd7d",
   "metadata": {},
   "outputs": [
    {
     "data": {
      "text/plain": [
       "0.12628966958338775"
      ]
     },
     "execution_count": 44,
     "metadata": {},
     "output_type": "execute_result"
    }
   ],
   "source": [
    "# Percentage of women in U.S. Museums\n",
    "967/7657"
   ]
  },
  {
   "cell_type": "code",
   "execution_count": 46,
   "id": "d417a59a",
   "metadata": {},
   "outputs": [
    {
     "data": {
      "text/plain": [
       "0.10983413869661747"
      ]
     },
     "execution_count": 46,
     "metadata": {},
     "output_type": "execute_result"
    }
   ],
   "source": [
    "# Percentage of white women in U.S. Museums\n",
    "841/7657"
   ]
  },
  {
   "cell_type": "code",
   "execution_count": 45,
   "id": "5a560ff6",
   "metadata": {},
   "outputs": [
    {
     "data": {
      "text/plain": [
       "0.011884550084889643"
      ]
     },
     "execution_count": 45,
     "metadata": {},
     "output_type": "execute_result"
    }
   ],
   "source": [
    "# Percentage of black, asian, and hispanic women in U.S. Museums\n",
    "91/7657"
   ]
  },
  {
   "cell_type": "markdown",
   "id": "75b2487e",
   "metadata": {},
   "source": [
    "# Finished visualizations:"
   ]
  },
  {
   "cell_type": "code",
   "execution_count": 61,
   "id": "3341fd01-ebea-4373-9ec5-eee134ec9a47",
   "metadata": {},
   "outputs": [
    {
     "data": {
      "image/png": "[encoded data removed]",
      "text/plain": [
       "<Figure size 432x288 with 1 Axes>"
      ]
     },
     "metadata": {
      "needs_background": "light"
     },
     "output_type": "display_data"
    }
   ],
   "source": [
    "# This shows woman representation vs time\n",
    "# but doesn't indicate count relative to other gender values\n",
    "\n",
    "df.loc[df['gender'] == 'woman',['year']].plot(kind='hist')\n",
    "plt.title('Histogram of Women Artists in U.S. Museums from 1500-1910')\n",
    "plt.xlabel('Year')\n",
    "plt.ylabel('Count of Artists')\n",
    "plt.show()"
   ]
  },
  {
   "cell_type": "code",
   "execution_count": null,
   "id": "593f30e9-73b9-45d1-ac4d-c7b30ca775d8",
   "metadata": {},
   "outputs": [],
   "source": [
    "# Look at the evolution of women representation from 1810-1910\n",
    "# Look at the evolution of what percentage of each time window is women\n",
    "# and compare against men representation over the same time frame\n",
    "\n"
   ]
  },
  {
   "cell_type": "code",
   "execution_count": 49,
   "id": "14e589f5-74e3-43fe-a076-fcd60aac3aef",
   "metadata": {},
   "outputs": [
    {
     "data": {
      "text/plain": [
       "<seaborn.axisgrid.FacetGrid at 0x7f34da55eda0>"
      ]
     },
     "execution_count": 49,
     "metadata": {},
     "output_type": "execute_result"
    },
    {
     "data": {
      "image/png": "[encoded data removed]",
      "text/plain": [
       "<Figure size 1000x500 with 2 Axes>"
      ]
     },
     "metadata": {},
     "output_type": "display_data"
    }
   ],
   "source": [
    "# Look at the evolution of white representation from 1810-1910\n",
    "# Look at the evolution of what percentage of each time window is that ethnicity\n",
    "# and compare against evolution of other ethnicity over the same time frame\n",
    "\n",
    "import seaborn as sns\n",
    "sns.catplot(data=df, \n",
    "            x='ethnicity',\n",
    "            col='gender', \n",
    "            kind='count')"
   ]
  },
  {
   "cell_type": "code",
   "execution_count": null,
   "id": "4d040065",
   "metadata": {},
   "outputs": [],
   "source": []
  }
 ],
 "metadata": {
  "kernelspec": {
   "display_name": "Python 3 (ipykernel)",
   "language": "python",
   "name": "python3"
  },
  "language_info": {
   "codemirror_mode": {
    "name": "ipython",
    "version": 3
   },
   "file_extension": ".py",
   "mimetype": "text/x-python",
   "name": "python",
   "nbconvert_exporter": "python",
   "pygments_lexer": "ipython3",
   "version": "3.10.8"
  }
 },
 "nbformat": 4,
 "nbformat_minor": 5
}
